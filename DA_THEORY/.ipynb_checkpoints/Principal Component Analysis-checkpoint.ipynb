{
 "cells": [
  {
   "cell_type": "code",
   "execution_count": 1,
   "id": "7e758caa",
   "metadata": {},
   "outputs": [],
   "source": [
    "import numpy as np\n",
    "import pandas as pd\n",
    "from sklearn.model_selection import cross_val_score\n",
    "from sklearn.preprocessing import LabelEncoder\n",
    "from sklearn.decomposition import PCA\n",
    "import matplotlib.pyplot as plt\n",
    "from sklearn import metrics\n",
    "from sklearn import linear_model\n",
    "from sklearn.model_selection import train_test_split\n",
    "import time"
   ]
  },
  {
   "cell_type": "code",
   "execution_count": 2,
   "id": "9be5b008",
   "metadata": {},
   "outputs": [
    {
     "data": {
      "text/html": [
       "<div>\n",
       "<style scoped>\n",
       "    .dataframe tbody tr th:only-of-type {\n",
       "        vertical-align: middle;\n",
       "    }\n",
       "\n",
       "    .dataframe tbody tr th {\n",
       "        vertical-align: top;\n",
       "    }\n",
       "\n",
       "    .dataframe thead th {\n",
       "        text-align: right;\n",
       "    }\n",
       "</style>\n",
       "<table border=\"1\" class=\"dataframe\">\n",
       "  <thead>\n",
       "    <tr style=\"text-align: right;\">\n",
       "      <th></th>\n",
       "      <th>age</th>\n",
       "      <th>Medu</th>\n",
       "      <th>Fedu</th>\n",
       "      <th>traveltime</th>\n",
       "      <th>studytime</th>\n",
       "      <th>failures</th>\n",
       "      <th>famrel</th>\n",
       "      <th>freetime</th>\n",
       "      <th>goout</th>\n",
       "      <th>Dalc</th>\n",
       "      <th>Walc</th>\n",
       "      <th>health</th>\n",
       "      <th>absences</th>\n",
       "      <th>G1</th>\n",
       "      <th>G2</th>\n",
       "      <th>G3</th>\n",
       "    </tr>\n",
       "  </thead>\n",
       "  <tbody>\n",
       "    <tr>\n",
       "      <th>count</th>\n",
       "      <td>395.000000</td>\n",
       "      <td>395.000000</td>\n",
       "      <td>395.000000</td>\n",
       "      <td>395.000000</td>\n",
       "      <td>395.000000</td>\n",
       "      <td>395.000000</td>\n",
       "      <td>395.000000</td>\n",
       "      <td>395.000000</td>\n",
       "      <td>395.000000</td>\n",
       "      <td>395.000000</td>\n",
       "      <td>395.000000</td>\n",
       "      <td>395.000000</td>\n",
       "      <td>395.000000</td>\n",
       "      <td>395.000000</td>\n",
       "      <td>395.000000</td>\n",
       "      <td>395.000000</td>\n",
       "    </tr>\n",
       "    <tr>\n",
       "      <th>mean</th>\n",
       "      <td>16.696203</td>\n",
       "      <td>2.749367</td>\n",
       "      <td>2.521519</td>\n",
       "      <td>1.448101</td>\n",
       "      <td>2.035443</td>\n",
       "      <td>0.334177</td>\n",
       "      <td>3.944304</td>\n",
       "      <td>3.235443</td>\n",
       "      <td>3.108861</td>\n",
       "      <td>1.481013</td>\n",
       "      <td>2.291139</td>\n",
       "      <td>3.554430</td>\n",
       "      <td>5.708861</td>\n",
       "      <td>10.908861</td>\n",
       "      <td>10.713924</td>\n",
       "      <td>10.415190</td>\n",
       "    </tr>\n",
       "    <tr>\n",
       "      <th>std</th>\n",
       "      <td>1.276043</td>\n",
       "      <td>1.094735</td>\n",
       "      <td>1.088201</td>\n",
       "      <td>0.697505</td>\n",
       "      <td>0.839240</td>\n",
       "      <td>0.743651</td>\n",
       "      <td>0.896659</td>\n",
       "      <td>0.998862</td>\n",
       "      <td>1.113278</td>\n",
       "      <td>0.890741</td>\n",
       "      <td>1.287897</td>\n",
       "      <td>1.390303</td>\n",
       "      <td>8.003096</td>\n",
       "      <td>3.319195</td>\n",
       "      <td>3.761505</td>\n",
       "      <td>4.581443</td>\n",
       "    </tr>\n",
       "    <tr>\n",
       "      <th>min</th>\n",
       "      <td>15.000000</td>\n",
       "      <td>0.000000</td>\n",
       "      <td>0.000000</td>\n",
       "      <td>1.000000</td>\n",
       "      <td>1.000000</td>\n",
       "      <td>0.000000</td>\n",
       "      <td>1.000000</td>\n",
       "      <td>1.000000</td>\n",
       "      <td>1.000000</td>\n",
       "      <td>1.000000</td>\n",
       "      <td>1.000000</td>\n",
       "      <td>1.000000</td>\n",
       "      <td>0.000000</td>\n",
       "      <td>3.000000</td>\n",
       "      <td>0.000000</td>\n",
       "      <td>0.000000</td>\n",
       "    </tr>\n",
       "    <tr>\n",
       "      <th>25%</th>\n",
       "      <td>16.000000</td>\n",
       "      <td>2.000000</td>\n",
       "      <td>2.000000</td>\n",
       "      <td>1.000000</td>\n",
       "      <td>1.000000</td>\n",
       "      <td>0.000000</td>\n",
       "      <td>4.000000</td>\n",
       "      <td>3.000000</td>\n",
       "      <td>2.000000</td>\n",
       "      <td>1.000000</td>\n",
       "      <td>1.000000</td>\n",
       "      <td>3.000000</td>\n",
       "      <td>0.000000</td>\n",
       "      <td>8.000000</td>\n",
       "      <td>9.000000</td>\n",
       "      <td>8.000000</td>\n",
       "    </tr>\n",
       "    <tr>\n",
       "      <th>50%</th>\n",
       "      <td>17.000000</td>\n",
       "      <td>3.000000</td>\n",
       "      <td>2.000000</td>\n",
       "      <td>1.000000</td>\n",
       "      <td>2.000000</td>\n",
       "      <td>0.000000</td>\n",
       "      <td>4.000000</td>\n",
       "      <td>3.000000</td>\n",
       "      <td>3.000000</td>\n",
       "      <td>1.000000</td>\n",
       "      <td>2.000000</td>\n",
       "      <td>4.000000</td>\n",
       "      <td>4.000000</td>\n",
       "      <td>11.000000</td>\n",
       "      <td>11.000000</td>\n",
       "      <td>11.000000</td>\n",
       "    </tr>\n",
       "    <tr>\n",
       "      <th>75%</th>\n",
       "      <td>18.000000</td>\n",
       "      <td>4.000000</td>\n",
       "      <td>3.000000</td>\n",
       "      <td>2.000000</td>\n",
       "      <td>2.000000</td>\n",
       "      <td>0.000000</td>\n",
       "      <td>5.000000</td>\n",
       "      <td>4.000000</td>\n",
       "      <td>4.000000</td>\n",
       "      <td>2.000000</td>\n",
       "      <td>3.000000</td>\n",
       "      <td>5.000000</td>\n",
       "      <td>8.000000</td>\n",
       "      <td>13.000000</td>\n",
       "      <td>13.000000</td>\n",
       "      <td>14.000000</td>\n",
       "    </tr>\n",
       "    <tr>\n",
       "      <th>max</th>\n",
       "      <td>22.000000</td>\n",
       "      <td>4.000000</td>\n",
       "      <td>4.000000</td>\n",
       "      <td>4.000000</td>\n",
       "      <td>4.000000</td>\n",
       "      <td>3.000000</td>\n",
       "      <td>5.000000</td>\n",
       "      <td>5.000000</td>\n",
       "      <td>5.000000</td>\n",
       "      <td>5.000000</td>\n",
       "      <td>5.000000</td>\n",
       "      <td>5.000000</td>\n",
       "      <td>75.000000</td>\n",
       "      <td>19.000000</td>\n",
       "      <td>19.000000</td>\n",
       "      <td>20.000000</td>\n",
       "    </tr>\n",
       "  </tbody>\n",
       "</table>\n",
       "</div>"
      ],
      "text/plain": [
       "              age        Medu        Fedu  traveltime   studytime    failures  \\\n",
       "count  395.000000  395.000000  395.000000  395.000000  395.000000  395.000000   \n",
       "mean    16.696203    2.749367    2.521519    1.448101    2.035443    0.334177   \n",
       "std      1.276043    1.094735    1.088201    0.697505    0.839240    0.743651   \n",
       "min     15.000000    0.000000    0.000000    1.000000    1.000000    0.000000   \n",
       "25%     16.000000    2.000000    2.000000    1.000000    1.000000    0.000000   \n",
       "50%     17.000000    3.000000    2.000000    1.000000    2.000000    0.000000   \n",
       "75%     18.000000    4.000000    3.000000    2.000000    2.000000    0.000000   \n",
       "max     22.000000    4.000000    4.000000    4.000000    4.000000    3.000000   \n",
       "\n",
       "           famrel    freetime       goout        Dalc        Walc      health  \\\n",
       "count  395.000000  395.000000  395.000000  395.000000  395.000000  395.000000   \n",
       "mean     3.944304    3.235443    3.108861    1.481013    2.291139    3.554430   \n",
       "std      0.896659    0.998862    1.113278    0.890741    1.287897    1.390303   \n",
       "min      1.000000    1.000000    1.000000    1.000000    1.000000    1.000000   \n",
       "25%      4.000000    3.000000    2.000000    1.000000    1.000000    3.000000   \n",
       "50%      4.000000    3.000000    3.000000    1.000000    2.000000    4.000000   \n",
       "75%      5.000000    4.000000    4.000000    2.000000    3.000000    5.000000   \n",
       "max      5.000000    5.000000    5.000000    5.000000    5.000000    5.000000   \n",
       "\n",
       "         absences          G1          G2          G3  \n",
       "count  395.000000  395.000000  395.000000  395.000000  \n",
       "mean     5.708861   10.908861   10.713924   10.415190  \n",
       "std      8.003096    3.319195    3.761505    4.581443  \n",
       "min      0.000000    3.000000    0.000000    0.000000  \n",
       "25%      0.000000    8.000000    9.000000    8.000000  \n",
       "50%      4.000000   11.000000   11.000000   11.000000  \n",
       "75%      8.000000   13.000000   13.000000   14.000000  \n",
       "max     75.000000   19.000000   19.000000   20.000000  "
      ]
     },
     "execution_count": 2,
     "metadata": {},
     "output_type": "execute_result"
    }
   ],
   "source": [
    "#Students' performance in maths\n",
    "student_data=pd.read_csv(\"student-mat.csv\")\n",
    "student_data.describe()\n"
   ]
  },
  {
   "cell_type": "code",
   "execution_count": 3,
   "id": "606352d2",
   "metadata": {},
   "outputs": [
    {
     "data": {
      "text/plain": [
       "Index(['school', 'sex', 'address', 'famsize', 'Pstatus', 'Mjob', 'Fjob',\n",
       "       'reason', 'guardian', 'schoolsup', 'famsup', 'paid', 'activities',\n",
       "       'nursery', 'higher', 'internet', 'romantic'],\n",
       "      dtype='object')"
      ]
     },
     "execution_count": 3,
     "metadata": {},
     "output_type": "execute_result"
    }
   ],
   "source": [
    "col_str=student_data.columns[student_data.dtypes==object]\n",
    "col_str"
   ]
  },
  {
   "cell_type": "code",
   "execution_count": 4,
   "id": "19837694",
   "metadata": {},
   "outputs": [
    {
     "name": "stdout",
     "output_type": "stream",
     "text": [
      "<class 'pandas.core.frame.DataFrame'>\n",
      "RangeIndex: 395 entries, 0 to 394\n",
      "Data columns (total 42 columns):\n",
      " #   Column             Non-Null Count  Dtype\n",
      "---  ------             --------------  -----\n",
      " 0   age                395 non-null    int64\n",
      " 1   Medu               395 non-null    int64\n",
      " 2   Fedu               395 non-null    int64\n",
      " 3   traveltime         395 non-null    int64\n",
      " 4   studytime          395 non-null    int64\n",
      " 5   failures           395 non-null    int64\n",
      " 6   famrel             395 non-null    int64\n",
      " 7   freetime           395 non-null    int64\n",
      " 8   goout              395 non-null    int64\n",
      " 9   Dalc               395 non-null    int64\n",
      " 10  Walc               395 non-null    int64\n",
      " 11  health             395 non-null    int64\n",
      " 12  absences           395 non-null    int64\n",
      " 13  G1                 395 non-null    int64\n",
      " 14  G2                 395 non-null    int64\n",
      " 15  G3                 395 non-null    int64\n",
      " 16  school_MS          395 non-null    bool \n",
      " 17  sex_M              395 non-null    bool \n",
      " 18  address_U          395 non-null    bool \n",
      " 19  famsize_LE3        395 non-null    bool \n",
      " 20  Pstatus_T          395 non-null    bool \n",
      " 21  Mjob_health        395 non-null    bool \n",
      " 22  Mjob_other         395 non-null    bool \n",
      " 23  Mjob_services      395 non-null    bool \n",
      " 24  Mjob_teacher       395 non-null    bool \n",
      " 25  Fjob_health        395 non-null    bool \n",
      " 26  Fjob_other         395 non-null    bool \n",
      " 27  Fjob_services      395 non-null    bool \n",
      " 28  Fjob_teacher       395 non-null    bool \n",
      " 29  reason_home        395 non-null    bool \n",
      " 30  reason_other       395 non-null    bool \n",
      " 31  reason_reputation  395 non-null    bool \n",
      " 32  guardian_mother    395 non-null    bool \n",
      " 33  guardian_other     395 non-null    bool \n",
      " 34  schoolsup_yes      395 non-null    bool \n",
      " 35  famsup_yes         395 non-null    bool \n",
      " 36  paid_yes           395 non-null    bool \n",
      " 37  activities_yes     395 non-null    bool \n",
      " 38  nursery_yes        395 non-null    bool \n",
      " 39  higher_yes         395 non-null    bool \n",
      " 40  internet_yes       395 non-null    bool \n",
      " 41  romantic_yes       395 non-null    bool \n",
      "dtypes: bool(26), int64(16)\n",
      "memory usage: 59.5 KB\n"
     ]
    }
   ],
   "source": [
    "#Convert each category value into a new column and assign a 1or0(True or False) value to column\n",
    "#This has the benefit of not weighing a value improperly. Simplest method is using pandas.get_dummies() method\n",
    "#drop_first=True reduces extra column creation\n",
    "student_data=pd.get_dummies(student_data,columns=col_str,drop_first=True)\n",
    "student_data.info()"
   ]
  },
  {
   "cell_type": "code",
   "execution_count": 5,
   "id": "6120d7ee",
   "metadata": {},
   "outputs": [
    {
     "name": "stdout",
     "output_type": "stream",
     "text": [
      "          G1        G2        G3\n",
      "G1  1.000000  0.852118  0.801468\n",
      "G2  0.852118  1.000000  0.904868\n",
      "G3  0.801468  0.904868  1.000000\n"
     ]
    }
   ],
   "source": [
    "print(student_data[['G1','G2','G3']].corr())"
   ]
  },
  {
   "cell_type": "code",
   "execution_count": 6,
   "id": "fbcc4a2c",
   "metadata": {},
   "outputs": [
    {
     "data": {
      "text/plain": [
       "(395, 42)"
      ]
     },
     "execution_count": 6,
     "metadata": {},
     "output_type": "execute_result"
    }
   ],
   "source": [
    "#since G1,G2,G3 has very high correlation we can drop G1.G2\n",
    "student_data.drop(axis=1,labels=['G1','G2'])\n",
    "\n",
    "#Drop the G3 column because we want to predict it now\n",
    "label=student_data['G3'].values\n",
    "predictors=student_data.drop(axis=1,labels=['G3']).values\n",
    "student_data.shape"
   ]
  },
  {
   "cell_type": "code",
   "execution_count": 7,
   "id": "406dc93e",
   "metadata": {},
   "outputs": [],
   "source": [
    "#Using Linear Regression to predict grades\n",
    "lr=linear_model.LinearRegression()"
   ]
  },
  {
   "cell_type": "markdown",
   "id": "a1107c01",
   "metadata": {},
   "source": [
    "cross_val_score: Used during the testing and validation phase of your machine learning model development\n",
    "\n",
    "\n",
    "Trains and tests a model over multiple folds of your dataset. This cross validation method gives you a better understanding of model performance over the whole dataset instead of just a single train/test split.\n",
    "\n",
    "The number of folds is defined, by default this is 5\n",
    "\n",
    "The dataset is split up according to these folds, where each fold has a unique set of testing data A model is trained and tested for each fold\n",
    "\n",
    "Each fold returns a metric for it's test data\n",
    "\n",
    "The mean and standard deviation of these metrics can then be calculated to provide a single metric for the process"
   ]
  },
  {
   "cell_type": "code",
   "execution_count": 8,
   "id": "76d05d38",
   "metadata": {},
   "outputs": [
    {
     "name": "stdout",
     "output_type": "stream",
     "text": [
      "LR Model Cross Validation Score: [0.80082431 0.88326262 0.76802125 0.77353576 0.69558864]\n"
     ]
    }
   ],
   "source": [
    "#Returns an array of scores of the estimator for each run of the cross validation\n",
    "lr_score=cross_val_score(lr,predictors,label,cv=5) #Five runs,5means\n",
    "print(\"LR Model Cross Validation Score: \"+str(lr_score))"
   ]
  },
  {
   "cell_type": "code",
   "execution_count": 9,
   "id": "cc148150",
   "metadata": {},
   "outputs": [
    {
     "name": "stdout",
     "output_type": "stream",
     "text": [
      "LR Model Cross Validation Mean Score: 0.7842465150674716\n"
     ]
    }
   ],
   "source": [
    "# Average of all those means\n",
    "print(\"LR Model Cross Validation Mean Score: \"+str(lr_score.mean()))"
   ]
  },
  {
   "cell_type": "markdown",
   "id": "efbaf824",
   "metadata": {},
   "source": [
    "### USING PCA"
   ]
  },
  {
   "cell_type": "code",
   "execution_count": 10,
   "id": "c70f025b",
   "metadata": {},
   "outputs": [
    {
     "data": {
      "text/plain": [
       "(41,)"
      ]
     },
     "execution_count": 10,
     "metadata": {},
     "output_type": "execute_result"
    }
   ],
   "source": [
    "from sklearn.decomposition import PCA\n",
    "pca = PCA(n_components=len(student_data.columns)-1)\n",
    "pca.fit(predictors)\n",
    "variance_ratio=pca.explained_variance_ratio_\n",
    "pca.explained_variance_ratio_.shape"
   ]
  },
  {
   "cell_type": "code",
   "execution_count": 11,
   "id": "c5e20927",
   "metadata": {},
   "outputs": [
    {
     "data": {
      "text/plain": [
       "array([0.60249881, 0.82425422, 0.84911983, 0.86994557, 0.88895871,\n",
       "       0.90683444, 0.9184901 , 0.92910161, 0.93702158, 0.94355752,\n",
       "       0.94942391, 0.95429968, 0.95866975, 0.9630082 , 0.96640694,\n",
       "       0.96972293, 0.97258242, 0.97508701, 0.97731633, 0.97952796,\n",
       "       0.98162043, 0.98358934, 0.98540947, 0.98693444, 0.98836369,\n",
       "       0.98977799, 0.99104426, 0.99226527, 0.99329196, 0.99430959,\n",
       "       0.99522784, 0.99608811, 0.99682872, 0.99753783, 0.99813929,\n",
       "       0.99862811, 0.99906095, 0.99944395, 0.99975004, 0.99991243,\n",
       "       1.        ])"
      ]
     },
     "execution_count": 11,
     "metadata": {},
     "output_type": "execute_result"
    }
   ],
   "source": [
    "#NOW PLOT\n",
    "#Find cumulatve variance,adding one independent variable at a time\n",
    "variance_ratio_cum_sum=np.cumsum(variance_ratio)\n",
    "variance_ratio_cum_sum"
   ]
  },
  {
   "cell_type": "markdown",
   "id": "5eedd68e",
   "metadata": {},
   "source": [
    "This cumulative explained variance graph helps us to choose the number of desired principal components. If we look at the above print statement's output, we will realize that 99% variation in the data is explaining by the first 6 principal components. Hence, we annotate 6 on the graph."
   ]
  },
  {
   "cell_type": "code",
   "execution_count": 12,
   "id": "6da27adf",
   "metadata": {},
   "outputs": [
    {
     "data": {
      "image/png": "[encoded data removed]",
      "text/plain": [
       "<Figure size 640x480 with 1 Axes>"
      ]
     },
     "metadata": {},
     "output_type": "display_data"
    }
   ],
   "source": [
    "plt.plot(variance_ratio_cum_sum)\n",
    "plt.xlabel(\"Number of components\")\n",
    "plt.ylabel(\"Cumulative experieced variable\")\n",
    "#Annotate 90% variance explained by the first 6 variables only\n",
    "plt.annotate('6',xy=(6,.90))\n",
    "plt.show()"
   ]
  },
  {
   "cell_type": "code",
   "execution_count": 13,
   "id": "18dd8a4a",
   "metadata": {},
   "outputs": [
    {
     "data": {
      "image/png": "[encoded data removed]",
      "text/plain": [
       "<Figure size 1000x600 with 1 Axes>"
      ]
     },
     "metadata": {},
     "output_type": "display_data"
    }
   ],
   "source": [
    "#individual explained variance,instead of cumulative variance\n",
    "#We see that the first variable causes 60%variance the second 22% and so on\n",
    "\n",
    "plt.figure(figsize=(10,6))\n",
    "plt.bar(range(41),pca.explained_variance_,alpha=0.5,label='individual explained variance')\n",
    "plt.ylabel(\"Explained variance ratio\")\n",
    "plt.xlabel(\"Principal Components\")\n",
    "plt.legend(loc='best')\n",
    "plt.show()"
   ]
  },
  {
   "cell_type": "markdown",
   "id": "95468f09",
   "metadata": {},
   "source": [
    "PCA transforms a set of correlated variables into a set of linearly uncorrelated variables called principal components, we can check the correlarion with a heat map of correlation matrix\n",
    "\n",
    "correlation between the variables of the original data\n",
    "\n",
    "we see high correlation, which means duplication we can eliminate many variables"
   ]
  },
  {
   "cell_type": "code",
   "execution_count": 14,
   "id": "ea397792",
   "metadata": {},
   "outputs": [
    {
     "data": {
      "image/png": "[encoded data removed]",
      "text/plain": [
       "<Figure size 640x480 with 2 Axes>"
      ]
     },
     "metadata": {},
     "output_type": "display_data"
    }
   ],
   "source": [
    "import seaborn as sns\n",
    "correlation=pd.DataFrame(predictors).corr()\n",
    "sns.heatmap(correlation,vmax=1,square=True,cmap='Blues')\n",
    "plt.title(\"Correlation between different features\")\n",
    "plt.show()"
   ]
  },
  {
   "cell_type": "code",
   "execution_count": 15,
   "id": "a5c5fb22",
   "metadata": {},
   "outputs": [
    {
     "data": {
      "text/plain": [
       "array([[ 0.55160707,  7.2305083 , -1.26671855, -1.35402793, -0.57929047,\n",
       "        -1.50629358],\n",
       "       [-1.50987417,  8.2744093 , -1.73787295,  1.23849142, -1.01028004,\n",
       "         0.74226977],\n",
       "       [ 4.38990076,  4.6585758 , -0.34248862,  0.36624141, -2.08862574,\n",
       "         1.84768947],\n",
       "       ...,\n",
       "       [-2.48779667,  3.26562797,  2.63320957,  4.75271984,  0.3581546 ,\n",
       "        -0.5144884 ],\n",
       "       [-5.667013  , -0.70227676,  2.32050876,  0.60903253,  0.12242516,\n",
       "         1.59557514],\n",
       "       [-0.53044166,  3.50946062,  1.67073111,  1.94837153, -0.70986028,\n",
       "         2.05029266]])"
      ]
     },
     "execution_count": 15,
     "metadata": {},
     "output_type": "execute_result"
    }
   ],
   "source": [
    "#Looking at the above plot we are taking 6 variables\n",
    "pca=PCA(n_components=6)\n",
    "pca.fit(predictors)\n",
    "Transformed_vector=pca.fit_transform(predictors)\n",
    "Transformed_vector"
   ]
  },
  {
   "cell_type": "code",
   "execution_count": 16,
   "id": "e0990bf5",
   "metadata": {},
   "outputs": [
    {
     "data": {
      "image/png": "[encoded data removed]",
      "text/plain": [
       "<Figure size 640x480 with 2 Axes>"
      ]
     },
     "metadata": {},
     "output_type": "display_data"
    }
   ],
   "source": [
    "# correlation betwen the 6 variables after transforming the data with pca is 0\n",
    "import seaborn as sns\n",
    "correlation=pd.DataFrame(Transformed_vector).corr()\n",
    "sns.heatmap(correlation,vmax=1,square=True,cmap='crest')\n",
    "plt.title(\"Correlation between different features\")\n",
    "plt.show()"
   ]
  },
  {
   "cell_type": "code",
   "execution_count": 17,
   "id": "c9b031a0",
   "metadata": {},
   "outputs": [
    {
     "name": "stdout",
     "output_type": "stream",
     "text": [
      "PCA Model Cross Validation Score: [0.82099262 0.90037318 0.83908963 0.76730558 0.72845792]\n",
      "PCA Model Cross validation Mean Score:0.8112437875167652\n"
     ]
    }
   ],
   "source": [
    "# Check the performance with ^ variables\n",
    "lr_pca=linear_model.LinearRegression()\n",
    "lr_pca_score=cross_val_score(lr_pca,Transformed_vector,label,cv=5)\n",
    "print(\"PCA Model Cross Validation Score: \"+str(lr_pca_score))\n",
    "print(\"PCA Model Cross validation Mean Score:\"+str(lr_pca_score.mean()))\n"
   ]
  },
  {
   "cell_type": "markdown",
   "id": "721b269c",
   "metadata": {},
   "source": [
    "We see values similar to the earlier case when we had 40 independent variables\n",
    "This means that the PCA has indeed reduced the 40 variables to 6 without causing any negative impact"
   ]
  }
 ],
 "metadata": {
  "kernelspec": {
   "display_name": "Python 3 (ipykernel)",
   "language": "python",
   "name": "python3"
  },
  "language_info": {
   "codemirror_mode": {
    "name": "ipython",
    "version": 3
   },
   "file_extension": ".py",
   "mimetype": "text/x-python",
   "name": "python",
   "nbconvert_exporter": "python",
   "pygments_lexer": "ipython3",
   "version": "3.11.4"
  }
 },
 "nbformat": 4,
 "nbformat_minor": 5
}
