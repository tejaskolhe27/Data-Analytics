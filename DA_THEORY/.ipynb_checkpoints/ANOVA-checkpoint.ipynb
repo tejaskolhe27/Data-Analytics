{
 "cells": [
  {
   "cell_type": "code",
   "execution_count": 1,
   "id": "e70eef25",
   "metadata": {},
   "outputs": [],
   "source": [
    "import numpy as np\n",
    "from scipy.stats import f_oneway"
   ]
  },
  {
   "cell_type": "code",
   "execution_count": 4,
   "id": "d0633d25",
   "metadata": {},
   "outputs": [
    {
     "name": "stdout",
     "output_type": "stream",
     "text": [
      "f_statistic:  8.886649874055415\n",
      "p_value:  0.004286725334093986\n"
     ]
    }
   ],
   "source": [
    "method_A = [85,88,91,78,82]\n",
    "method_B = [75,79,80,82,78]\n",
    "method_C = [90,85,88,92,87]\n",
    " #Perform one way ANOVA\n",
    "f_statistic,p_value = f_oneway(method_A,method_B,method_C)\n",
    "print(\"f_statistic: \",f_statistic)\n",
    "print(\"p_value: \",p_value)"
   ]
  },
  {
   "cell_type": "code",
   "execution_count": 6,
   "id": "aa150fb0",
   "metadata": {},
   "outputs": [
    {
     "name": "stdout",
     "output_type": "stream",
     "text": [
      "reject the null hypothesis: There are significant differences in mean\n"
     ]
    }
   ],
   "source": [
    "# Interpret the results\n",
    "alpha=0.05 #Significance level\n",
    "if p_value<alpha:\n",
    "    print(\"reject the null hypothesis: There are significant differences in mean\")\n",
    "else:\n",
    "    print(\"Fail to reject the null hypothesis: No significant difference in the mean\")\n"
   ]
  },
  {
   "cell_type": "code",
   "execution_count": null,
   "id": "b443a868",
   "metadata": {},
   "outputs": [],
   "source": []
  }
 ],
 "metadata": {
  "kernelspec": {
   "display_name": "Python 3 (ipykernel)",
   "language": "python",
   "name": "python3"
  },
  "language_info": {
   "codemirror_mode": {
    "name": "ipython",
    "version": 3
   },
   "file_extension": ".py",
   "mimetype": "text/x-python",
   "name": "python",
   "nbconvert_exporter": "python",
   "pygments_lexer": "ipython3",
   "version": "3.11.4"
  }
 },
 "nbformat": 4,
 "nbformat_minor": 5
}
