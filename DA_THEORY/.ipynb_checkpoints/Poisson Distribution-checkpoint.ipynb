{
 "cells": [
  {
   "cell_type": "code",
   "execution_count": 1,
   "id": "4f935eeb",
   "metadata": {},
   "outputs": [],
   "source": [
    "from scipy.stats import poisson\n",
    "import numpy as np\n",
    "import pandas as pd"
   ]
  },
  {
   "cell_type": "code",
   "execution_count": null,
   "id": "0da32181",
   "metadata": {},
   "outputs": [],
   "source": [
    "\"\"\"\n",
    "A life insurance salesman sells on the average 3 life insurance policies per week. \n",
    "Use Poisson's law to calculate the probability \n",
    "\n",
    "a. In a given week he will sell some policies\n",
    "\n",
    "b. In a given week, he will sell between 2 and 5 policies.\n",
    "\n",
    "c. Assuming that per week, there are 5 working days, \n",
    "   what is the probability that on a given day, he will sell one policy?\n",
    "\"\"\""
   ]
  },
  {
   "cell_type": "code",
   "execution_count": 4,
   "id": "bb37449d",
   "metadata": {},
   "outputs": [
    {
     "name": "stdout",
     "output_type": "stream",
     "text": [
      "The probability of selling some policies in a week:  0.950212931632136\n"
     ]
    }
   ],
   "source": [
    "mu =3 #Lambda\n",
    "print(\"The probability of selling some policies in a week: \", (1-poisson.pmf(k=0,mu=mu)))"
   ]
  },
  {
   "cell_type": "code",
   "execution_count": 5,
   "id": "6cbcc58b",
   "metadata": {},
   "outputs": [
    {
     "name": "stdout",
     "output_type": "stream",
     "text": [
      "The probability of selling 2 or more policies but less than 5 policies in a week:  0.6161149710523164\n"
     ]
    }
   ],
   "source": [
    "print(\"The probability of selling 2 or more policies but less than 5 policies in a week: \"\n",
    "     ,sum(poisson.pmf(k=[2,3,4],mu=mu)))"
   ]
  },
  {
   "cell_type": "code",
   "execution_count": 6,
   "id": "bbf5cf5e",
   "metadata": {},
   "outputs": [
    {
     "name": "stdout",
     "output_type": "stream",
     "text": [
      "The probability that on a given dy, he will sell one policy:  0.3292869816564159\n"
     ]
    }
   ],
   "source": [
    "print(\"The probability that on a given dy, he will sell one policy: \", poisson.pmf(k=1,mu=3/5))"
   ]
  },
  {
   "cell_type": "code",
   "execution_count": 7,
   "id": "092b4241",
   "metadata": {},
   "outputs": [
    {
     "name": "stdout",
     "output_type": "stream",
     "text": [
      "The probability of selling three policies in a week:  0.22404180765538775\n"
     ]
    }
   ],
   "source": [
    "print(\"The probability of selling three policies in a week: \", poisson.pmf(k=3,mu=mu))"
   ]
  },
  {
   "cell_type": "code",
   "execution_count": 12,
   "id": "4696d4a0",
   "metadata": {},
   "outputs": [],
   "source": [
    "!jt -t chesterish"
   ]
  },
  {
   "cell_type": "code",
   "execution_count": null,
   "id": "b3fffe68",
   "metadata": {},
   "outputs": [],
   "source": []
  }
 ],
 "metadata": {
  "kernelspec": {
   "display_name": "Python 3 (ipykernel)",
   "language": "python",
   "name": "python3"
  },
  "language_info": {
   "codemirror_mode": {
    "name": "ipython",
    "version": 3
   },
   "file_extension": ".py",
   "mimetype": "text/x-python",
   "name": "python",
   "nbconvert_exporter": "python",
   "pygments_lexer": "ipython3",
   "version": "3.11.4"
  }
 },
 "nbformat": 4,
 "nbformat_minor": 5
}
