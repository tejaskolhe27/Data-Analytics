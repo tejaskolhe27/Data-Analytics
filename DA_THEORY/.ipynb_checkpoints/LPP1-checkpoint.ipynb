{
 "cells": [
  {
   "cell_type": "code",
   "execution_count": 1,
   "id": "e215b83d",
   "metadata": {},
   "outputs": [],
   "source": [
    "from pulp import *"
   ]
  },
  {
   "cell_type": "code",
   "execution_count": 2,
   "id": "587c94c9",
   "metadata": {},
   "outputs": [],
   "source": [
    "model=LpProblem(\"FurnitureProblem\",LpMaximize)"
   ]
  },
  {
   "cell_type": "code",
   "execution_count": 3,
   "id": "7d0343df",
   "metadata": {},
   "outputs": [],
   "source": [
    "x1=LpVariable(\"tables\",0,None,LpInteger)\n",
    "x2=LpVariable(\"chairs\",0,None,LpInteger)\n",
    "x3=LpVariable(\"bookcases\",0,None,LpInteger)"
   ]
  },
  {
   "cell_type": "code",
   "execution_count": 4,
   "id": "a16f108a",
   "metadata": {},
   "outputs": [],
   "source": [
    "#Create a maximize objective function\n",
    "model += 40*x1+30*x2+45*x3"
   ]
  },
  {
   "cell_type": "code",
   "execution_count": 5,
   "id": "475ffa38",
   "metadata": {},
   "outputs": [],
   "source": [
    "#Constraints\n",
    "model+=2*x1+1*x2+2.5*x3<=60,'Labour'\n",
    "model+=0.8*x1+0.6*x2+1.0*x3<=16,'Machine'\n",
    "model+=30*x1+20*x2+30*x3<=400,'Wood'"
   ]
  },
  {
   "cell_type": "code",
   "execution_count": 6,
   "id": "c2d8a161",
   "metadata": {},
   "outputs": [],
   "source": [
    "model+=x1>=1,'chairs'\n",
    "model+=x3>=1,'bookcases'"
   ]
  },
  {
   "cell_type": "code",
   "execution_count": 7,
   "id": "63dede35",
   "metadata": {},
   "outputs": [
    {
     "name": "stdout",
     "output_type": "stream",
     "text": [
      "Welcome to the CBC MILP Solver \n",
      "Version: 2.10.3 \n",
      "Build Date: Dec 15 2019 \n",
      "\n",
      "command line - /home/dai/anaconda3/lib/python3.11/site-packages/pulp/solverdir/cbc/linux/64/cbc /tmp/d8073d8bb6674f32982e30e564ffd8a7-pulp.mps max timeMode elapsed branch printingOptions all solution /tmp/d8073d8bb6674f32982e30e564ffd8a7-pulp.sol (default strategy 1)\n",
      "At line 2 NAME          MODEL\n",
      "At line 3 ROWS\n",
      "At line 10 COLUMNS\n",
      "At line 31 RHS\n",
      "At line 37 BOUNDS\n",
      "At line 41 ENDATA\n",
      "Problem MODEL has 5 rows, 3 columns and 11 elements\n",
      "Coin0008I MODEL read with 0 errors\n",
      "Option for timeMode changed from cpu to elapsed\n",
      "Continuous objective value is 595 - 0.00 seconds\n",
      "Cgl0004I processed model has 3 rows, 3 columns (3 integer (0 of which binary)) and 9 elements\n",
      "Cutoff increment increased from 1e-05 to 4.9999\n",
      "Cbc0012I Integer solution of -595 found by DiveCoefficient after 0 iterations and 0 nodes (0.00 seconds)\n",
      "Cbc0001I Search completed - best objective -595, took 0 iterations and 0 nodes (0.00 seconds)\n",
      "Cbc0035I Maximum depth 0, 0 variables fixed on reduced cost\n",
      "Cuts at root node changed objective from -595 to -595\n",
      "Probing was tried 0 times and created 0 cuts of which 0 were active after adding rounds of cuts (0.000 seconds)\n",
      "Gomory was tried 0 times and created 0 cuts of which 0 were active after adding rounds of cuts (0.000 seconds)\n",
      "Knapsack was tried 0 times and created 0 cuts of which 0 were active after adding rounds of cuts (0.000 seconds)\n",
      "Clique was tried 0 times and created 0 cuts of which 0 were active after adding rounds of cuts (0.000 seconds)\n",
      "MixedIntegerRounding2 was tried 0 times and created 0 cuts of which 0 were active after adding rounds of cuts (0.000 seconds)\n",
      "FlowCover was tried 0 times and created 0 cuts of which 0 were active after adding rounds of cuts (0.000 seconds)\n",
      "TwoMirCuts was tried 0 times and created 0 cuts of which 0 were active after adding rounds of cuts (0.000 seconds)\n",
      "ZeroHalf was tried 0 times and created 0 cuts of which 0 were active after adding rounds of cuts (0.000 seconds)\n",
      "\n",
      "Result - Optimal solution found\n",
      "\n",
      "Objective value:                595.00000000\n",
      "Enumerated nodes:               0\n",
      "Total iterations:               0\n",
      "Time (CPU seconds):             0.00\n",
      "Time (Wallclock seconds):       0.00\n",
      "\n",
      "Option for printingOptions changed from normal to all\n",
      "Total time (CPU seconds):       0.00   (Wallclock seconds):       0.01\n",
      "\n"
     ]
    },
    {
     "data": {
      "text/plain": [
       "'Optimal'"
      ]
     },
     "execution_count": 7,
     "metadata": {},
     "output_type": "execute_result"
    }
   ],
   "source": [
    "model.solve()\n",
    "LpStatus[model.status]"
   ]
  },
  {
   "cell_type": "code",
   "execution_count": 8,
   "id": "73a79923",
   "metadata": {},
   "outputs": [
    {
     "name": "stdout",
     "output_type": "stream",
     "text": [
      "Production of Tables=1.0\n",
      "Production of Chairs=17.0\n",
      "Production of Bookcases=1.0\n",
      "595.0\n"
     ]
    }
   ],
   "source": [
    "#Print our decision variable values\n",
    "print(\"Production of Tables={}\".format(x1.varValue))\n",
    "print(\"Production of Chairs={}\".format(x2.varValue))\n",
    "print(\"Production of Bookcases={}\".format(x3.varValue))\n",
    "#Print our objective function value\n",
    "print(pulp.value(model.objective))"
   ]
  },
  {
   "cell_type": "code",
   "execution_count": 10,
   "id": "08ea9a54",
   "metadata": {},
   "outputs": [
    {
     "name": "stdout",
     "output_type": "stream",
     "text": [
      "bookcases = 1.0\n",
      "chairs = 17.0\n",
      "tables = 1.0\n"
     ]
    }
   ],
   "source": [
    "for v in model.variables():\n",
    "    print(v.name,\"=\",v.varValue)"
   ]
  },
  {
   "cell_type": "code",
   "execution_count": null,
   "id": "72b2a1e0",
   "metadata": {},
   "outputs": [],
   "source": []
  }
 ],
 "metadata": {
  "kernelspec": {
   "display_name": "Python 3 (ipykernel)",
   "language": "python",
   "name": "python3"
  },
  "language_info": {
   "codemirror_mode": {
    "name": "ipython",
    "version": 3
   },
   "file_extension": ".py",
   "mimetype": "text/x-python",
   "name": "python",
   "nbconvert_exporter": "python",
   "pygments_lexer": "ipython3",
   "version": "3.11.4"
  }
 },
 "nbformat": 4,
 "nbformat_minor": 5
}
