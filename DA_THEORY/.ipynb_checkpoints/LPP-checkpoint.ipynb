{
 "cells": [
  {
   "cell_type": "markdown",
   "id": "3c08b88f",
   "metadata": {},
   "source": [
    "## PROBLEM STATEMENT\n",
    "We want to manufacture cars of type A and B. How many cars of each type to manufacture per day? Suppose we have three resources R1, R2, R3 that are needed to manufacture these cars. Car A needs 3 units of R1, 5 units of R2, and 1.5 units of R3 Car B needs 4 units of R1, 6 units of R2, and 3 units of R3. Maximum availability of resources per day is: R1 = 30, R2 = 60, R3 = 21 Each Car A sale contributes 30,000 usd to the profits, Car B contributes 45,000 usd to the profits How many cars should we manufacture each day of type A and type B?"
   ]
  },
  {
   "cell_type": "code",
   "execution_count": 1,
   "id": "fac276de",
   "metadata": {},
   "outputs": [],
   "source": [
    "import pulp"
   ]
  },
  {
   "cell_type": "code",
   "execution_count": 2,
   "id": "e3a26a52",
   "metadata": {},
   "outputs": [],
   "source": [
    "#Instantiate problem class\n",
    "model=pulp.LpProblem(\"Profit_maximising_problem\",pulp.LpMaximize)\n",
    "\n",
    "A=pulp.LpVariable('A',lowBound=0,cat='Integer')\n",
    "B=pulp.LpVariable('B',lowBound=0,cat='Integer')"
   ]
  },
  {
   "cell_type": "code",
   "execution_count": 3,
   "id": "f4620865",
   "metadata": {},
   "outputs": [],
   "source": [
    "# Objective Function\n",
    "model+=30000*A + 45000*B,'Profit'"
   ]
  },
  {
   "cell_type": "code",
   "execution_count": 4,
   "id": "6c99d7c6",
   "metadata": {},
   "outputs": [],
   "source": [
    "#Constraints\n",
    "model+=3*A + 4*B<=30\n",
    "model+=5*A + 6*B<=60\n",
    "model+=1.5*A + 3*B<=21"
   ]
  },
  {
   "cell_type": "code",
   "execution_count": 5,
   "id": "f05560ad",
   "metadata": {},
   "outputs": [],
   "source": [
    "#Just for testing- What if we want to manufacture at 5 cars a day\n",
    "#model+=A>=5\n",
    "\n",
    "#model+=A<=B"
   ]
  },
  {
   "cell_type": "code",
   "execution_count": 6,
   "id": "8b78fd04",
   "metadata": {
    "scrolled": false
   },
   "outputs": [
    {
     "name": "stdout",
     "output_type": "stream",
     "text": [
      "Welcome to the CBC MILP Solver \n",
      "Version: 2.10.3 \n",
      "Build Date: Dec 15 2019 \n",
      "\n",
      "command line - /home/dai/anaconda3/lib/python3.11/site-packages/pulp/solverdir/cbc/linux/64/cbc /tmp/12736e01cdf5449784174619a9d9835c-pulp.mps max timeMode elapsed branch printingOptions all solution /tmp/12736e01cdf5449784174619a9d9835c-pulp.sol (default strategy 1)\n",
      "At line 2 NAME          MODEL\n",
      "At line 3 ROWS\n",
      "At line 8 COLUMNS\n",
      "At line 21 RHS\n",
      "At line 25 BOUNDS\n",
      "At line 28 ENDATA\n",
      "Problem MODEL has 3 rows, 2 columns and 6 elements\n",
      "Coin0008I MODEL read with 0 errors\n",
      "Option for timeMode changed from cpu to elapsed\n",
      "Continuous objective value is 330000 - 0.00 seconds\n",
      "Cgl0004I processed model has 3 rows, 2 columns (2 integer (0 of which binary)) and 6 elements\n",
      "Cutoff increment increased from 1e-05 to 15000\n",
      "Cbc0012I Integer solution of -330000 found by DiveCoefficient after 0 iterations and 0 nodes (0.00 seconds)\n",
      "Cbc0001I Search completed - best objective -330000, took 0 iterations and 0 nodes (0.00 seconds)\n",
      "Cbc0035I Maximum depth 0, 0 variables fixed on reduced cost\n",
      "Cuts at root node changed objective from -330000 to -330000\n",
      "Probing was tried 0 times and created 0 cuts of which 0 were active after adding rounds of cuts (0.000 seconds)\n",
      "Gomory was tried 0 times and created 0 cuts of which 0 were active after adding rounds of cuts (0.000 seconds)\n",
      "Knapsack was tried 0 times and created 0 cuts of which 0 were active after adding rounds of cuts (0.000 seconds)\n",
      "Clique was tried 0 times and created 0 cuts of which 0 were active after adding rounds of cuts (0.000 seconds)\n",
      "MixedIntegerRounding2 was tried 0 times and created 0 cuts of which 0 were active after adding rounds of cuts (0.000 seconds)\n",
      "FlowCover was tried 0 times and created 0 cuts of which 0 were active after adding rounds of cuts (0.000 seconds)\n",
      "TwoMirCuts was tried 0 times and created 0 cuts of which 0 were active after adding rounds of cuts (0.000 seconds)\n",
      "ZeroHalf was tried 0 times and created 0 cuts of which 0 were active after adding rounds of cuts (0.000 seconds)\n",
      "\n",
      "Result - Optimal solution found\n",
      "\n",
      "Objective value:                330000.00000000\n",
      "Enumerated nodes:               0\n",
      "Total iterations:               0\n",
      "Time (CPU seconds):             0.00\n",
      "Time (Wallclock seconds):       0.00\n",
      "\n",
      "Option for printingOptions changed from normal to all\n",
      "Total time (CPU seconds):       0.01   (Wallclock seconds):       0.01\n",
      "\n"
     ]
    },
    {
     "data": {
      "text/plain": [
       "'Optimal'"
      ]
     },
     "execution_count": 6,
     "metadata": {},
     "output_type": "execute_result"
    }
   ],
   "source": [
    "#Solve our problem\n",
    "model.solve()\n",
    "pulp.LpStatus[model.status]"
   ]
  },
  {
   "cell_type": "code",
   "execution_count": 7,
   "id": "86eaff18",
   "metadata": {
    "scrolled": false
   },
   "outputs": [
    {
     "name": "stdout",
     "output_type": "stream",
     "text": [
      "Production of Car A=2.0\n",
      "Production of Car B=6.0\n",
      "330000.0\n"
     ]
    }
   ],
   "source": [
    "#Print our decision variable values\n",
    "print(\"Production of Car A={}\".format(A.varValue))\n",
    "print(\"Production of Car B={}\".format(B.varValue))\n",
    "\n",
    "#Print our objective function value\n",
    "print(pulp.value(model.objective))"
   ]
  },
  {
   "cell_type": "code",
   "execution_count": null,
   "id": "6eb3c146",
   "metadata": {},
   "outputs": [],
   "source": []
  },
  {
   "cell_type": "code",
   "execution_count": null,
   "id": "35e54e20",
   "metadata": {},
   "outputs": [],
   "source": []
  }
 ],
 "metadata": {
  "kernelspec": {
   "display_name": "Python 3 (ipykernel)",
   "language": "python",
   "name": "python3"
  },
  "language_info": {
   "codemirror_mode": {
    "name": "ipython",
    "version": 3
   },
   "file_extension": ".py",
   "mimetype": "text/x-python",
   "name": "python",
   "nbconvert_exporter": "python",
   "pygments_lexer": "ipython3",
   "version": "3.11.4"
  }
 },
 "nbformat": 4,
 "nbformat_minor": 5
}
