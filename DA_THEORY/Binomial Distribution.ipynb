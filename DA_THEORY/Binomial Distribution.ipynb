{
 "cells": [
  {
   "cell_type": "code",
   "execution_count": 1,
   "id": "6a7e4db9",
   "metadata": {},
   "outputs": [],
   "source": [
    "import numpy as np\n",
    "from scipy.stats import binom\n",
    "import matplotlib.pyplot as plt"
   ]
  },
  {
   "cell_type": "code",
   "execution_count": 2,
   "id": "c412c0b4",
   "metadata": {},
   "outputs": [
    {
     "name": "stdout",
     "output_type": "stream",
     "text": [
      "Probability that four out of six randomly selected patients will recover:  0.03295898437499997\n"
     ]
    }
   ],
   "source": [
    "\"\"\"\n",
    "Hospital records show that the patients suffering from a specific disease 75% die of it.\n",
    "What is the probability\n",
    "that four out of six randomly selected patients will recover?\n",
    "\"\"\"\n",
    "n=6\n",
    "k=4\n",
    "p=1-0.75\n",
    "\n",
    "probab = binom.pmf(k,n,p)\n",
    "print(\"Probability that four out of six randomly selected patients will recover: \", probab)"
   ]
  },
  {
   "cell_type": "code",
   "execution_count": null,
   "id": "257c67cc",
   "metadata": {},
   "outputs": [],
   "source": []
  },
  {
   "cell_type": "code",
   "execution_count": 7,
   "id": "c1440d95",
   "metadata": {},
   "outputs": [
    {
     "name": "stdout",
     "output_type": "stream",
     "text": [
      "Probability of more than 2 hits 0.1647949218749999\n"
     ]
    }
   ],
   "source": [
    "# For more than 2 hits, k can be either 3 or 4\n",
    "# Probability of more than 2 hits i.e. k=3 or 4\n",
    "\n",
    "print(\"Probability of more than 2 hits\",binom.pmf(k=3,n=n,p=p)+binom.pmf(k=4,n=n,p=p))"
   ]
  },
  {
   "cell_type": "code",
   "execution_count": 9,
   "id": "3e8c55be",
   "metadata": {},
   "outputs": [
    {
     "name": "stdout",
     "output_type": "stream",
     "text": [
      "Probability of atleast 3 misses 0.533935546875\n"
     ]
    }
   ],
   "source": [
    "# Probability of at least 3 misses i.e. either 1 hit or 0 hits, so k =0 or 1\n",
    "print(\"Probability of atleast 3 misses\",binom.pmf(k=0,n=n,p=p)+binom.pmf(k=1,n=n,p=p))"
   ]
  },
  {
   "cell_type": "code",
   "execution_count": 8,
   "id": "5d662153",
   "metadata": {},
   "outputs": [
    {
     "name": "stdout",
     "output_type": "stream",
     "text": [
      "Probability of atleast 3 misses 0.533935546875\n"
     ]
    }
   ],
   "source": [
    "#Same thing, but using CDF instead of PDF\n",
    "print(\"Probability of atleast 3 misses\",binom.cdf(k=1,n=n,p=p))"
   ]
  },
  {
   "cell_type": "code",
   "execution_count": null,
   "id": "0c134c3d",
   "metadata": {},
   "outputs": [],
   "source": []
  }
 ],
 "metadata": {
  "kernelspec": {
   "display_name": "Python 3 (ipykernel)",
   "language": "python",
   "name": "python3"
  },
  "language_info": {
   "codemirror_mode": {
    "name": "ipython",
    "version": 3
   },
   "file_extension": ".py",
   "mimetype": "text/x-python",
   "name": "python",
   "nbconvert_exporter": "python",
   "pygments_lexer": "ipython3",
   "version": "3.11.4"
  }
 },
 "nbformat": 4,
 "nbformat_minor": 5
}
