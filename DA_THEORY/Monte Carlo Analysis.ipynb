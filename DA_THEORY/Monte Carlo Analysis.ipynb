{
 "cells": [
  {
   "cell_type": "code",
   "execution_count": 1,
   "id": "80879c9b",
   "metadata": {},
   "outputs": [],
   "source": [
    "import numpy as np"
   ]
  },
  {
   "cell_type": "markdown",
   "id": "22c01cb6",
   "metadata": {},
   "source": [
    "PART 1"
   ]
  },
  {
   "cell_type": "code",
   "execution_count": 2,
   "id": "feb48601",
   "metadata": {},
   "outputs": [
    {
     "name": "stdout",
     "output_type": "stream",
     "text": [
      "8\n"
     ]
    }
   ],
   "source": [
    "def roll_dice():\n",
    "    return np.sum(np.random.randint(1,7,2))\n",
    "print(roll_dice())"
   ]
  },
  {
   "cell_type": "markdown",
   "id": "bb26b43e",
   "metadata": {},
   "source": [
    "PART 2"
   ]
  },
  {
   "cell_type": "code",
   "execution_count": 3,
   "id": "e1b2c9d6",
   "metadata": {},
   "outputs": [],
   "source": [
    "\"\"\"\n",
    "Someone approaches us saying they will give us 5dollars if i get 7 and take 1dollar if \n",
    "i get a number other than 7\n",
    "How do we know what will happen?\n",
    "our own monte carlo siulation like function\n",
    "\"\"\"\n",
    "def monte_carlo_simulation(runs=1000):\n",
    "    result=np.zeros(2)\n",
    "    for _ in range(runs):\n",
    "        if roll_dice()==7:\n",
    "            result[0]+=1\n",
    "        else:\n",
    "            result[1]+=1\n",
    "    return result"
   ]
  },
  {
   "cell_type": "code",
   "execution_count": 4,
   "id": "16508ed5",
   "metadata": {},
   "outputs": [
    {
     "name": "stdout",
     "output_type": "stream",
     "text": [
      "[158. 842.]\n",
      "[145. 855.]\n",
      "[171. 829.]\n"
     ]
    }
   ],
   "source": [
    "print(monte_carlo_simulation())\n",
    "print(monte_carlo_simulation())\n",
    "print(monte_carlo_simulation())"
   ]
  },
  {
   "cell_type": "markdown",
   "id": "b71ac79f",
   "metadata": {},
   "source": [
    "PART 3"
   ]
  },
  {
   "cell_type": "code",
   "execution_count": 5,
   "id": "6ca09192",
   "metadata": {},
   "outputs": [
    {
     "name": "stdout",
     "output_type": "stream",
     "text": [
      "[169. 169. 163. 166. 163. 175. 173. 168. 166. 185. 175. 167. 163. 165.\n",
      " 148. 164. 173. 162. 161. 180. 171. 161. 164. 171. 154. 143. 171. 172.\n",
      " 171. 178. 167. 171. 154. 148. 164. 166. 165. 162. 166. 165. 177. 153.\n",
      " 160. 146. 151. 183. 169. 144. 171. 166. 153. 177. 166. 165. 186. 152.\n",
      " 155. 181. 165. 196. 148. 189. 158. 158. 157. 180. 168. 167. 178. 167.\n",
      " 183. 162. 165. 154. 158. 169. 167. 148. 167. 149. 172. 176. 166. 200.\n",
      " 157. 171. 139. 154. 176. 154. 165. 162. 152. 170. 157. 170. 170. 148.\n",
      " 167. 177. 166. 167. 177. 144. 152. 171. 180. 159. 176. 164. 159. 159.\n",
      " 178. 163. 168. 188. 150. 140. 169. 154. 169. 170. 161. 176. 167. 162.\n",
      " 157. 167. 191. 180. 160. 153. 180. 173. 171. 171. 184. 153. 174. 176.\n",
      " 174. 148. 143. 160. 158. 174. 159. 179. 177. 186. 166. 155. 171. 157.\n",
      " 159. 173. 164. 156. 163. 168. 169. 168. 157. 164. 161. 151. 176. 183.\n",
      " 175. 179. 165. 162. 178. 161. 197. 153. 169. 183. 183. 146. 168. 170.\n",
      " 164. 176. 152. 169. 156. 161. 174. 160. 163. 165. 164. 145. 182. 148.\n",
      " 166. 175. 168. 154. 174. 162. 166. 182. 170. 186. 169. 191. 153. 164.\n",
      " 179. 150. 158. 172. 183. 173. 150. 144. 196. 168. 156. 164. 174. 163.\n",
      " 164. 149. 189. 175. 156. 160. 169. 181. 160. 167. 126. 163. 171. 170.\n",
      " 165. 174. 164. 175. 177. 167. 164. 156. 179. 184. 163. 172. 178. 166.\n",
      " 150. 162. 170. 177. 180. 195. 148. 152. 169. 174. 169. 175. 193. 146.\n",
      " 168. 162. 168. 180. 145. 170. 171. 186. 170. 156. 171. 179. 146. 169.\n",
      " 152. 166. 162. 166. 171. 157. 170. 170. 162. 172. 172. 160. 180. 170.\n",
      " 141. 177. 169. 172. 169. 199. 186. 157. 188. 173. 186. 164. 164. 172.\n",
      " 187. 197. 163. 180. 167. 161. 163. 172. 196. 157. 168. 158. 157. 165.\n",
      " 176. 164. 175. 157. 168. 167. 155. 161. 188. 151. 180. 182. 144. 157.\n",
      " 168. 154. 152. 162. 160. 164. 182. 156. 165. 179. 184. 167. 176. 149.\n",
      " 198. 172. 162. 168. 158. 166. 162. 164. 166. 159. 157. 190. 176. 135.\n",
      " 155. 168. 172. 152. 152. 172. 145. 176. 153. 158. 162. 174. 154. 170.\n",
      " 176. 186. 167. 171. 160. 175. 164. 181. 168. 167. 168. 153. 164. 161.\n",
      " 151. 159. 167. 188. 165. 176. 188. 181. 177. 159. 166. 153. 155. 172.\n",
      " 167. 178. 160. 154. 174. 153. 161. 156. 148. 164. 155. 165. 169. 164.\n",
      " 159. 180. 170. 175. 179. 154. 177. 177. 147. 178. 150. 154. 153. 165.\n",
      " 150. 143. 181. 150. 171. 151. 172. 169. 165. 169. 168. 156. 177. 165.\n",
      " 173. 159. 173. 175. 167. 164. 187. 173. 166. 161. 170. 150. 156. 173.\n",
      " 188. 179. 166. 181. 174. 176. 171. 170. 179. 164. 181. 176. 166. 142.\n",
      " 153. 164. 163. 157. 182. 166. 155. 177. 189. 177. 157. 165. 156. 173.\n",
      " 184. 172. 169. 183. 183. 156. 168. 155. 165. 164. 164. 155. 146. 160.\n",
      " 159. 156. 172. 177. 141. 166. 151. 178. 156. 166. 163. 160. 168. 171.\n",
      " 181. 176. 178. 152. 161. 159. 172. 172. 151. 195. 179. 154. 166. 169.\n",
      " 178. 147. 150. 155. 170. 162. 157. 162. 154. 162. 156. 161. 146. 162.\n",
      " 168. 174. 182. 153. 169. 173. 188. 164. 147. 144. 178. 142. 169. 160.\n",
      " 163. 185. 185. 158. 161. 154. 153. 174. 165. 169. 165. 170. 174. 184.\n",
      " 161. 173. 188. 168. 170. 152. 165. 197. 173. 180. 175. 179. 163. 180.\n",
      " 177. 170. 167. 198. 177. 155. 169. 165. 188. 167. 185. 143. 176. 184.\n",
      " 166. 150. 149. 172. 149. 164. 170. 136. 167. 172. 164. 190. 169. 153.\n",
      " 164. 180. 156. 185. 159. 165. 156. 160. 183. 154. 165. 166. 164. 183.\n",
      " 161. 176. 177. 174. 162. 166. 158. 169. 185. 148. 171. 161. 171. 184.\n",
      " 165. 171. 155. 171. 161. 163. 164. 156. 152. 167. 152. 172. 154. 172.\n",
      " 184. 151. 179. 148. 168. 166. 169. 150. 172. 176. 194. 174. 167. 147.\n",
      " 160. 156. 175. 176. 154. 174. 169. 178. 168. 176. 168. 164. 169. 172.\n",
      " 160. 185. 164. 179. 172. 199. 162. 189. 161. 171. 172. 160. 176. 158.\n",
      " 171. 170. 153. 147. 161. 166. 169. 192. 171. 159. 133. 166. 179. 175.\n",
      " 171. 162. 172. 154. 165. 150. 177. 187. 156. 174. 163. 159. 177. 167.\n",
      " 147. 148. 178. 173. 179. 161. 149. 146. 167. 157. 157. 173. 186. 163.\n",
      " 162. 169. 150. 173. 144. 157. 151. 164. 153. 151. 150. 158. 182. 178.\n",
      " 180. 163. 167. 154. 181. 154. 174. 155. 179. 159. 151. 144. 165. 159.\n",
      " 151. 170. 169. 172. 146. 140. 173. 151. 175. 150. 170. 194. 164. 170.\n",
      " 152. 156. 183. 163. 178. 178. 182. 142. 155. 164. 186. 174. 185. 151.\n",
      " 176. 167. 141. 172. 163. 162. 139. 157. 172. 166. 168. 164. 172. 173.\n",
      " 154. 179. 170. 149. 163. 177. 178. 180. 160. 162. 165. 164. 160. 197.\n",
      " 174. 162. 160. 179. 172. 159. 160. 169. 151. 152. 154. 171. 160. 152.\n",
      " 184. 162. 189. 175. 178. 165. 143. 173. 170. 170. 158. 172. 170. 183.\n",
      " 157. 193. 180. 168. 162. 183. 175. 170. 172. 188. 167. 163. 184. 175.\n",
      " 179. 181. 169. 149. 170. 163. 159. 180. 154. 162. 164. 184. 161. 154.\n",
      " 167. 174. 155. 152. 179. 174. 174. 162. 170. 169. 158. 161. 159. 164.\n",
      " 157. 168. 181. 140. 167. 165. 184. 176. 174. 171. 145. 154. 177. 168.\n",
      " 167. 159. 173. 164. 156. 158. 181. 160. 168. 179. 170. 156. 160. 151.\n",
      " 169. 181. 180. 179. 172. 185. 166. 166. 171. 153. 167. 195. 176. 168.\n",
      " 146. 170. 144. 145. 172. 170. 166. 170. 161. 157. 161. 173. 181. 145.\n",
      " 173. 168. 168. 174. 155. 169. 183. 190. 161. 162. 159. 168. 165. 176.\n",
      " 182. 168. 164. 151. 134. 172. 178. 149. 156. 170. 166. 192. 190. 181.\n",
      " 173. 154. 169. 176. 195. 164. 173. 154. 161. 184. 161. 164. 173. 151.\n",
      " 174. 189. 165. 183. 175. 150.]\n"
     ]
    }
   ],
   "source": [
    "#How to do it 1000times\n",
    "#Takes some time\n",
    "result=np.zeros(1000)\n",
    "for i in range(1000):\n",
    "    result[i]=monte_carlo_simulation()[0]\n",
    "print(result)"
   ]
  },
  {
   "cell_type": "code",
   "execution_count": 6,
   "id": "fbeb4d3a",
   "metadata": {},
   "outputs": [
    {
     "data": {
      "image/png": "[encoded data removed]",
      "text/plain": [
       "<Figure size 640x480 with 1 Axes>"
      ]
     },
     "metadata": {},
     "output_type": "display_data"
    }
   ],
   "source": [
    "import matplotlib.pyplot as plt\n",
    "fig,ax=plt.subplots()\n",
    "ax.hist(result,bins=10)\n",
    "plt.show()"
   ]
  },
  {
   "cell_type": "code",
   "execution_count": 7,
   "id": "90656422",
   "metadata": {},
   "outputs": [
    {
     "name": "stdout",
     "output_type": "stream",
     "text": [
      "166.677\n",
      "833.385\n",
      "833.323\n",
      "0.166677\n"
     ]
    }
   ],
   "source": [
    "#OUR WINS AND LOSSES\n",
    "print(result.mean())          #General Mean\n",
    "print(result.mean()*5)        #What we will get as win on average\n",
    "print(1000-result.mean())     #What we will pay on average\n",
    "print(result.mean()/1000)     #Probability on the \"we will pay\" result\n",
    "#The last probability should be close to the theoretical\n",
    "#probability of getting a 7 when we throw 2 dice"
   ]
  },
  {
   "cell_type": "code",
   "execution_count": null,
   "id": "c184f1d9",
   "metadata": {},
   "outputs": [],
   "source": [
    "\n"
   ]
  }
 ],
 "metadata": {
  "kernelspec": {
   "display_name": "Python 3 (ipykernel)",
   "language": "python",
   "name": "python3"
  },
  "language_info": {
   "codemirror_mode": {
    "name": "ipython",
    "version": 3
   },
   "file_extension": ".py",
   "mimetype": "text/x-python",
   "name": "python",
   "nbconvert_exporter": "python",
   "pygments_lexer": "ipython3",
   "version": "3.11.4"
  }
 },
 "nbformat": 4,
 "nbformat_minor": 5
}
