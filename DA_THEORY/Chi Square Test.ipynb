{
 "cells": [
  {
   "cell_type": "code",
   "execution_count": 1,
   "id": "34950fd1",
   "metadata": {},
   "outputs": [],
   "source": [
    "import numpy as np\n",
    "import pandas as pd\n",
    "import matplotlib.pyplot as plt\n",
    "import scipy.stats as stats\n",
    "from scipy.stats import chisquare"
   ]
  },
  {
   "cell_type": "code",
   "execution_count": 2,
   "id": "ac99629b",
   "metadata": {},
   "outputs": [
    {
     "name": "stdout",
     "output_type": "stream",
     "text": [
      "            0\n",
      "0       white\n",
      "1       white\n",
      "2       white\n",
      "3       white\n",
      "4       white\n",
      "...       ...\n",
      "259995  other\n",
      "259996  other\n",
      "259997  other\n",
      "259998  other\n",
      "259999  other\n",
      "\n",
      "[260000 rows x 1 columns]\n",
      "          0\n",
      "0     white\n",
      "1     white\n",
      "2     white\n",
      "3     white\n",
      "4     white\n",
      "...     ...\n",
      "1370  other\n",
      "1371  other\n",
      "1372  other\n",
      "1373  other\n",
      "1374  other\n",
      "\n",
      "[1375 rows x 1 columns]\n"
     ]
    }
   ],
   "source": [
    "#fake demographic data\n",
    "national = pd.DataFrame(['white']*100000+['hispanic']*60000+['black']*50000+['asian']*15000\n",
    "                        +['other']*35000)\n",
    "minnesota = pd.DataFrame(['white']*600+['hispanic']*300+['black']*250+['asian']*75+['other']*150)\n",
    "print(national)\n",
    "print(minnesota)\n",
    "\n",
    "\n",
    "national_table = pd.crosstab(index = national[0],columns = 'count')\n",
    "minnesota_table = pd.crosstab(index = minnesota[0],columns = 'count')"
   ]
  },
  {
   "cell_type": "code",
   "execution_count": 3,
   "id": "4713eead",
   "metadata": {},
   "outputs": [
    {
     "name": "stdout",
     "output_type": "stream",
     "text": [
      "National : \n",
      " col_0      count\n",
      "0               \n",
      "asian      15000\n",
      "black      50000\n",
      "hispanic   60000\n",
      "other      35000\n",
      "white     100000\n",
      "\n",
      "Minnesota : \n",
      " col_0     count\n",
      "0              \n",
      "asian        75\n",
      "black       250\n",
      "hispanic    300\n",
      "other       150\n",
      "white       600\n"
     ]
    }
   ],
   "source": [
    "print(\"National : \\n\",national_table)\n",
    "print()\n",
    "print(\"Minnesota : \\n\",minnesota_table)"
   ]
  },
  {
   "cell_type": "code",
   "execution_count": 4,
   "id": "d9faf5ae",
   "metadata": {},
   "outputs": [
    {
     "name": "stdout",
     "output_type": "stream",
     "text": [
      "col_0     count\n",
      "0              \n",
      "asian        75\n",
      "black       250\n",
      "hispanic    300\n",
      "other       150\n",
      "white       600\n",
      "col_0          count\n",
      "0                   \n",
      "asian      79.326923\n",
      "black     264.423077\n",
      "hispanic  317.307692\n",
      "other     185.096154\n",
      "white     528.846154\n"
     ]
    }
   ],
   "source": [
    "observed  = minnesota_table\n",
    "national_ratios = national_table/len(national) #get population ration\n",
    "#Calculate the expected counts by multiplying the population ratio in the national dataset by \n",
    "#total number of observations in minnesota dataset\n",
    "expected = national_ratios*len(minnesota)\n",
    "print(observed)\n",
    "print(expected)"
   ]
  },
  {
   "cell_type": "code",
   "execution_count": 5,
   "id": "7c464ad9",
   "metadata": {},
   "outputs": [
    {
     "name": "stdout",
     "output_type": "stream",
     "text": [
      "Chi Squared statistic: \n",
      " col_0\n",
      "count    18.194805\n",
      "dtype: float64\n"
     ]
    }
   ],
   "source": [
    "# Calculate Chi Squared staistic by comparing the observed and expected counts and summing the\n",
    "# squared differences, normalized by the expected counts\n",
    "chi_squared_stat = (((observed-expected)**2)/expected).sum()\n",
    "print(\"Chi Squared statistic: \\n\",chi_squared_stat)"
   ]
  },
  {
   "cell_type": "code",
   "execution_count": 6,
   "id": "1f11945a",
   "metadata": {},
   "outputs": [
    {
     "name": "stdout",
     "output_type": "stream",
     "text": [
      "Critical Value:  9.487729036781154\n"
     ]
    }
   ],
   "source": [
    "#Critical Value\n",
    "# q=0.95 is to find the critical value for 95% confidence\n",
    "#df = number of variable categories-1\n",
    "crit = stats.chi2.ppf(q=0.95,df=4)\n",
    "print(\"Critical Value: \",crit)"
   ]
  },
  {
   "cell_type": "code",
   "execution_count": 7,
   "id": "f0d516f9",
   "metadata": {},
   "outputs": [
    {
     "name": "stdout",
     "output_type": "stream",
     "text": [
      "P value: [0.00113047]\n"
     ]
    }
   ],
   "source": [
    "# Calculate the p value based on the chi squared statistic and degrees of freedom\n",
    "p_value=1-stats.chi2.cdf(x=chi_squared_stat,df=4)\n",
    "print(\"P value:\",p_value)"
   ]
  },
  {
   "cell_type": "markdown",
   "id": "6ee36118",
   "metadata": {},
   "source": [
    "Since our chi-squared statistic exceeds the critical value, we'd reject the null hypothesis that the two distributions are the same. You can carry out a chi-squared goodness-of-fit test automatically using the scipy function \n",
    "* scipy.stats.chisquare(): "
   ]
  },
  {
   "cell_type": "code",
   "execution_count": 9,
   "id": "0f5e2327",
   "metadata": {},
   "outputs": [
    {
     "name": "stdout",
     "output_type": "stream",
     "text": [
      "Observed value through stat library\n",
      "Power_divergenceResult(statistic=array([18.19480519]), pvalue=array([0.00113047]))\n"
     ]
    }
   ],
   "source": [
    "print(\"Observed value through stat library\")\n",
    "print(stats.chisquare(f_obs=observed,f_exp=expected))"
   ]
  },
  {
   "cell_type": "markdown",
   "id": "dcc042db",
   "metadata": {},
   "source": [
    "The test results agree witg tge values we calculated"
   ]
  }
 ],
 "metadata": {
  "kernelspec": {
   "display_name": "Python 3 (ipykernel)",
   "language": "python",
   "name": "python3"
  },
  "language_info": {
   "codemirror_mode": {
    "name": "ipython",
    "version": 3
   },
   "file_extension": ".py",
   "mimetype": "text/x-python",
   "name": "python",
   "nbconvert_exporter": "python",
   "pygments_lexer": "ipython3",
   "version": "3.11.4"
  }
 },
 "nbformat": 4,
 "nbformat_minor": 5
}
