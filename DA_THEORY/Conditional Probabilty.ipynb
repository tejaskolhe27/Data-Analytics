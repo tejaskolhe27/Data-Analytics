{
 "cells": [
  {
   "cell_type": "code",
   "execution_count": 1,
   "id": "f493d38c",
   "metadata": {},
   "outputs": [],
   "source": [
    "import pandas as pd\n",
    "import numpy as np\n",
    "import matplotlib.pyplot as plt"
   ]
  },
  {
   "cell_type": "code",
   "execution_count": 2,
   "id": "6c8daca2",
   "metadata": {},
   "outputs": [
    {
     "data": {
      "text/html": [
       "<div>\n",
       "<style scoped>\n",
       "    .dataframe tbody tr th:only-of-type {\n",
       "        vertical-align: middle;\n",
       "    }\n",
       "\n",
       "    .dataframe tbody tr th {\n",
       "        vertical-align: top;\n",
       "    }\n",
       "\n",
       "    .dataframe thead th {\n",
       "        text-align: right;\n",
       "    }\n",
       "</style>\n",
       "<table border=\"1\" class=\"dataframe\">\n",
       "  <thead>\n",
       "    <tr style=\"text-align: right;\">\n",
       "      <th></th>\n",
       "      <th>Gender</th>\n",
       "      <th>Age</th>\n",
       "    </tr>\n",
       "  </thead>\n",
       "  <tbody>\n",
       "    <tr>\n",
       "      <th>0</th>\n",
       "      <td>Male</td>\n",
       "      <td>20</td>\n",
       "    </tr>\n",
       "    <tr>\n",
       "      <th>1</th>\n",
       "      <td>Female</td>\n",
       "      <td>30</td>\n",
       "    </tr>\n",
       "    <tr>\n",
       "      <th>2</th>\n",
       "      <td>Male</td>\n",
       "      <td>25</td>\n",
       "    </tr>\n",
       "    <tr>\n",
       "      <th>3</th>\n",
       "      <td>Female</td>\n",
       "      <td>35</td>\n",
       "    </tr>\n",
       "    <tr>\n",
       "      <th>4</th>\n",
       "      <td>Male</td>\n",
       "      <td>18</td>\n",
       "    </tr>\n",
       "    <tr>\n",
       "      <th>5</th>\n",
       "      <td>Female</td>\n",
       "      <td>28</td>\n",
       "    </tr>\n",
       "    <tr>\n",
       "      <th>6</th>\n",
       "      <td>Male</td>\n",
       "      <td>33</td>\n",
       "    </tr>\n",
       "  </tbody>\n",
       "</table>\n",
       "</div>"
      ],
      "text/plain": [
       "   Gender  Age\n",
       "0    Male   20\n",
       "1  Female   30\n",
       "2    Male   25\n",
       "3  Female   35\n",
       "4    Male   18\n",
       "5  Female   28\n",
       "6    Male   33"
      ]
     },
     "execution_count": 2,
     "metadata": {},
     "output_type": "execute_result"
    }
   ],
   "source": [
    "df = pd.DataFrame({\n",
    "    'Gender':['Male','Female','Male','Female','Male','Female','Male'],\n",
    "    'Age':[20,30,25,35,18,28,33]\n",
    "})\n",
    "df"
   ]
  },
  {
   "cell_type": "code",
   "execution_count": 3,
   "id": "43bfeff4",
   "metadata": {},
   "outputs": [
    {
     "name": "stdout",
     "output_type": "stream",
     "text": [
      "0.3333333333333333\n"
     ]
    }
   ],
   "source": [
    "#P(A and B)\n",
    "\n",
    "p_a_and_b= len(df[(df['Gender']=='Female') & (df['Age']>30)])/len(df)\n",
    "\n",
    "# P(B)\n",
    "p_b= len(df[df['Gender']=='Female'])/len(df)\n",
    "\n",
    "# P(A|B)\n",
    "p_a_given_b= p_a_and_b/p_b\n",
    "print(p_a_given_b)"
   ]
  },
  {
   "cell_type": "code",
   "execution_count": 4,
   "id": "b259fece",
   "metadata": {},
   "outputs": [
    {
     "data": {
      "text/plain": [
       "Gender\n",
       "Female    0.333333\n",
       "Male      0.250000\n",
       "Name: Age, dtype: float64"
      ]
     },
     "execution_count": 4,
     "metadata": {},
     "output_type": "execute_result"
    }
   ],
   "source": [
    "# Group the DataFrame by gender\n",
    "grouped_df = df.groupby('Gender')\n",
    "\n",
    "#Count the number of people in each group who are over 30\n",
    "over_30_count =grouped_df['Age'].apply(lambda x:(x>30).sum())\n",
    "\n",
    "#Count the total number of people\n",
    "total_count = grouped_df['Age'].count()\n",
    "\n",
    "#Calculate the conditional probability for each group\n",
    "conditional_probabilities = over_30_count/total_count\n",
    "conditional_probabilities\n"
   ]
  },
  {
   "cell_type": "code",
   "execution_count": 5,
   "id": "07c688ee",
   "metadata": {},
   "outputs": [
    {
     "data": {
      "image/png": "[encoded data removed]",
      "text/plain": [
       "<Figure size 640x480 with 1 Axes>"
      ]
     },
     "metadata": {},
     "output_type": "display_data"
    }
   ],
   "source": [
    "#Create a bar chart\n",
    "plt.bar(conditional_probabilities.index, conditional_probabilities)\n",
    "plt.xlabel('Gender')\n",
    "plt.ylabel('Probability')\n",
    "plt.title('Probability of being over 30')\n",
    "plt.show()"
   ]
  },
  {
   "cell_type": "markdown",
   "id": "233a97d2",
   "metadata": {},
   "source": [
    "### EXERCISE: FIND P(B|A) "
   ]
  },
  {
   "cell_type": "code",
   "execution_count": 6,
   "id": "2a31c754",
   "metadata": {},
   "outputs": [
    {
     "name": "stdout",
     "output_type": "stream",
     "text": [
      "0.5\n"
     ]
    }
   ],
   "source": [
    "#P(A and B)\n",
    "\n",
    "p_a_and_b= len(df[(df['Age']>30) & (df['Gender']=='Female')])/len(df)\n",
    "\n",
    "# P(A)\n",
    "p_a= len(df[df['Age']>30])/len(df)\n",
    "\n",
    "# P(B|A)\n",
    "p_b_given_a= p_a_and_b/p_a\n",
    "print(p_b_given_a)"
   ]
  },
  {
   "cell_type": "markdown",
   "id": "dbe6103e",
   "metadata": {},
   "source": [
    "## Conditional Probability"
   ]
  },
  {
   "cell_type": "code",
   "execution_count": 7,
   "id": "bc39f18e",
   "metadata": {},
   "outputs": [],
   "source": [
    "from numpy import random"
   ]
  },
  {
   "cell_type": "code",
   "execution_count": 8,
   "id": "485ce6e5",
   "metadata": {},
   "outputs": [],
   "source": [
    "random.seed(0)\n",
    "#Dictionary is to strore total number of people in each age group\n",
    "totals ={20:0,30:0,40:0,50:0,60:0,70:0}\n",
    "# Dictionary to store purchases made by people in each group\n",
    "purchases = {20:0,30:0,40:0,50:0,60:0,70:0}\n",
    "totalpurchases = 0"
   ]
  },
  {
   "cell_type": "code",
   "execution_count": 9,
   "id": "a1c4f676",
   "metadata": {},
   "outputs": [
    {
     "name": "stdout",
     "output_type": "stream",
     "text": [
      "{20: 16576, 30: 16619, 40: 16632, 50: 16805, 60: 16664, 70: 16704}\n",
      "{20: 3392, 30: 4974, 40: 6670, 50: 8319, 60: 9944, 70: 11713}\n",
      "45012\n"
     ]
    }
   ],
   "source": [
    "for _ in range(100000):\n",
    "    ageDecade = random.choice([20,30,40,50,60,70])#select one of these\n",
    "    purchaseProbability = float(ageDecade)/100.0 #lesser the age lesser the probability\n",
    "    totals[ageDecade] +=1\n",
    "    \n",
    "    if(random.random()< purchaseProbability):\n",
    "        totalpurchases+=1\n",
    "        purchases[ageDecade]+=1\n",
    "print(totals)\n",
    "print(purchases)\n",
    "print(totalpurchases)"
   ]
  },
  {
   "cell_type": "code",
   "execution_count": 10,
   "id": "0b941dbd",
   "metadata": {},
   "outputs": [
    {
     "name": "stdout",
     "output_type": "stream",
     "text": [
      "P(Purchase|30s): 0.29929598652145134\n",
      "P(30s): 0.16619\n",
      "P(Purchase): 0.45012\n",
      "P(30s|Purchase): 0.04974\n",
      "P(Purchase)P(30s): 0.07480544280000001\n"
     ]
    }
   ],
   "source": [
    "\"\"\"\n",
    "Conditional Probability\n",
    "First lets compute P(E|F), where E is the \"purchase\" and F is the \"you are in your 30s\". The probability of\n",
    "someone in their 30s buying something is just the percentage of how many 30 year olds bought something\n",
    "\"\"\"\n",
    "\n",
    "PEF = float(purchases[30])/float(totals[30])\n",
    "print(\"P(Purchase|30s): \"+ str(PEF))\n",
    "\n",
    "# P(F) is just the probability of being in 30s\n",
    "PF = float(totals[30])/100000.0\n",
    "print(\"P(30s): \"+ str(PF))\n",
    "\n",
    "# P(E) is just the oveall probability of buying something regardless of age\n",
    "PE = float(totalpurchases)/100000.0\n",
    "print(\"P(Purchase): \"+ str(PE))\n",
    "\n",
    "#P(F|E)\n",
    "print(\"P(30s|Purchase): \"+ str(float(purchases[30])/100000.0))\n",
    "\n",
    "# product of P(E) and P(F): P(E)P(F)\n",
    "print(\"P(Purchase)P(30s): \"+ str(PE*PF))"
   ]
  },
  {
   "cell_type": "markdown",
   "id": "06f30467",
   "metadata": {},
   "source": [
    "## EXERCISE:\n",
    "Modify the code above such that the purchase probability does not vary with age, making E and F independent.\n",
    "Then, confirm the P(E|F) is same as P(E), showing that the conditional probability of purchase for a given age is\n",
    "not any different than the probability of purchase regardless of age\n"
   ]
  },
  {
   "cell_type": "code",
   "execution_count": 18,
   "id": "393168b5",
   "metadata": {},
   "outputs": [
    {
     "name": "stdout",
     "output_type": "stream",
     "text": [
      "{20: 67056, 30: 66184, 40: 66683, 50: 66780, 60: 66887, 70: 66410}\n",
      "{20: 37087, 30: 37990, 40: 40127, 50: 41492, 60: 43397, 70: 44909}\n",
      "245002\n"
     ]
    }
   ],
   "source": [
    "for _ in range(100000):\n",
    "    ageDecade = random.choice([20,30,40,50,60,70])#select one of these\n",
    "    purchaseProbability = float(ageDecade)/100.0 #lesser the age lesser the probability\n",
    "    totals[ageDecade] +=1\n",
    "    \n",
    "    if(random.random()< 0.5):\n",
    "        totalpurchases+=1\n",
    "        purchases[ageDecade]+=1\n",
    "print(totals)\n",
    "print(purchases)\n",
    "print(totalpurchases)"
   ]
  },
  {
   "cell_type": "code",
   "execution_count": 19,
   "id": "f10cac0a",
   "metadata": {},
   "outputs": [
    {
     "name": "stdout",
     "output_type": "stream",
     "text": [
      "P(Purchase|30s): 0.5740058020065273\n",
      "P(30s): 0.66184\n",
      "P(Purchase): 2.45002\n",
      "P(30s|Purchase): 0.3799\n",
      "P(Purchase)P(30s): 1.6215212367999998\n"
     ]
    }
   ],
   "source": [
    "PEF = float(purchases[30])/float(totals[30])\n",
    "print(\"P(Purchase|30s): \"+ str(PEF))\n",
    "\n",
    "# P(F) is just the probability of being in 30s\n",
    "PF = float(totals[30])/100000.0\n",
    "print(\"P(30s): \"+ str(PF))\n",
    "\n",
    "# P(E) is just the oveall probability of buying something regardless of age\n",
    "PE = float(totalpurchases)/100000.0\n",
    "print(\"P(Purchase): \"+ str(PE))\n",
    "\n",
    "#P(F|E)\n",
    "print(\"P(30s|Purchase): \"+ str(float(purchases[30])/100000.0))\n",
    "\n",
    "# product of P(E) and P(F): P(E)P(F)\n",
    "print(\"P(Purchase)P(30s): \"+ str(PE*PF))"
   ]
  },
  {
   "cell_type": "code",
   "execution_count": null,
   "id": "00a44178",
   "metadata": {},
   "outputs": [],
   "source": []
  }
 ],
 "metadata": {
  "kernelspec": {
   "display_name": "Python 3 (ipykernel)",
   "language": "python",
   "name": "python3"
  },
  "language_info": {
   "codemirror_mode": {
    "name": "ipython",
    "version": 3
   },
   "file_extension": ".py",
   "mimetype": "text/x-python",
   "name": "python",
   "nbconvert_exporter": "python",
   "pygments_lexer": "ipython3",
   "version": "3.11.4"
  }
 },
 "nbformat": 4,
 "nbformat_minor": 5
}
