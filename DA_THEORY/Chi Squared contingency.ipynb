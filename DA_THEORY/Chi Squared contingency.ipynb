{
 "cells": [
  {
   "cell_type": "code",
   "execution_count": 2,
   "id": "933379c0",
   "metadata": {},
   "outputs": [],
   "source": [
    "import pandas as pd\n",
    "import numpy as np\n",
    "import matplotlib.pyplot as plt\n",
    "import seaborn as sns\n",
    "import warnings as ws\n",
    "from scipy.stats import chi2_contingency"
   ]
  },
  {
   "cell_type": "code",
   "execution_count": 3,
   "id": "e51c2cac",
   "metadata": {},
   "outputs": [
    {
     "data": {
      "text/html": [
       "<div>\n",
       "<style scoped>\n",
       "    .dataframe tbody tr th:only-of-type {\n",
       "        vertical-align: middle;\n",
       "    }\n",
       "\n",
       "    .dataframe tbody tr th {\n",
       "        vertical-align: top;\n",
       "    }\n",
       "\n",
       "    .dataframe thead th {\n",
       "        text-align: right;\n",
       "    }\n",
       "</style>\n",
       "<table border=\"1\" class=\"dataframe\">\n",
       "  <thead>\n",
       "    <tr style=\"text-align: right;\">\n",
       "      <th></th>\n",
       "      <th>age</th>\n",
       "      <th>anaemia</th>\n",
       "      <th>creatinine_phosphokinase</th>\n",
       "      <th>diabetes</th>\n",
       "      <th>ejection_fraction</th>\n",
       "      <th>high_blood_pressure</th>\n",
       "      <th>platelets</th>\n",
       "      <th>serum_creatinine</th>\n",
       "      <th>serum_sodium</th>\n",
       "      <th>sex</th>\n",
       "      <th>smoking</th>\n",
       "      <th>time</th>\n",
       "      <th>DEATH_EVENT</th>\n",
       "    </tr>\n",
       "  </thead>\n",
       "  <tbody>\n",
       "    <tr>\n",
       "      <th>0</th>\n",
       "      <td>75.0</td>\n",
       "      <td>0</td>\n",
       "      <td>582</td>\n",
       "      <td>0</td>\n",
       "      <td>20</td>\n",
       "      <td>1</td>\n",
       "      <td>265000.00</td>\n",
       "      <td>1.9</td>\n",
       "      <td>130</td>\n",
       "      <td>1</td>\n",
       "      <td>0</td>\n",
       "      <td>4</td>\n",
       "      <td>1</td>\n",
       "    </tr>\n",
       "    <tr>\n",
       "      <th>1</th>\n",
       "      <td>55.0</td>\n",
       "      <td>0</td>\n",
       "      <td>7861</td>\n",
       "      <td>0</td>\n",
       "      <td>38</td>\n",
       "      <td>0</td>\n",
       "      <td>263358.03</td>\n",
       "      <td>1.1</td>\n",
       "      <td>136</td>\n",
       "      <td>1</td>\n",
       "      <td>0</td>\n",
       "      <td>6</td>\n",
       "      <td>1</td>\n",
       "    </tr>\n",
       "    <tr>\n",
       "      <th>2</th>\n",
       "      <td>65.0</td>\n",
       "      <td>0</td>\n",
       "      <td>146</td>\n",
       "      <td>0</td>\n",
       "      <td>20</td>\n",
       "      <td>0</td>\n",
       "      <td>162000.00</td>\n",
       "      <td>1.3</td>\n",
       "      <td>129</td>\n",
       "      <td>1</td>\n",
       "      <td>1</td>\n",
       "      <td>7</td>\n",
       "      <td>1</td>\n",
       "    </tr>\n",
       "    <tr>\n",
       "      <th>3</th>\n",
       "      <td>50.0</td>\n",
       "      <td>1</td>\n",
       "      <td>111</td>\n",
       "      <td>0</td>\n",
       "      <td>20</td>\n",
       "      <td>0</td>\n",
       "      <td>210000.00</td>\n",
       "      <td>1.9</td>\n",
       "      <td>137</td>\n",
       "      <td>1</td>\n",
       "      <td>0</td>\n",
       "      <td>7</td>\n",
       "      <td>1</td>\n",
       "    </tr>\n",
       "    <tr>\n",
       "      <th>4</th>\n",
       "      <td>65.0</td>\n",
       "      <td>1</td>\n",
       "      <td>160</td>\n",
       "      <td>1</td>\n",
       "      <td>20</td>\n",
       "      <td>0</td>\n",
       "      <td>327000.00</td>\n",
       "      <td>2.7</td>\n",
       "      <td>116</td>\n",
       "      <td>0</td>\n",
       "      <td>0</td>\n",
       "      <td>8</td>\n",
       "      <td>1</td>\n",
       "    </tr>\n",
       "  </tbody>\n",
       "</table>\n",
       "</div>"
      ],
      "text/plain": [
       "    age  anaemia  creatinine_phosphokinase  diabetes  ejection_fraction  \\\n",
       "0  75.0        0                       582         0                 20   \n",
       "1  55.0        0                      7861         0                 38   \n",
       "2  65.0        0                       146         0                 20   \n",
       "3  50.0        1                       111         0                 20   \n",
       "4  65.0        1                       160         1                 20   \n",
       "\n",
       "   high_blood_pressure  platelets  serum_creatinine  serum_sodium  sex  \\\n",
       "0                    1  265000.00               1.9           130    1   \n",
       "1                    0  263358.03               1.1           136    1   \n",
       "2                    0  162000.00               1.3           129    1   \n",
       "3                    0  210000.00               1.9           137    1   \n",
       "4                    0  327000.00               2.7           116    0   \n",
       "\n",
       "   smoking  time  DEATH_EVENT  \n",
       "0        0     4            1  \n",
       "1        0     6            1  \n",
       "2        1     7            1  \n",
       "3        0     7            1  \n",
       "4        0     8            1  "
      ]
     },
     "execution_count": 3,
     "metadata": {},
     "output_type": "execute_result"
    }
   ],
   "source": [
    "df=pd.read_csv(\"heart_failure_clinical_records_dataset.csv\")\n",
    "df.head()"
   ]
  },
  {
   "cell_type": "code",
   "execution_count": 6,
   "id": "9041df76",
   "metadata": {},
   "outputs": [
    {
     "name": "stdout",
     "output_type": "stream",
     "text": [
      "against age\n",
      "Chi2ContingencyResult(statistic=69.14708896211634, pvalue=0.015227406432460549, dof=46, expected_freq=array([[ 4.75250836,  2.24749164],\n",
      "       [ 0.67892977,  0.32107023],\n",
      "       [ 4.75250836,  2.24749164],\n",
      "       [ 0.67892977,  0.32107023],\n",
      "       [ 1.35785953,  0.64214047],\n",
      "       [12.89966555,  6.10033445],\n",
      "       [ 2.0367893 ,  0.9632107 ],\n",
      "       [ 0.67892977,  0.32107023],\n",
      "       [ 1.35785953,  0.64214047],\n",
      "       [ 2.71571906,  1.28428094],\n",
      "       [18.33110368,  8.66889632],\n",
      "       [ 2.71571906,  1.28428094],\n",
      "       [ 3.39464883,  1.60535117],\n",
      "       [ 6.78929766,  3.21070234],\n",
      "       [ 1.35785953,  0.64214047],\n",
      "       [11.54180602,  5.45819398],\n",
      "       [ 0.67892977,  0.32107023],\n",
      "       [ 1.35785953,  0.64214047],\n",
      "       [ 6.78929766,  3.21070234],\n",
      "       [ 2.71571906,  1.28428094],\n",
      "       [22.40468227, 10.59531773],\n",
      "       [ 1.35785953,  0.64214047],\n",
      "       [ 2.71571906,  1.28428094],\n",
      "       [ 3.39464883,  1.60535117],\n",
      "       [ 5.43143813,  2.56856187],\n",
      "       [ 2.0367893 ,  0.9632107 ],\n",
      "       [17.65217391,  8.34782609],\n",
      "       [ 1.35785953,  0.64214047],\n",
      "       [ 1.35785953,  0.64214047],\n",
      "       [ 3.39464883,  1.60535117],\n",
      "       [ 2.0367893 ,  0.9632107 ],\n",
      "       [16.97324415,  8.02675585],\n",
      "       [ 4.75250836,  2.24749164],\n",
      "       [ 2.71571906,  1.28428094],\n",
      "       [ 7.46822742,  3.53177258],\n",
      "       [ 1.35785953,  0.64214047],\n",
      "       [ 1.35785953,  0.64214047],\n",
      "       [ 0.67892977,  0.32107023],\n",
      "       [ 4.75250836,  2.24749164],\n",
      "       [ 0.67892977,  0.32107023],\n",
      "       [ 2.0367893 ,  0.9632107 ],\n",
      "       [ 4.0735786 ,  1.9264214 ],\n",
      "       [ 0.67892977,  0.32107023],\n",
      "       [ 0.67892977,  0.32107023],\n",
      "       [ 2.0367893 ,  0.9632107 ],\n",
      "       [ 0.67892977,  0.32107023],\n",
      "       [ 1.35785953,  0.64214047]]))\n"
     ]
    }
   ],
   "source": [
    "print(\"against age\")\n",
    "print(chi2_contingency(pd.crosstab(index=df.age,columns=df['DEATH_EVENT'])))\n"
   ]
  },
  {
   "cell_type": "code",
   "execution_count": 8,
   "id": "91e870ea",
   "metadata": {},
   "outputs": [
    {
     "name": "stdout",
     "output_type": "stream",
     "text": [
      "against Anaemia\n",
      "Chi2ContingencyResult(statistic=1.042175485287005, pvalue=0.3073160508415107, dof=1, expected_freq=array([[115.4180602,  54.5819398],\n",
      "       [ 87.5819398,  41.4180602]]))\n"
     ]
    }
   ],
   "source": [
    "print(\"against Anaemia\")\n",
    "print(chi2_contingency(pd.crosstab(index=df.anaemia,columns=df['DEATH_EVENT'])))\n"
   ]
  },
  {
   "cell_type": "code",
   "execution_count": 9,
   "id": "09be5f57",
   "metadata": {},
   "outputs": [
    {
     "name": "stdout",
     "output_type": "stream",
     "text": [
      "against Diabetes\n",
      "Chi2ContingencyResult(statistic=0.0, pvalue=1.0, dof=1, expected_freq=array([[118.13377926,  55.86622074],\n",
      "       [ 84.86622074,  40.13377926]]))\n"
     ]
    }
   ],
   "source": [
    "print(\"against Diabetes\")\n",
    "print(chi2_contingency(pd.crosstab(index=df.diabetes,columns=df['DEATH_EVENT'])))"
   ]
  },
  {
   "cell_type": "code",
   "execution_count": 10,
   "id": "f7a111c6",
   "metadata": {},
   "outputs": [
    {
     "name": "stdout",
     "output_type": "stream",
     "text": [
      "against High Bood Pressure\n",
      "Chi2ContingencyResult(statistic=1.5434607612967581, pvalue=0.21410341199416902, dof=1, expected_freq=array([[131.71237458,  62.28762542],\n",
      "       [ 71.28762542,  33.71237458]]))\n"
     ]
    }
   ],
   "source": [
    "print(\"against High Bood Pressure\")\n",
    "print(chi2_contingency(pd.crosstab(index=df.high_blood_pressure,columns=df['DEATH_EVENT'])))"
   ]
  },
  {
   "cell_type": "code",
   "execution_count": 13,
   "id": "4b9a7e64",
   "metadata": {},
   "outputs": [
    {
     "name": "stdout",
     "output_type": "stream",
     "text": [
      "against Sex\n",
      "Chi2ContingencyResult(statistic=0.0, pvalue=1.0, dof=1, expected_freq=array([[ 71.28762542,  33.71237458],\n",
      "       [131.71237458,  62.28762542]]))\n"
     ]
    }
   ],
   "source": [
    "print(\"against Sex\")\n",
    "print(chi2_contingency(pd.crosstab(index=df.sex,columns=df['DEATH_EVENT'])))"
   ]
  },
  {
   "cell_type": "code",
   "execution_count": 31,
   "id": "a9d7e216",
   "metadata": {},
   "outputs": [
    {
     "data": {
      "image/png": "[encoded data removed]",
      "text/plain": [
       "<Figure size 2500x1000 with 1 Axes>"
      ]
     },
     "metadata": {},
     "output_type": "display_data"
    }
   ],
   "source": [
    "#The ony column categorical that has relationship with death event is age\n",
    "plt.figure(figsize=(25,10))\n",
    "title=plt.title('Survival and Deaths by age',fontsize=20)\n",
    "title.set_position([0.5,1.15])\n",
    "ax=sns.countplot(x='age',hue=\"DEATH_EVENT\",data=df)\n",
    "ax.set_xlabel('Age')\n",
    "ax.set_ylabel('Count')\n",
    "a=ax.set_xticklabels(ax.get_xticklabels(),rotation=30,horizontalalignment='center')\n",
    "plt.show()"
   ]
  },
  {
   "cell_type": "markdown",
   "id": "ab0f2303",
   "metadata": {},
   "source": [
    "## EXERCISE:\n",
    "## 1. IMPROVE THE GRAPH\n",
    "## 2. Try it with other variables"
   ]
  },
  {
   "cell_type": "code",
   "execution_count": null,
   "id": "9a62660e",
   "metadata": {},
   "outputs": [],
   "source": []
  }
 ],
 "metadata": {
  "kernelspec": {
   "display_name": "Python 3 (ipykernel)",
   "language": "python",
   "name": "python3"
  },
  "language_info": {
   "codemirror_mode": {
    "name": "ipython",
    "version": 3
   },
   "file_extension": ".py",
   "mimetype": "text/x-python",
   "name": "python",
   "nbconvert_exporter": "python",
   "pygments_lexer": "ipython3",
   "version": "3.11.4"
  }
 },
 "nbformat": 4,
 "nbformat_minor": 5
}
