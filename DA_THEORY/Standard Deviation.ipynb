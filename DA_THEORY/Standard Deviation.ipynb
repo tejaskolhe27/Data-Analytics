{
 "cells": [
  {
   "cell_type": "code",
   "execution_count": 24,
   "id": "bdf997e5",
   "metadata": {},
   "outputs": [
    {
     "name": "stdout",
     "output_type": "stream",
     "text": [
      "85.27\n",
      "75.66\n",
      "8.7\n"
     ]
    }
   ],
   "source": [
    "import numpy as np\n",
    "from scipy import *\n",
    "import statistics as st\n",
    "\n",
    "scores=[85,86,100,76,81,93,84,99,71,69,93,85,81,87,89]\n",
    "mean=st.mean(scores)\n",
    "print(round(mean,2))\n",
    "variance=st.pvariance(scores)\n",
    "print(round(variance,2))\n",
    "sd=np.sqrt(variance)\n",
    "print(round(sd,2))"
   ]
  },
  {
   "cell_type": "code",
   "execution_count": null,
   "id": "cc5c49b5",
   "metadata": {},
   "outputs": [],
   "source": []
  },
  {
   "cell_type": "code",
   "execution_count": null,
   "id": "f4926d50",
   "metadata": {},
   "outputs": [],
   "source": []
  }
 ],
 "metadata": {
  "kernelspec": {
   "display_name": "Python 3 (ipykernel)",
   "language": "python",
   "name": "python3"
  },
  "language_info": {
   "codemirror_mode": {
    "name": "ipython",
    "version": 3
   },
   "file_extension": ".py",
   "mimetype": "text/x-python",
   "name": "python",
   "nbconvert_exporter": "python",
   "pygments_lexer": "ipython3",
   "version": "3.11.4"
  }
 },
 "nbformat": 4,
 "nbformat_minor": 5
}
