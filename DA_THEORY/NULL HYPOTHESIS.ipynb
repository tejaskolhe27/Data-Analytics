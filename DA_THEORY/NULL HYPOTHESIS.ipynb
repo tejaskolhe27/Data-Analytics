{
 "cells": [
  {
   "cell_type": "code",
   "execution_count": 1,
   "id": "6fa4b262",
   "metadata": {},
   "outputs": [],
   "source": [
    "import numpy as np\n",
    "from scipy import stats"
   ]
  },
  {
   "cell_type": "code",
   "execution_count": 9,
   "id": "6b6f055b",
   "metadata": {},
   "outputs": [
    {
     "name": "stdout",
     "output_type": "stream",
     "text": [
      "Reject the null hypothesis\n",
      "t-statistic: -3.0994744027066528\n",
      "p_value: 0.005902031077494768\n"
     ]
    }
   ],
   "source": [
    "data =  np.array([11.8,11.7,12.2,11.9,11.5,12.1,12.0,11.8,11.6,12.2,11.9,11.7,\n",
    "                  12.0,11.8,11.6,11.7,11.9,11.5,12.1,12.0])\n",
    "population_mean = 12.0 # Hypothesized population mean\n",
    "alpha = 0.05\n",
    "t_statistic,p_value = stats.ttest_1samp(data,population_mean)\n",
    "\n",
    "if p_value<alpha:\n",
    "    print(\"Reject the null hypothesis\")\n",
    "else:\n",
    "    print(\"Failed to reject the null hypothesis\")\n",
    "\n",
    "print(f\"t-statistic: {t_statistic}\")\n",
    "print(f\"p_value: {p_value}\")"
   ]
  },
  {
   "cell_type": "code",
   "execution_count": null,
   "id": "229f7dcf",
   "metadata": {},
   "outputs": [],
   "source": []
  }
 ],
 "metadata": {
  "kernelspec": {
   "display_name": "Python 3 (ipykernel)",
   "language": "python",
   "name": "python3"
  },
  "language_info": {
   "codemirror_mode": {
    "name": "ipython",
    "version": 3
   },
   "file_extension": ".py",
   "mimetype": "text/x-python",
   "name": "python",
   "nbconvert_exporter": "python",
   "pygments_lexer": "ipython3",
   "version": "3.11.4"
  }
 },
 "nbformat": 4,
 "nbformat_minor": 5
}
