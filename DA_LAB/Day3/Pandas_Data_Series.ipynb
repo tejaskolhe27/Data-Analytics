{
 "cells": [
  {
   "cell_type": "code",
   "execution_count": 1,
   "id": "87fb3cde",
   "metadata": {},
   "outputs": [],
   "source": [
    "import pandas as pd\n",
    "import numpy as np\n"
   ]
  },
  {
   "cell_type": "markdown",
   "id": "38107323",
   "metadata": {},
   "source": [
    "Q1 Write a Pandas program to create and display a one-dimensional array-like\n",
    "object containing an array of data using Pandas module."
   ]
  },
  {
   "cell_type": "code",
   "execution_count": 2,
   "id": "078de843",
   "metadata": {},
   "outputs": [
    {
     "data": {
      "text/plain": [
       "0    1\n",
       "1    2\n",
       "2    3\n",
       "3    4\n",
       "4    5\n",
       "5    5\n",
       "dtype: int64"
      ]
     },
     "execution_count": 2,
     "metadata": {},
     "output_type": "execute_result"
    }
   ],
   "source": [
    "ques1 =  pd.Series([1,2,3,4,5,5])\n",
    "ques1"
   ]
  },
  {
   "cell_type": "markdown",
   "id": "6d2ac5b7",
   "metadata": {},
   "source": [
    "Write a Pandas program to convert a Panda module Series to Python list\n",
    "and it's type."
   ]
  },
  {
   "cell_type": "code",
   "execution_count": 3,
   "id": "29a0f411",
   "metadata": {},
   "outputs": [
    {
     "data": {
      "text/plain": [
       "[1, 2, 3, 4, 5, 5]"
      ]
     },
     "execution_count": 3,
     "metadata": {},
     "output_type": "execute_result"
    }
   ],
   "source": [
    "lst = list(ques1)\n",
    "lst"
   ]
  },
  {
   "cell_type": "markdown",
   "id": "e0e53580",
   "metadata": {},
   "source": [
    "Write a Pandas program to add, subtract, multiple and divide two Pandas\n",
    "Series."
   ]
  },
  {
   "cell_type": "code",
   "execution_count": 4,
   "id": "c027ca99",
   "metadata": {},
   "outputs": [
    {
     "data": {
      "text/plain": [
       "([0     3\n",
       "  1     7\n",
       "  2    11\n",
       "  3    15\n",
       "  4    19\n",
       "  dtype: int64],\n",
       " [0    1\n",
       "  1    1\n",
       "  2    1\n",
       "  3    1\n",
       "  4    1\n",
       "  dtype: int64],\n",
       " [0     2\n",
       "  1    12\n",
       "  2    30\n",
       "  3    56\n",
       "  4    90\n",
       "  dtype: int64],\n",
       " [0    2.000000\n",
       "  1    1.333333\n",
       "  2    1.200000\n",
       "  3    1.142857\n",
       "  4    1.111111\n",
       "  dtype: float64])"
      ]
     },
     "execution_count": 4,
     "metadata": {},
     "output_type": "execute_result"
    }
   ],
   "source": [
    "series1 = pd.Series([2, 4, 6, 8, 10])\n",
    "series2 = pd.Series([1, 3, 5, 7, 9])\n",
    "add = [series1+series2]\n",
    "subtract = [series1-series2]\n",
    "mul = [series1*series2]\n",
    "div = [series1/series2]\n",
    "\n",
    "add,subtract,mul,div"
   ]
  },
  {
   "cell_type": "markdown",
   "id": "223b7f68",
   "metadata": {},
   "source": [
    "Write a Pandas program to compare the elements of the two Pandas\n",
    "Series.\n",
    "\n",
    "Sample Series: [2, 4, 6, 8, 10], [1, 3, 5, 7, 10]"
   ]
  },
  {
   "cell_type": "code",
   "execution_count": 5,
   "id": "62782261",
   "metadata": {},
   "outputs": [
    {
     "name": "stdout",
     "output_type": "stream",
     "text": [
      "Not equal\n",
      "Not equal\n",
      "Not equal\n",
      "Not equal\n",
      "Not equal\n"
     ]
    }
   ],
   "source": [
    "for i in range(5):\n",
    "    if(series1[i]==series2[i]):\n",
    "        print(\"Equal\")\n",
    "    else:\n",
    "        print(\"Not equal\")"
   ]
  },
  {
   "cell_type": "code",
   "execution_count": 6,
   "id": "10988464",
   "metadata": {},
   "outputs": [
    {
     "data": {
      "text/plain": [
       "0    False\n",
       "1    False\n",
       "2    False\n",
       "3    False\n",
       "4    False\n",
       "dtype: bool"
      ]
     },
     "execution_count": 6,
     "metadata": {},
     "output_type": "execute_result"
    }
   ],
   "source": [
    "series1 ==series2"
   ]
  },
  {
   "cell_type": "markdown",
   "id": "43d3fddc",
   "metadata": {},
   "source": [
    "Write a Pandas program to convert a dictionary to a Pandas series."
   ]
  },
  {
   "cell_type": "code",
   "execution_count": 7,
   "id": "4a02386c",
   "metadata": {},
   "outputs": [
    {
     "name": "stdout",
     "output_type": "stream",
     "text": [
      "Original dictionary: \n",
      "{'a': 100, 'b': 200, 'c': 300, 'd': 400, 'e': 800}\n",
      "Cinverted series\n",
      "a    100\n",
      "b    200\n",
      "c    300\n",
      "d    400\n",
      "e    800\n",
      "dtype: int64\n"
     ]
    }
   ],
   "source": [
    "dict={'a': 100, 'b': 200, 'c': 300, 'd': 400, 'e': 800}\n",
    "df=pd.Series(dict)\n",
    "print(\"Original dictionary: \")\n",
    "print(dict)\n",
    "print(\"Cinverted series\")\n",
    "print(df)"
   ]
  },
  {
   "cell_type": "markdown",
   "id": "95ecf657",
   "metadata": {},
   "source": [
    "6. Write a Pandas program to convert a NumPy array to a Pandas series."
   ]
  },
  {
   "cell_type": "code",
   "execution_count": 8,
   "id": "3a195bfc",
   "metadata": {},
   "outputs": [
    {
     "data": {
      "text/plain": [
       "0    1\n",
       "1    2\n",
       "2    3\n",
       "3    4\n",
       "4    5\n",
       "dtype: int64"
      ]
     },
     "execution_count": 8,
     "metadata": {},
     "output_type": "execute_result"
    }
   ],
   "source": [
    "n=np.array([1,2,3,4,5])\n",
    "ser=pd.Series(n)\n",
    "ser"
   ]
  },
  {
   "cell_type": "markdown",
   "id": "4da01b3d",
   "metadata": {},
   "source": [
    "7. Write a Pandas program to change the data type of given a column or a\n",
    "Series."
   ]
  },
  {
   "cell_type": "code",
   "execution_count": 10,
   "id": "f848e5db",
   "metadata": {},
   "outputs": [
    {
     "data": {
      "text/plain": [
       "0       100\n",
       "1       200\n",
       "2    Python\n",
       "3    300.12\n",
       "4       400\n",
       "dtype: object"
      ]
     },
     "execution_count": 10,
     "metadata": {},
     "output_type": "execute_result"
    }
   ],
   "source": [
    "d={'0':100,'1':200,'2':'Python','3':300.12,'4':400}\n",
    "s=pd.Series(d)\n",
    "s"
   ]
  },
  {
   "cell_type": "code",
   "execution_count": 16,
   "id": "a4dc8761",
   "metadata": {},
   "outputs": [
    {
     "data": {
      "text/plain": [
       "0    100.00\n",
       "1    200.00\n",
       "2       NaN\n",
       "3    300.12\n",
       "4    400.00\n",
       "dtype: float64"
      ]
     },
     "execution_count": 16,
     "metadata": {},
     "output_type": "execute_result"
    }
   ],
   "source": [
    "s1=pd.to_numeric(s,errors='coerce')\n",
    "s1"
   ]
  },
  {
   "cell_type": "markdown",
   "id": "7be7b627",
   "metadata": {},
   "source": [
    "8. Write a Pandas program to convert the first column of a DataFrame as a\n",
    "Series."
   ]
  },
  {
   "cell_type": "code",
   "execution_count": 19,
   "id": "779ad2ec",
   "metadata": {},
   "outputs": [
    {
     "data": {
      "text/plain": [
       "0     1\n",
       "1     2\n",
       "2     3\n",
       "3     4\n",
       "4     7\n",
       "5    11\n",
       "Name: col1, dtype: int64"
      ]
     },
     "execution_count": 19,
     "metadata": {},
     "output_type": "execute_result"
    }
   ],
   "source": [
    "d= pd.DataFrame({'col1':[1,2,3,4,7,11],\n",
    "                'col2':[14,5,6,9,5,0],\n",
    "                'col3':[7,5,8,12,1,11]\n",
    "                })\n",
    "series= pd.Series(d['col1'])\n",
    "series"
   ]
  },
  {
   "cell_type": "markdown",
   "id": "95299eca",
   "metadata": {},
   "source": [
    "Write a Pandas program to convert a given Series to an array."
   ]
  },
  {
   "cell_type": "code",
   "execution_count": 22,
   "id": "20692960",
   "metadata": {},
   "outputs": [
    {
     "name": "stdout",
     "output_type": "stream",
     "text": [
      "[100 200 'Python' 300.12 400]\n"
     ]
    }
   ],
   "source": [
    "arr=np.array(s)\n",
    "print(arr)"
   ]
  },
  {
   "cell_type": "markdown",
   "id": "f4b25deb",
   "metadata": {},
   "source": [
    "Write a Pandas program to convert Series of lists to one Series."
   ]
  },
  {
   "cell_type": "code",
   "execution_count": 25,
   "id": "28514833",
   "metadata": {},
   "outputs": [
    {
     "data": {
      "text/plain": [
       "0    [Red, Green, White]\n",
       "1           [Red, Black]\n",
       "2               [Yellow]\n",
       "dtype: object"
      ]
     },
     "execution_count": 25,
     "metadata": {},
     "output_type": "execute_result"
    }
   ],
   "source": [
    "one = [\"Red\", \"Green\", \"White\"]\n",
    "two = ['Red', \"Black\"]\n",
    "three = [\"Yellow\"]\n",
    "series = pd.Series([one,two,three])\n",
    "series"
   ]
  },
  {
   "cell_type": "code",
   "execution_count": 28,
   "id": "debd426c",
   "metadata": {},
   "outputs": [
    {
     "data": {
      "text/plain": [
       "0       Red\n",
       "1     Green\n",
       "2     White\n",
       "3       Red\n",
       "4     Black\n",
       "5    Yellow\n",
       "dtype: object"
      ]
     },
     "execution_count": 28,
     "metadata": {},
     "output_type": "execute_result"
    }
   ],
   "source": [
    "group=one+two+three\n",
    "series=pd.Series(group)\n",
    "series"
   ]
  },
  {
   "cell_type": "markdown",
   "id": "d5eae89d",
   "metadata": {},
   "source": [
    "Write a Pandas program to sort a given Series."
   ]
  },
  {
   "cell_type": "code",
   "execution_count": 35,
   "id": "907b518c",
   "metadata": {},
   "outputs": [
    {
     "name": "stdout",
     "output_type": "stream",
     "text": [
      "Original Data Series:\n",
      "0       100\n",
      "1       200\n",
      "2    python\n",
      "3    300.12\n",
      "4       400\n",
      "dtype: object\n",
      "0       100\n",
      "1       200\n",
      "3    300.12\n",
      "4       400\n",
      "2    python\n",
      "dtype: object\n"
     ]
    }
   ],
   "source": [
    "s = pd.Series(['100', '200', 'python', '300.12', '400'])\n",
    "print(\"Original Data Series:\")\n",
    "print(s)\n",
    "new_s = pd.Series(s).sort_values()\n",
    "print(new_s)"
   ]
  },
  {
   "cell_type": "markdown",
   "id": "4ddd8102",
   "metadata": {},
   "source": [
    "Write a Pandas program to add some data to an existing Series."
   ]
  },
  {
   "cell_type": "code",
   "execution_count": 40,
   "id": "41ab3127",
   "metadata": {},
   "outputs": [
    {
     "data": {
      "text/plain": [
       "0       100\n",
       "1       200\n",
       "2    python\n",
       "3    300.12\n",
       "4       400\n",
       "5       500\n",
       "6       php\n",
       "dtype: object"
      ]
     },
     "execution_count": 40,
     "metadata": {},
     "output_type": "execute_result"
    }
   ],
   "source": [
    "new_s = pd.concat([s, pd.Series([500, \"php\"])], ignore_index=True)\n",
    "new_s"
   ]
  },
  {
   "cell_type": "markdown",
   "id": "90ee74e9",
   "metadata": {},
   "source": [
    "13. Write a Pandas program to create a subset of a given series based on value and\n",
    "condition."
   ]
  },
  {
   "cell_type": "code",
   "execution_count": null,
   "id": "78302a8e",
   "metadata": {},
   "outputs": [],
   "source": []
  },
  {
   "cell_type": "markdown",
   "id": "523e08ee",
   "metadata": {},
   "source": [
    "14.Write a Pandas program to change the order of index of a given series.\n"
   ]
  },
  {
   "cell_type": "code",
   "execution_count": 51,
   "id": "2b3075e2",
   "metadata": {},
   "outputs": [
    {
     "data": {
      "text/plain": [
       "B    2\n",
       "A    1\n",
       "C    3\n",
       "D    4\n",
       "E    5\n",
       "dtype: int64"
      ]
     },
     "execution_count": 51,
     "metadata": {},
     "output_type": "execute_result"
    }
   ],
   "source": [
    "Series = pd.Series({'A':1,'B':2,'C':3,'D':4,'E':5})\n",
    "Series.reindex(index = ['B','A','C','D','E'])"
   ]
  },
  {
   "cell_type": "markdown",
   "id": "33f551ae",
   "metadata": {},
   "source": [
    "15. Write a Pandas program to create the mean and standard deviation of the data of a\n",
    "given Series."
   ]
  },
  {
   "cell_type": "code",
   "execution_count": 54,
   "id": "4a7de399",
   "metadata": {},
   "outputs": [
    {
     "data": {
      "text/plain": [
       "(5.0, 2.581988897471611)"
      ]
     },
     "execution_count": 54,
     "metadata": {},
     "output_type": "execute_result"
    }
   ],
   "source": [
    "series=pd.Series([2,5,4,3,9,5,1,8,6,7])\n",
    "series.mean(), series.std()"
   ]
  },
  {
   "cell_type": "markdown",
   "id": "eb77a149",
   "metadata": {},
   "source": [
    "16. Write a Pandas program to get the items of a given series not present in another given\n",
    "series."
   ]
  },
  {
   "cell_type": "code",
   "execution_count": 64,
   "id": "83956483",
   "metadata": {},
   "outputs": [
    {
     "name": "stdout",
     "output_type": "stream",
     "text": [
      "0    1\n",
      "2    3\n",
      "4    5\n",
      "dtype: int64\n"
     ]
    }
   ],
   "source": [
    "sr1=pd.Series([1,2,3,4,5])\n",
    "sr2=pd.Series([2,4,6,8,10])\n",
    "result = sr1[~sr1.isin(sr2)]\n",
    "print(result)"
   ]
  },
  {
   "cell_type": "markdown",
   "id": "e1c17d44",
   "metadata": {},
   "source": [
    "17. Write a Pandas program to get the items which are not common of two given series."
   ]
  },
  {
   "cell_type": "code",
   "execution_count": 65,
   "id": "194b1a69",
   "metadata": {},
   "outputs": [
    {
     "name": "stdout",
     "output_type": "stream",
     "text": [
      "0     1\n",
      "2     3\n",
      "4     5\n",
      "5     6\n",
      "6     8\n",
      "7    10\n",
      "dtype: int64\n"
     ]
    }
   ],
   "source": [
    "sr11 = pd.Series(np.union1d(sr1, sr2))\n",
    "sr22 = pd.Series(np.intersect1d(sr1, sr2))\n",
    "result = sr11[~sr11.isin(sr22)]\n",
    "print(result)"
   ]
  },
  {
   "cell_type": "markdown",
   "id": "c8dd9a97",
   "metadata": {},
   "source": [
    "18. Write a Pandas program to compute the minimum, 25th percentile, median, 75th, and\n",
    "maximum of a given series."
   ]
  },
  {
   "cell_type": "code",
   "execution_count": 69,
   "id": "c01a95a1",
   "metadata": {},
   "outputs": [
    {
     "name": "stdout",
     "output_type": "stream",
     "text": [
      "Original Series:\n",
      "0      3.000938\n",
      "1     11.370722\n",
      "2     14.612143\n",
      "3      8.990256\n",
      "4     13.925283\n",
      "5     12.056875\n",
      "6     10.884719\n",
      "7      5.719827\n",
      "8      9.242017\n",
      "9     11.020006\n",
      "10     8.167892\n",
      "11    11.740654\n",
      "12     7.665620\n",
      "13    13.267388\n",
      "14    12.690883\n",
      "15     9.582355\n",
      "16     7.874878\n",
      "17    14.118931\n",
      "18     8.247458\n",
      "19     5.526727\n",
      "dtype: float64\n",
      "\n",
      "Minimum, 25th percentile, median, 75th, and maximum of a given series:\n",
      "[ 3.00093811  8.09463867 10.23353705 12.21537733 14.61214321]\n"
     ]
    }
   ],
   "source": [
    "num_state = np.random.RandomState(100)\n",
    "num_series = pd.Series(num_state.normal(10, 4, 20))\n",
    "print(\"Original Series:\")\n",
    "print(num_series)\n",
    "result = np.percentile(num_series, q=[0, 25, 50, 75, 100])\n",
    "print(\"\\nMinimum, 25th percentile, median, 75th, and maximum of a given series:\")\n",
    "print(result)"
   ]
  },
  {
   "cell_type": "markdown",
   "id": "d1aff819",
   "metadata": {},
   "source": [
    "19. Write a Pandas program to calculate the frequency counts of each unique value of a\n",
    "given series."
   ]
  },
  {
   "cell_type": "code",
   "execution_count": 75,
   "id": "da21d3f1",
   "metadata": {},
   "outputs": [
    {
     "data": {
      "text/plain": [
       "9    8\n",
       "5    7\n",
       "2    5\n",
       "0    5\n",
       "1    5\n",
       "6    3\n",
       "7    2\n",
       "8    2\n",
       "3    2\n",
       "4    1\n",
       "Name: count, dtype: int64"
      ]
     },
     "execution_count": 75,
     "metadata": {},
     "output_type": "execute_result"
    }
   ],
   "source": [
    "q19=pd.Series(np.take(list('0123456789'), np.random.randint(10, size=40)))\n",
    "q19.value_counts()"
   ]
  },
  {
   "cell_type": "markdown",
   "id": "0247013a",
   "metadata": {},
   "source": [
    "20. Write a Pandas program to display most frequent value in a given series and replace\n",
    "everything else as 'Other' in the series."
   ]
  },
  {
   "cell_type": "code",
   "execution_count": 88,
   "id": "dbc060d6",
   "metadata": {},
   "outputs": [
    {
     "name": "stdout",
     "output_type": "stream",
     "text": [
      "Original Series:\n",
      "0     3\n",
      "1     2\n",
      "2     3\n",
      "3     2\n",
      "4     2\n",
      "5     2\n",
      "6     4\n",
      "7     3\n",
      "8     2\n",
      "9     2\n",
      "10    2\n",
      "11    2\n",
      "12    1\n",
      "13    1\n",
      "14    4\n",
      "dtype: int64\n",
      "Top 2 Freq: 2    8\n",
      "3    3\n",
      "4    2\n",
      "1    2\n",
      "Name: count, dtype: int64\n",
      "0     Other\n",
      "1         2\n",
      "2     Other\n",
      "3         2\n",
      "4         2\n",
      "5         2\n",
      "6     Other\n",
      "7     Other\n",
      "8         2\n",
      "9         2\n",
      "10        2\n",
      "11        2\n",
      "12    Other\n",
      "13    Other\n",
      "14    Other\n",
      "dtype: object\n"
     ]
    }
   ],
   "source": [
    "num_series = pd.Series(np.random.randint(1, 5, [15]))\n",
    "print(\"Original Series:\")\n",
    "print(num_series)\n",
    "print(\"Top 2 Freq:\", num_series.value_counts())\n",
    "result = num_series[~num_series.isin(num_series.value_counts().index[:1])] = 'Other'\n",
    "print(num_series)"
   ]
  },
  {
   "cell_type": "markdown",
   "id": "2847ffff",
   "metadata": {},
   "source": [
    "21. Write a Pandas program to find the positions of numbers that are multiples of 5 of a\n",
    "given series."
   ]
  },
  {
   "cell_type": "code",
   "execution_count": 92,
   "id": "537fcb37",
   "metadata": {},
   "outputs": [
    {
     "name": "stdout",
     "output_type": "stream",
     "text": [
      "Original Series:\n",
      "0    6\n",
      "1    6\n",
      "2    9\n",
      "3    9\n",
      "4    9\n",
      "5    7\n",
      "6    9\n",
      "7    9\n",
      "8    3\n",
      "dtype: int64\n",
      "Positions of numbers that are multiples of 5:\n",
      "(array([], dtype=int64),)\n"
     ]
    }
   ],
   "source": [
    "num_series = pd.Series(np.random.randint(1, 10, 9))\n",
    "print(\"Original Series:\")\n",
    "print(num_series)\n",
    "result = np.where(num_series % 5==0)\n",
    "print(\"Positions of numbers that are multiples of 5:\")\n",
    "print(result)"
   ]
  },
  {
   "cell_type": "markdown",
   "id": "73ee053f",
   "metadata": {},
   "source": [
    "# INCOMPLETE"
   ]
  },
  {
   "cell_type": "code",
   "execution_count": null,
   "id": "81826f94",
   "metadata": {},
   "outputs": [],
   "source": []
  }
 ],
 "metadata": {
  "kernelspec": {
   "display_name": "Python 3 (ipykernel)",
   "language": "python",
   "name": "python3"
  },
  "language_info": {
   "codemirror_mode": {
    "name": "ipython",
    "version": 3
   },
   "file_extension": ".py",
   "mimetype": "text/x-python",
   "name": "python",
   "nbconvert_exporter": "python",
   "pygments_lexer": "ipython3",
   "version": "3.11.4"
  }
 },
 "nbformat": 4,
 "nbformat_minor": 5
}
