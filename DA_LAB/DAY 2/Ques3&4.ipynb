{
 "cells": [
  {
   "cell_type": "code",
   "execution_count": 1,
   "id": "2ebe0cfd",
   "metadata": {},
   "outputs": [],
   "source": [
    "import pandas as pd\n",
    "import numpy as np\n",
    "import matplotlib.pyplot as plt\n",
    "import seaborn as sns"
   ]
  },
  {
   "cell_type": "code",
   "execution_count": 2,
   "id": "35b31a75",
   "metadata": {},
   "outputs": [],
   "source": [
    "car08= pd.read_csv('clean08.csv')\n",
    "car18 = pd.read_csv('clean18.csv')\n"
   ]
  },
  {
   "cell_type": "code",
   "execution_count": 3,
   "id": "af4604c8",
   "metadata": {},
   "outputs": [
    {
     "data": {
      "text/html": [
       "<div>\n",
       "<style scoped>\n",
       "    .dataframe tbody tr th:only-of-type {\n",
       "        vertical-align: middle;\n",
       "    }\n",
       "\n",
       "    .dataframe tbody tr th {\n",
       "        vertical-align: top;\n",
       "    }\n",
       "\n",
       "    .dataframe thead th {\n",
       "        text-align: right;\n",
       "    }\n",
       "</style>\n",
       "<table border=\"1\" class=\"dataframe\">\n",
       "  <thead>\n",
       "    <tr style=\"text-align: right;\">\n",
       "      <th></th>\n",
       "      <th>model</th>\n",
       "      <th>displ</th>\n",
       "      <th>cyl</th>\n",
       "      <th>trans</th>\n",
       "      <th>drive</th>\n",
       "      <th>fuel</th>\n",
       "      <th>veh_class</th>\n",
       "      <th>air_pollution_score</th>\n",
       "      <th>city_mpg</th>\n",
       "      <th>hwy_mpg</th>\n",
       "      <th>cmb_mpg</th>\n",
       "      <th>greenhouse_gas_score</th>\n",
       "      <th>smartway</th>\n",
       "    </tr>\n",
       "  </thead>\n",
       "  <tbody>\n",
       "    <tr>\n",
       "      <th>0</th>\n",
       "      <td>ACURA MDX</td>\n",
       "      <td>3.7</td>\n",
       "      <td>6</td>\n",
       "      <td>Auto-S5</td>\n",
       "      <td>4WD</td>\n",
       "      <td>Gasoline</td>\n",
       "      <td>SUV</td>\n",
       "      <td>7.0</td>\n",
       "      <td>15.0</td>\n",
       "      <td>20.0</td>\n",
       "      <td>17.0</td>\n",
       "      <td>4</td>\n",
       "      <td>no</td>\n",
       "    </tr>\n",
       "    <tr>\n",
       "      <th>1</th>\n",
       "      <td>ACURA RDX</td>\n",
       "      <td>2.3</td>\n",
       "      <td>4</td>\n",
       "      <td>Auto-S5</td>\n",
       "      <td>4WD</td>\n",
       "      <td>Gasoline</td>\n",
       "      <td>SUV</td>\n",
       "      <td>7.0</td>\n",
       "      <td>17.0</td>\n",
       "      <td>22.0</td>\n",
       "      <td>19.0</td>\n",
       "      <td>5</td>\n",
       "      <td>no</td>\n",
       "    </tr>\n",
       "    <tr>\n",
       "      <th>2</th>\n",
       "      <td>ACURA RL</td>\n",
       "      <td>3.5</td>\n",
       "      <td>6</td>\n",
       "      <td>Auto-S5</td>\n",
       "      <td>4WD</td>\n",
       "      <td>Gasoline</td>\n",
       "      <td>midsize car</td>\n",
       "      <td>7.0</td>\n",
       "      <td>16.0</td>\n",
       "      <td>24.0</td>\n",
       "      <td>19.0</td>\n",
       "      <td>5</td>\n",
       "      <td>no</td>\n",
       "    </tr>\n",
       "    <tr>\n",
       "      <th>3</th>\n",
       "      <td>ACURA TL</td>\n",
       "      <td>3.2</td>\n",
       "      <td>6</td>\n",
       "      <td>Auto-S5</td>\n",
       "      <td>2WD</td>\n",
       "      <td>Gasoline</td>\n",
       "      <td>midsize car</td>\n",
       "      <td>7.0</td>\n",
       "      <td>18.0</td>\n",
       "      <td>26.0</td>\n",
       "      <td>21.0</td>\n",
       "      <td>6</td>\n",
       "      <td>yes</td>\n",
       "    </tr>\n",
       "    <tr>\n",
       "      <th>4</th>\n",
       "      <td>ACURA TL</td>\n",
       "      <td>3.5</td>\n",
       "      <td>6</td>\n",
       "      <td>Auto-S5</td>\n",
       "      <td>2WD</td>\n",
       "      <td>Gasoline</td>\n",
       "      <td>midsize car</td>\n",
       "      <td>7.0</td>\n",
       "      <td>17.0</td>\n",
       "      <td>26.0</td>\n",
       "      <td>20.0</td>\n",
       "      <td>6</td>\n",
       "      <td>yes</td>\n",
       "    </tr>\n",
       "  </tbody>\n",
       "</table>\n",
       "</div>"
      ],
      "text/plain": [
       "       model  displ  cyl    trans drive      fuel    veh_class  \\\n",
       "0  ACURA MDX    3.7    6  Auto-S5   4WD  Gasoline          SUV   \n",
       "1  ACURA RDX    2.3    4  Auto-S5   4WD  Gasoline          SUV   \n",
       "2   ACURA RL    3.5    6  Auto-S5   4WD  Gasoline  midsize car   \n",
       "3   ACURA TL    3.2    6  Auto-S5   2WD  Gasoline  midsize car   \n",
       "4   ACURA TL    3.5    6  Auto-S5   2WD  Gasoline  midsize car   \n",
       "\n",
       "   air_pollution_score  city_mpg  hwy_mpg  cmb_mpg  greenhouse_gas_score  \\\n",
       "0                  7.0      15.0     20.0     17.0                     4   \n",
       "1                  7.0      17.0     22.0     19.0                     5   \n",
       "2                  7.0      16.0     24.0     19.0                     5   \n",
       "3                  7.0      18.0     26.0     21.0                     6   \n",
       "4                  7.0      17.0     26.0     20.0                     6   \n",
       "\n",
       "  smartway  \n",
       "0       no  \n",
       "1       no  \n",
       "2       no  \n",
       "3      yes  \n",
       "4      yes  "
      ]
     },
     "execution_count": 3,
     "metadata": {},
     "output_type": "execute_result"
    }
   ],
   "source": [
    "car08.head()"
   ]
  },
  {
   "cell_type": "code",
   "execution_count": 4,
   "id": "99dfdf1e",
   "metadata": {},
   "outputs": [
    {
     "name": "stdout",
     "output_type": "stream",
     "text": [
      "<class 'pandas.core.frame.DataFrame'>\n",
      "RangeIndex: 987 entries, 0 to 986\n",
      "Data columns (total 13 columns):\n",
      " #   Column                Non-Null Count  Dtype  \n",
      "---  ------                --------------  -----  \n",
      " 0   model                 987 non-null    object \n",
      " 1   displ                 987 non-null    float64\n",
      " 2   cyl                   987 non-null    int64  \n",
      " 3   trans                 987 non-null    object \n",
      " 4   drive                 987 non-null    object \n",
      " 5   fuel                  987 non-null    object \n",
      " 6   veh_class             987 non-null    object \n",
      " 7   air_pollution_score   987 non-null    float64\n",
      " 8   city_mpg              987 non-null    float64\n",
      " 9   hwy_mpg               987 non-null    float64\n",
      " 10  cmb_mpg               987 non-null    float64\n",
      " 11  greenhouse_gas_score  987 non-null    int64  \n",
      " 12  smartway              987 non-null    object \n",
      "dtypes: float64(5), int64(2), object(6)\n",
      "memory usage: 100.4+ KB\n"
     ]
    }
   ],
   "source": [
    "car08.info()"
   ]
  },
  {
   "cell_type": "code",
   "execution_count": 5,
   "id": "deb22611",
   "metadata": {},
   "outputs": [
    {
     "data": {
      "text/html": [
       "<div>\n",
       "<style scoped>\n",
       "    .dataframe tbody tr th:only-of-type {\n",
       "        vertical-align: middle;\n",
       "    }\n",
       "\n",
       "    .dataframe tbody tr th {\n",
       "        vertical-align: top;\n",
       "    }\n",
       "\n",
       "    .dataframe thead th {\n",
       "        text-align: right;\n",
       "    }\n",
       "</style>\n",
       "<table border=\"1\" class=\"dataframe\">\n",
       "  <thead>\n",
       "    <tr style=\"text-align: right;\">\n",
       "      <th></th>\n",
       "      <th>model</th>\n",
       "      <th>displ</th>\n",
       "      <th>cyl</th>\n",
       "      <th>trans</th>\n",
       "      <th>drive</th>\n",
       "      <th>fuel</th>\n",
       "      <th>veh_class</th>\n",
       "      <th>air_pollution_score</th>\n",
       "      <th>city_mpg</th>\n",
       "      <th>hwy_mpg</th>\n",
       "      <th>cmb_mpg</th>\n",
       "      <th>greenhouse_gas_score</th>\n",
       "      <th>smartway</th>\n",
       "    </tr>\n",
       "  </thead>\n",
       "  <tbody>\n",
       "    <tr>\n",
       "      <th>0</th>\n",
       "      <td>ACURA RDX</td>\n",
       "      <td>3.5</td>\n",
       "      <td>6</td>\n",
       "      <td>SemiAuto-6</td>\n",
       "      <td>2WD</td>\n",
       "      <td>Gasoline</td>\n",
       "      <td>small SUV</td>\n",
       "      <td>3.0</td>\n",
       "      <td>20.0</td>\n",
       "      <td>28.0</td>\n",
       "      <td>23.0</td>\n",
       "      <td>5</td>\n",
       "      <td>No</td>\n",
       "    </tr>\n",
       "    <tr>\n",
       "      <th>1</th>\n",
       "      <td>ACURA RDX</td>\n",
       "      <td>3.5</td>\n",
       "      <td>6</td>\n",
       "      <td>SemiAuto-6</td>\n",
       "      <td>4WD</td>\n",
       "      <td>Gasoline</td>\n",
       "      <td>small SUV</td>\n",
       "      <td>3.0</td>\n",
       "      <td>19.0</td>\n",
       "      <td>27.0</td>\n",
       "      <td>22.0</td>\n",
       "      <td>4</td>\n",
       "      <td>No</td>\n",
       "    </tr>\n",
       "    <tr>\n",
       "      <th>2</th>\n",
       "      <td>ACURA TLX</td>\n",
       "      <td>2.4</td>\n",
       "      <td>4</td>\n",
       "      <td>AMS-8</td>\n",
       "      <td>2WD</td>\n",
       "      <td>Gasoline</td>\n",
       "      <td>small car</td>\n",
       "      <td>3.0</td>\n",
       "      <td>23.0</td>\n",
       "      <td>33.0</td>\n",
       "      <td>27.0</td>\n",
       "      <td>6</td>\n",
       "      <td>No</td>\n",
       "    </tr>\n",
       "    <tr>\n",
       "      <th>3</th>\n",
       "      <td>ACURA TLX</td>\n",
       "      <td>3.5</td>\n",
       "      <td>6</td>\n",
       "      <td>SemiAuto-9</td>\n",
       "      <td>2WD</td>\n",
       "      <td>Gasoline</td>\n",
       "      <td>small car</td>\n",
       "      <td>3.0</td>\n",
       "      <td>20.0</td>\n",
       "      <td>32.0</td>\n",
       "      <td>24.0</td>\n",
       "      <td>5</td>\n",
       "      <td>No</td>\n",
       "    </tr>\n",
       "    <tr>\n",
       "      <th>4</th>\n",
       "      <td>ACURA TLX</td>\n",
       "      <td>3.5</td>\n",
       "      <td>6</td>\n",
       "      <td>SemiAuto-9</td>\n",
       "      <td>4WD</td>\n",
       "      <td>Gasoline</td>\n",
       "      <td>small car</td>\n",
       "      <td>3.0</td>\n",
       "      <td>21.0</td>\n",
       "      <td>30.0</td>\n",
       "      <td>24.0</td>\n",
       "      <td>5</td>\n",
       "      <td>No</td>\n",
       "    </tr>\n",
       "  </tbody>\n",
       "</table>\n",
       "</div>"
      ],
      "text/plain": [
       "       model  displ  cyl       trans drive      fuel  veh_class  \\\n",
       "0  ACURA RDX    3.5    6  SemiAuto-6   2WD  Gasoline  small SUV   \n",
       "1  ACURA RDX    3.5    6  SemiAuto-6   4WD  Gasoline  small SUV   \n",
       "2  ACURA TLX    2.4    4       AMS-8   2WD  Gasoline  small car   \n",
       "3  ACURA TLX    3.5    6  SemiAuto-9   2WD  Gasoline  small car   \n",
       "4  ACURA TLX    3.5    6  SemiAuto-9   4WD  Gasoline  small car   \n",
       "\n",
       "   air_pollution_score  city_mpg  hwy_mpg  cmb_mpg  greenhouse_gas_score  \\\n",
       "0                  3.0      20.0     28.0     23.0                     5   \n",
       "1                  3.0      19.0     27.0     22.0                     4   \n",
       "2                  3.0      23.0     33.0     27.0                     6   \n",
       "3                  3.0      20.0     32.0     24.0                     5   \n",
       "4                  3.0      21.0     30.0     24.0                     5   \n",
       "\n",
       "  smartway  \n",
       "0       No  \n",
       "1       No  \n",
       "2       No  \n",
       "3       No  \n",
       "4       No  "
      ]
     },
     "execution_count": 5,
     "metadata": {},
     "output_type": "execute_result"
    }
   ],
   "source": [
    "car18.head()"
   ]
  },
  {
   "cell_type": "markdown",
   "id": "41c597d7",
   "metadata": {},
   "source": [
    "### Q1. Find out the alternative sources of fuel available in 2008 & 2018 respectively and by how much?"
   ]
  },
  {
   "cell_type": "code",
   "execution_count": 6,
   "id": "d1b9b4c4",
   "metadata": {},
   "outputs": [
    {
     "data": {
      "text/plain": [
       "fuel\n",
       "Gasoline    984\n",
       "CNG           1\n",
       "ethanol       1\n",
       "gas           1\n",
       "Name: count, dtype: int64"
      ]
     },
     "execution_count": 6,
     "metadata": {},
     "output_type": "execute_result"
    }
   ],
   "source": [
    "car08['fuel'].value_counts()"
   ]
  },
  {
   "cell_type": "code",
   "execution_count": 7,
   "id": "723a9123",
   "metadata": {},
   "outputs": [
    {
     "data": {
      "text/plain": [
       "fuel\n",
       "Gasoline       749\n",
       "Ethanol         26\n",
       "Gas             26\n",
       "Diesel          19\n",
       "Electricity     12\n",
       "Name: count, dtype: int64"
      ]
     },
     "execution_count": 7,
     "metadata": {},
     "output_type": "execute_result"
    }
   ],
   "source": [
    "car18['fuel'].value_counts()"
   ]
  },
  {
   "cell_type": "code",
   "execution_count": 8,
   "id": "162cb60e",
   "metadata": {},
   "outputs": [
    {
     "data": {
      "text/plain": [
       "3"
      ]
     },
     "execution_count": 8,
     "metadata": {},
     "output_type": "execute_result"
    }
   ],
   "source": [
    "car08['fuel'].value_counts().sum()-car08['fuel'].value_counts().max()"
   ]
  },
  {
   "cell_type": "code",
   "execution_count": 9,
   "id": "4b677116",
   "metadata": {},
   "outputs": [
    {
     "data": {
      "text/plain": [
       "83"
      ]
     },
     "execution_count": 9,
     "metadata": {},
     "output_type": "execute_result"
    }
   ],
   "source": [
    "car18['fuel'].value_counts().sum()-car18['fuel'].value_counts().max()"
   ]
  },
  {
   "cell_type": "markdown",
   "id": "f7f90165",
   "metadata": {},
   "source": [
    "### Q2. Is there any improvement in ‘fuel economy’ with respect to vehicle class from 2008 to 2018, perform the necessary steps to examine?"
   ]
  },
  {
   "cell_type": "code",
   "execution_count": 10,
   "id": "1f1aa80e",
   "metadata": {},
   "outputs": [],
   "source": [
    "car18['veh_class'].replace(['small SUV','standard SUV'],'SUV',inplace =True)"
   ]
  },
  {
   "cell_type": "code",
   "execution_count": 11,
   "id": "871be079",
   "metadata": {},
   "outputs": [],
   "source": [
    "car08['veh_class'].replace('van','special purpose',inplace =True)"
   ]
  },
  {
   "cell_type": "code",
   "execution_count": 12,
   "id": "43d59058",
   "metadata": {},
   "outputs": [
    {
     "data": {
      "text/html": [
       "<div>\n",
       "<style scoped>\n",
       "    .dataframe tbody tr th:only-of-type {\n",
       "        vertical-align: middle;\n",
       "    }\n",
       "\n",
       "    .dataframe tbody tr th {\n",
       "        vertical-align: top;\n",
       "    }\n",
       "\n",
       "    .dataframe thead th {\n",
       "        text-align: right;\n",
       "    }\n",
       "</style>\n",
       "<table border=\"1\" class=\"dataframe\">\n",
       "  <thead>\n",
       "    <tr style=\"text-align: right;\">\n",
       "      <th></th>\n",
       "      <th>cmb_mpg 08</th>\n",
       "    </tr>\n",
       "    <tr>\n",
       "      <th>veh_class</th>\n",
       "      <th></th>\n",
       "    </tr>\n",
       "  </thead>\n",
       "  <tbody>\n",
       "    <tr>\n",
       "      <th>SUV</th>\n",
       "      <td>5172.0</td>\n",
       "    </tr>\n",
       "    <tr>\n",
       "      <th>large car</th>\n",
       "      <td>1018.0</td>\n",
       "    </tr>\n",
       "    <tr>\n",
       "      <th>midsize car</th>\n",
       "      <td>2981.0</td>\n",
       "    </tr>\n",
       "    <tr>\n",
       "      <th>minivan</th>\n",
       "      <td>325.0</td>\n",
       "    </tr>\n",
       "    <tr>\n",
       "      <th>pickup</th>\n",
       "      <td>1351.0</td>\n",
       "    </tr>\n",
       "    <tr>\n",
       "      <th>small car</th>\n",
       "      <td>7028.0</td>\n",
       "    </tr>\n",
       "    <tr>\n",
       "      <th>special purpose</th>\n",
       "      <td>314.0</td>\n",
       "    </tr>\n",
       "    <tr>\n",
       "      <th>station wagon</th>\n",
       "      <td>1342.0</td>\n",
       "    </tr>\n",
       "  </tbody>\n",
       "</table>\n",
       "</div>"
      ],
      "text/plain": [
       "                 cmb_mpg 08\n",
       "veh_class                  \n",
       "SUV                  5172.0\n",
       "large car            1018.0\n",
       "midsize car          2981.0\n",
       "minivan               325.0\n",
       "pickup               1351.0\n",
       "small car            7028.0\n",
       "special purpose       314.0\n",
       "station wagon        1342.0"
      ]
     },
     "execution_count": 12,
     "metadata": {},
     "output_type": "execute_result"
    }
   ],
   "source": [
    "group08= pd.DataFrame(car08.groupby('veh_class')['cmb_mpg'].sum())\n",
    "group08.rename(columns={'cmb_mpg':'cmb_mpg 08'},inplace=True)\n",
    "group08"
   ]
  },
  {
   "cell_type": "code",
   "execution_count": 13,
   "id": "8f80c57d",
   "metadata": {},
   "outputs": [
    {
     "data": {
      "text/html": [
       "<div>\n",
       "<style scoped>\n",
       "    .dataframe tbody tr th:only-of-type {\n",
       "        vertical-align: middle;\n",
       "    }\n",
       "\n",
       "    .dataframe tbody tr th {\n",
       "        vertical-align: top;\n",
       "    }\n",
       "\n",
       "    .dataframe thead th {\n",
       "        text-align: right;\n",
       "    }\n",
       "</style>\n",
       "<table border=\"1\" class=\"dataframe\">\n",
       "  <thead>\n",
       "    <tr style=\"text-align: right;\">\n",
       "      <th></th>\n",
       "      <th>cmb_mpg 18</th>\n",
       "    </tr>\n",
       "    <tr>\n",
       "      <th>veh_class</th>\n",
       "      <th></th>\n",
       "    </tr>\n",
       "  </thead>\n",
       "  <tbody>\n",
       "    <tr>\n",
       "      <th>SUV</th>\n",
       "      <td>4165.0</td>\n",
       "    </tr>\n",
       "    <tr>\n",
       "      <th>large car</th>\n",
       "      <td>2060.0</td>\n",
       "    </tr>\n",
       "    <tr>\n",
       "      <th>midsize car</th>\n",
       "      <td>3848.0</td>\n",
       "    </tr>\n",
       "    <tr>\n",
       "      <th>minivan</th>\n",
       "      <td>104.0</td>\n",
       "    </tr>\n",
       "    <tr>\n",
       "      <th>pickup</th>\n",
       "      <td>1450.0</td>\n",
       "    </tr>\n",
       "    <tr>\n",
       "      <th>small car</th>\n",
       "      <td>7245.0</td>\n",
       "    </tr>\n",
       "    <tr>\n",
       "      <th>special purpose</th>\n",
       "      <td>185.0</td>\n",
       "    </tr>\n",
       "    <tr>\n",
       "      <th>station wagon</th>\n",
       "      <td>936.0</td>\n",
       "    </tr>\n",
       "  </tbody>\n",
       "</table>\n",
       "</div>"
      ],
      "text/plain": [
       "                 cmb_mpg 18\n",
       "veh_class                  \n",
       "SUV                  4165.0\n",
       "large car            2060.0\n",
       "midsize car          3848.0\n",
       "minivan               104.0\n",
       "pickup               1450.0\n",
       "small car            7245.0\n",
       "special purpose       185.0\n",
       "station wagon         936.0"
      ]
     },
     "execution_count": 13,
     "metadata": {},
     "output_type": "execute_result"
    }
   ],
   "source": [
    "group18= pd.DataFrame(car18.groupby('veh_class')['cmb_mpg'].sum())\n",
    "group18.rename(columns={'cmb_mpg':'cmb_mpg 18'},inplace=True)\n",
    "group18"
   ]
  },
  {
   "cell_type": "code",
   "execution_count": 14,
   "id": "a713b401",
   "metadata": {},
   "outputs": [
    {
     "data": {
      "text/html": [
       "<div>\n",
       "<style scoped>\n",
       "    .dataframe tbody tr th:only-of-type {\n",
       "        vertical-align: middle;\n",
       "    }\n",
       "\n",
       "    .dataframe tbody tr th {\n",
       "        vertical-align: top;\n",
       "    }\n",
       "\n",
       "    .dataframe thead th {\n",
       "        text-align: right;\n",
       "    }\n",
       "</style>\n",
       "<table border=\"1\" class=\"dataframe\">\n",
       "  <thead>\n",
       "    <tr style=\"text-align: right;\">\n",
       "      <th></th>\n",
       "      <th>cmb_mpg 08</th>\n",
       "      <th>cmb_mpg_18</th>\n",
       "    </tr>\n",
       "    <tr>\n",
       "      <th>veh_class</th>\n",
       "      <th></th>\n",
       "      <th></th>\n",
       "    </tr>\n",
       "  </thead>\n",
       "  <tbody>\n",
       "    <tr>\n",
       "      <th>SUV</th>\n",
       "      <td>5172.0</td>\n",
       "      <td>4165.0</td>\n",
       "    </tr>\n",
       "    <tr>\n",
       "      <th>large car</th>\n",
       "      <td>1018.0</td>\n",
       "      <td>2060.0</td>\n",
       "    </tr>\n",
       "    <tr>\n",
       "      <th>midsize car</th>\n",
       "      <td>2981.0</td>\n",
       "      <td>3848.0</td>\n",
       "    </tr>\n",
       "    <tr>\n",
       "      <th>minivan</th>\n",
       "      <td>325.0</td>\n",
       "      <td>104.0</td>\n",
       "    </tr>\n",
       "    <tr>\n",
       "      <th>pickup</th>\n",
       "      <td>1351.0</td>\n",
       "      <td>1450.0</td>\n",
       "    </tr>\n",
       "    <tr>\n",
       "      <th>small car</th>\n",
       "      <td>7028.0</td>\n",
       "      <td>7245.0</td>\n",
       "    </tr>\n",
       "    <tr>\n",
       "      <th>special purpose</th>\n",
       "      <td>314.0</td>\n",
       "      <td>185.0</td>\n",
       "    </tr>\n",
       "    <tr>\n",
       "      <th>station wagon</th>\n",
       "      <td>1342.0</td>\n",
       "      <td>936.0</td>\n",
       "    </tr>\n",
       "  </tbody>\n",
       "</table>\n",
       "</div>"
      ],
      "text/plain": [
       "                 cmb_mpg 08  cmb_mpg_18\n",
       "veh_class                              \n",
       "SUV                  5172.0      4165.0\n",
       "large car            1018.0      2060.0\n",
       "midsize car          2981.0      3848.0\n",
       "minivan               325.0       104.0\n",
       "pickup               1351.0      1450.0\n",
       "small car            7028.0      7245.0\n",
       "special purpose       314.0       185.0\n",
       "station wagon        1342.0       936.0"
      ]
     },
     "execution_count": 14,
     "metadata": {},
     "output_type": "execute_result"
    }
   ],
   "source": [
    "group08['cmb_mpg_18'] = group18['cmb_mpg 18']\n",
    "group08"
   ]
  },
  {
   "cell_type": "code",
   "execution_count": 15,
   "id": "388e1e7b",
   "metadata": {
    "scrolled": false
   },
   "outputs": [
    {
     "data": {
      "image/png": "[encoded data removed]",
      "text/plain": [
       "<Figure size 1500x800 with 1 Axes>"
      ]
     },
     "metadata": {},
     "output_type": "display_data"
    }
   ],
   "source": [
    "plt.figure(figsize=(15, 8))\n",
    "plt.bar(group08.index, group08['cmb_mpg 08'], width=0.4, label='2008')\n",
    "plt.bar(group08.index, group08['cmb_mpg_18'], width=0.4, label='2018', align='edge')\n",
    "\n",
    "plt.xlabel('Vehicle Class')\n",
    "plt.ylabel('Miles per Gallon (MPG)')\n",
    "plt.title('MPG Comparison by Vehicle Class (2008 vs 2018)')\n",
    "plt.legend()\n",
    "\n",
    "plt.show()"
   ]
  },
  {
   "cell_type": "markdown",
   "id": "2adcc5b2",
   "metadata": {},
   "source": [
    "### Q3. Is there any change in characteristics of SmartWay Vehicles ?"
   ]
  },
  {
   "cell_type": "code",
   "execution_count": 16,
   "id": "aeaee7c6",
   "metadata": {},
   "outputs": [
    {
     "name": "stdout",
     "output_type": "stream",
     "text": [
      "['no' 'yes']\n"
     ]
    }
   ],
   "source": [
    "smartway08=car08['smartway'].unique()\n",
    "print(smartway08)"
   ]
  },
  {
   "cell_type": "code",
   "execution_count": 17,
   "id": "3bada62c",
   "metadata": {},
   "outputs": [
    {
     "name": "stdout",
     "output_type": "stream",
     "text": [
      "['No' 'Yes' 'Elite']\n"
     ]
    }
   ],
   "source": [
    "smartway18=car18['smartway'].unique()\n",
    "print(smartway18)"
   ]
  },
  {
   "cell_type": "markdown",
   "id": "9dcb0798",
   "metadata": {},
   "source": [
    "Yes there is a change. Elite class is added in the 2018 dataset"
   ]
  },
  {
   "cell_type": "markdown",
   "id": "23cd7748",
   "metadata": {},
   "source": [
    "### Q4. Which all features are associated with better fuel economy?"
   ]
  },
  {
   "cell_type": "code",
   "execution_count": 18,
   "id": "6b19d204",
   "metadata": {},
   "outputs": [],
   "source": [
    "features = ['displ','cyl']"
   ]
  },
  {
   "cell_type": "code",
   "execution_count": 19,
   "id": "0506fe56",
   "metadata": {},
   "outputs": [
    {
     "data": {
      "text/html": [
       "<div>\n",
       "<style scoped>\n",
       "    .dataframe tbody tr th:only-of-type {\n",
       "        vertical-align: middle;\n",
       "    }\n",
       "\n",
       "    .dataframe tbody tr th {\n",
       "        vertical-align: top;\n",
       "    }\n",
       "\n",
       "    .dataframe thead th {\n",
       "        text-align: right;\n",
       "    }\n",
       "</style>\n",
       "<table border=\"1\" class=\"dataframe\">\n",
       "  <thead>\n",
       "    <tr style=\"text-align: right;\">\n",
       "      <th></th>\n",
       "      <th>displ</th>\n",
       "      <th>cyl</th>\n",
       "    </tr>\n",
       "  </thead>\n",
       "  <tbody>\n",
       "    <tr>\n",
       "      <th>displ</th>\n",
       "      <td>1.000000</td>\n",
       "      <td>0.899304</td>\n",
       "    </tr>\n",
       "    <tr>\n",
       "      <th>cyl</th>\n",
       "      <td>0.899304</td>\n",
       "      <td>1.000000</td>\n",
       "    </tr>\n",
       "  </tbody>\n",
       "</table>\n",
       "</div>"
      ],
      "text/plain": [
       "          displ       cyl\n",
       "displ  1.000000  0.899304\n",
       "cyl    0.899304  1.000000"
      ]
     },
     "execution_count": 19,
     "metadata": {},
     "output_type": "execute_result"
    }
   ],
   "source": [
    "car08[features].corr()"
   ]
  },
  {
   "cell_type": "code",
   "execution_count": 20,
   "id": "0caad2dd",
   "metadata": {},
   "outputs": [
    {
     "data": {
      "text/plain": [
       "<Axes: >"
      ]
     },
     "execution_count": 20,
     "metadata": {},
     "output_type": "execute_result"
    },
    {
     "data": {
      "image/png": "[encoded data removed]",
      "text/plain": [
       "<Figure size 640x480 with 2 Axes>"
      ]
     },
     "metadata": {},
     "output_type": "display_data"
    }
   ],
   "source": [
    "sns.heatmap(car08[features].corr(),annot = True)"
   ]
  },
  {
   "cell_type": "markdown",
   "id": "a20fe71a",
   "metadata": {},
   "source": [
    "### Q5. How much improvement is there in miles/gallon or mpg? Also, which vehicle has improved the most?"
   ]
  },
  {
   "cell_type": "code",
   "execution_count": 21,
   "id": "be370bf1",
   "metadata": {},
   "outputs": [
    {
     "data": {
      "text/plain": [
       "19.78824721377913"
      ]
     },
     "execution_count": 21,
     "metadata": {},
     "output_type": "execute_result"
    }
   ],
   "source": [
    "car08['cmb_mpg'].mean()"
   ]
  },
  {
   "cell_type": "code",
   "execution_count": 22,
   "id": "cdef47a1",
   "metadata": {},
   "outputs": [
    {
     "data": {
      "text/plain": [
       "24.030048076923077"
      ]
     },
     "execution_count": 22,
     "metadata": {},
     "output_type": "execute_result"
    }
   ],
   "source": [
    "car18['cmb_mpg'].mean()"
   ]
  },
  {
   "cell_type": "markdown",
   "id": "81ca5ed2",
   "metadata": {},
   "source": [
    "As the mpg mean increases in 2018,this means that the cars have better mileage in 2018 as compared to 2008"
   ]
  },
  {
   "cell_type": "code",
   "execution_count": 23,
   "id": "f34f2a01",
   "metadata": {},
   "outputs": [
    {
     "data": {
      "text/plain": [
       "model      VOLVO XC 90\n",
       "cmb_mpg           46.0\n",
       "dtype: object"
      ]
     },
     "execution_count": 23,
     "metadata": {},
     "output_type": "execute_result"
    }
   ],
   "source": [
    "car08[['model','cmb_mpg']].max()"
   ]
  },
  {
   "cell_type": "code",
   "execution_count": 24,
   "id": "04651cb3",
   "metadata": {},
   "outputs": [
    {
     "data": {
      "text/plain": [
       "model      VOLVO XC 90\n",
       "cmb_mpg          106.0\n",
       "dtype: object"
      ]
     },
     "execution_count": 24,
     "metadata": {},
     "output_type": "execute_result"
    }
   ],
   "source": [
    "car18[['model','cmb_mpg']].max()"
   ]
  },
  {
   "cell_type": "markdown",
   "id": "eb7ababe",
   "metadata": {},
   "source": [
    "Volvo XC 90 has improved the most"
   ]
  }
 ],
 "metadata": {
  "kernelspec": {
   "display_name": "Python 3 (ipykernel)",
   "language": "python",
   "name": "python3"
  },
  "language_info": {
   "codemirror_mode": {
    "name": "ipython",
    "version": 3
   },
   "file_extension": ".py",
   "mimetype": "text/x-python",
   "name": "python",
   "nbconvert_exporter": "python",
   "pygments_lexer": "ipython3",
   "version": "3.11.4"
  }
 },
 "nbformat": 4,
 "nbformat_minor": 5
}
