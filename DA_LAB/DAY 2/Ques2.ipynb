{
 "cells": [
  {
   "cell_type": "markdown",
   "id": "aa170b93",
   "metadata": {},
   "source": [
    "## Q2. Suppose you have landed to a job and the first task you’ve assigned to prepare a report which includes the following:"
   ]
  },
  {
   "cell_type": "markdown",
   "id": "890d7352",
   "metadata": {},
   "source": [
    "1. Player Count\n",
    "* Total Number of Players"
   ]
  },
  {
   "cell_type": "code",
   "execution_count": 1,
   "id": "44d153b2",
   "metadata": {},
   "outputs": [],
   "source": [
    "import numpy as np\n",
    "import pandas as pd"
   ]
  },
  {
   "cell_type": "code",
   "execution_count": 2,
   "id": "b2bbdd2c",
   "metadata": {},
   "outputs": [
    {
     "data": {
      "text/html": [
       "<div>\n",
       "<style scoped>\n",
       "    .dataframe tbody tr th:only-of-type {\n",
       "        vertical-align: middle;\n",
       "    }\n",
       "\n",
       "    .dataframe tbody tr th {\n",
       "        vertical-align: top;\n",
       "    }\n",
       "\n",
       "    .dataframe thead th {\n",
       "        text-align: right;\n",
       "    }\n",
       "</style>\n",
       "<table border=\"1\" class=\"dataframe\">\n",
       "  <thead>\n",
       "    <tr style=\"text-align: right;\">\n",
       "      <th></th>\n",
       "      <th>Purchase ID</th>\n",
       "      <th>SN</th>\n",
       "      <th>Age</th>\n",
       "      <th>Gender</th>\n",
       "      <th>Item ID</th>\n",
       "      <th>Item Name</th>\n",
       "      <th>Price</th>\n",
       "    </tr>\n",
       "  </thead>\n",
       "  <tbody>\n",
       "    <tr>\n",
       "      <th>0</th>\n",
       "      <td>0</td>\n",
       "      <td>Lisim78</td>\n",
       "      <td>20</td>\n",
       "      <td>Male</td>\n",
       "      <td>108</td>\n",
       "      <td>Extraction, Quickblade Of Trembling Hands</td>\n",
       "      <td>3.53</td>\n",
       "    </tr>\n",
       "    <tr>\n",
       "      <th>1</th>\n",
       "      <td>1</td>\n",
       "      <td>Lisovynya38</td>\n",
       "      <td>40</td>\n",
       "      <td>Male</td>\n",
       "      <td>143</td>\n",
       "      <td>Frenzied Scimitar</td>\n",
       "      <td>1.56</td>\n",
       "    </tr>\n",
       "    <tr>\n",
       "      <th>2</th>\n",
       "      <td>2</td>\n",
       "      <td>Ithergue48</td>\n",
       "      <td>24</td>\n",
       "      <td>Male</td>\n",
       "      <td>92</td>\n",
       "      <td>Final Critic</td>\n",
       "      <td>4.88</td>\n",
       "    </tr>\n",
       "    <tr>\n",
       "      <th>3</th>\n",
       "      <td>3</td>\n",
       "      <td>Chamassasya86</td>\n",
       "      <td>24</td>\n",
       "      <td>Male</td>\n",
       "      <td>100</td>\n",
       "      <td>Blindscythe</td>\n",
       "      <td>3.27</td>\n",
       "    </tr>\n",
       "    <tr>\n",
       "      <th>4</th>\n",
       "      <td>4</td>\n",
       "      <td>Iskosia90</td>\n",
       "      <td>23</td>\n",
       "      <td>Male</td>\n",
       "      <td>131</td>\n",
       "      <td>Fury</td>\n",
       "      <td>1.44</td>\n",
       "    </tr>\n",
       "  </tbody>\n",
       "</table>\n",
       "</div>"
      ],
      "text/plain": [
       "   Purchase ID             SN  Age Gender  Item ID  \\\n",
       "0            0        Lisim78   20   Male      108   \n",
       "1            1    Lisovynya38   40   Male      143   \n",
       "2            2     Ithergue48   24   Male       92   \n",
       "3            3  Chamassasya86   24   Male      100   \n",
       "4            4      Iskosia90   23   Male      131   \n",
       "\n",
       "                                   Item Name  Price  \n",
       "0  Extraction, Quickblade Of Trembling Hands   3.53  \n",
       "1                          Frenzied Scimitar   1.56  \n",
       "2                               Final Critic   4.88  \n",
       "3                                Blindscythe   3.27  \n",
       "4                                       Fury   1.44  "
      ]
     },
     "execution_count": 2,
     "metadata": {},
     "output_type": "execute_result"
    }
   ],
   "source": [
    "df = pd.read_csv(\"purchase_data.csv\")\n",
    "df.head()"
   ]
  },
  {
   "cell_type": "code",
   "execution_count": 3,
   "id": "33aa11f9",
   "metadata": {},
   "outputs": [
    {
     "name": "stdout",
     "output_type": "stream",
     "text": [
      "Total number of players =  576\n"
     ]
    }
   ],
   "source": [
    "#Player count\n",
    "print(\"Total number of players = \",df['SN'].nunique())"
   ]
  },
  {
   "cell_type": "markdown",
   "id": "7963fe66",
   "metadata": {},
   "source": [
    "2. Purchasing Analysis (Total)\n",
    "* Number of Unique Items\n",
    "* Average Purchase Price\n",
    "* Total Number of Purchases\n",
    "* Total Revenue"
   ]
  },
  {
   "cell_type": "code",
   "execution_count": 4,
   "id": "1483df14",
   "metadata": {},
   "outputs": [
    {
     "name": "stdout",
     "output_type": "stream",
     "text": [
      "Number of unique items:  179\n"
     ]
    }
   ],
   "source": [
    "#Number of unique items\n",
    "print(\"Number of unique items: \",df['Item Name'].nunique())"
   ]
  },
  {
   "cell_type": "code",
   "execution_count": 5,
   "id": "0f1aea1c",
   "metadata": {},
   "outputs": [
    {
     "name": "stdout",
     "output_type": "stream",
     "text": [
      "Average Purchase Price= 3.0509871794871795\n"
     ]
    }
   ],
   "source": [
    "#Average Purchase Price\n",
    "print(\"Average Purchase Price=\",df['Price'].mean())"
   ]
  },
  {
   "cell_type": "code",
   "execution_count": 6,
   "id": "adeaebde",
   "metadata": {},
   "outputs": [
    {
     "name": "stdout",
     "output_type": "stream",
     "text": [
      "Total Number of Purchases= 780\n"
     ]
    }
   ],
   "source": [
    "#Total Number of Purchases\n",
    "print(\"Total Number of Purchases=\",df['Purchase ID'].count())"
   ]
  },
  {
   "cell_type": "code",
   "execution_count": 7,
   "id": "dcb3a5d7",
   "metadata": {},
   "outputs": [
    {
     "name": "stdout",
     "output_type": "stream",
     "text": [
      "Total Revenue= 2379.77\n"
     ]
    }
   ],
   "source": [
    "#Total Revenue\n",
    "print(\"Total Revenue=\",df['Price'].sum())"
   ]
  },
  {
   "cell_type": "markdown",
   "id": "ca5febe1",
   "metadata": {},
   "source": [
    "3. Gender Demographics\n",
    "* Percentage and Count of Male Players\n",
    "* Percentage and Count of Female Players\n",
    "* Percentage and Count of Other / Non-Disclosed"
   ]
  },
  {
   "cell_type": "code",
   "execution_count": 16,
   "id": "83242a0c",
   "metadata": {},
   "outputs": [
    {
     "name": "stdout",
     "output_type": "stream",
     "text": [
      "Percentage and Count of Male Players\n",
      "84.03 , 484\n"
     ]
    }
   ],
   "source": [
    "#Percentage and Count of Male Players\n",
    "print(\"Percentage and Count of Male Players\")\n",
    "male=df.loc[df['Gender']=='Male']\n",
    "count=male['SN'].nunique()\n",
    "percentage=count/df['SN'].nunique()\n",
    "print(round((percentage*100),2),\",\",count)"
   ]
  },
  {
   "cell_type": "code",
   "execution_count": 17,
   "id": "2a683184",
   "metadata": {},
   "outputs": [
    {
     "name": "stdout",
     "output_type": "stream",
     "text": [
      "Percentage and Count of Female Players\n",
      "14.06 , 81\n"
     ]
    }
   ],
   "source": [
    "#Percentage and Count of Male Players\n",
    "print(\"Percentage and Count of Female Players\")\n",
    "female=df.loc[df['Gender']=='Female']\n",
    "count=female['SN'].nunique()\n",
    "percentage=count/df['SN'].nunique()\n",
    "print(round((percentage*100),2),\",\",count)"
   ]
  },
  {
   "cell_type": "code",
   "execution_count": 18,
   "id": "d69cec28",
   "metadata": {},
   "outputs": [
    {
     "name": "stdout",
     "output_type": "stream",
     "text": [
      "Percentage and Count of Other / Non-Disclosed\n",
      "1.91 , 11\n"
     ]
    }
   ],
   "source": [
    "#Percentage and Count of Other / Non-Disclosed\n",
    "print(\"Percentage and Count of Other / Non-Disclosed\")\n",
    "other=df.loc[df['Gender']=='Other / Non-Disclosed']\n",
    "count=other['SN'].nunique()\n",
    "percentage=count/df['SN'].nunique()\n",
    "print(round((percentage*100),2),\",\",count)"
   ]
  },
  {
   "cell_type": "markdown",
   "id": "3b1b7f01",
   "metadata": {},
   "source": [
    "4. Purchasing Analysis (Gender)\n",
    " \n",
    " The below each broken by gender\n",
    "* Purchase Count\n",
    "* Average Purchase Price\n",
    "* Total Purchase Value\n",
    "* Average Purchase Total per Person by Gender"
   ]
  },
  {
   "cell_type": "code",
   "execution_count": 20,
   "id": "3107cb74",
   "metadata": {},
   "outputs": [
    {
     "name": "stdout",
     "output_type": "stream",
     "text": [
      "Male Purchase count:  652\n",
      "Female Purchase count:  113\n",
      "Others/Undisclosed Purchase count:  15\n"
     ]
    }
   ],
   "source": [
    "#Purchase Count\n",
    "print(\"Male Purchase count: \",male['Purchase ID'].count())\n",
    "print(\"Female Purchase count: \",female['Purchase ID'].count())\n",
    "print(\"Others/Undisclosed Purchase count: \",other['Purchase ID'].count())"
   ]
  },
  {
   "cell_type": "code",
   "execution_count": 21,
   "id": "922a3160",
   "metadata": {},
   "outputs": [
    {
     "name": "stdout",
     "output_type": "stream",
     "text": [
      "Male average Purchase Price 3.0178527607361967\n",
      "female average Purchase Price 3.203008849557522\n",
      "Other/Non Disclosed average Purchase Price 3.3459999999999996\n"
     ]
    }
   ],
   "source": [
    "#Average Purchase Price\n",
    "print(\"Male average Purchase Price\",male['Price'].mean())\n",
    "print(\"female average Purchase Price\",female['Price'].mean())\n",
    "print(\"Other/Non Disclosed average Purchase Price\",other['Price'].mean())"
   ]
  },
  {
   "cell_type": "code",
   "execution_count": 22,
   "id": "9faebffa",
   "metadata": {},
   "outputs": [
    {
     "name": "stdout",
     "output_type": "stream",
     "text": [
      "Male Total Purchase Value 1967.64\n",
      "female Total Purchase Value 361.94\n",
      "Other/Non Disclosed Toatl Purchase Value 50.19\n"
     ]
    }
   ],
   "source": [
    "#Total Purchase Value\n",
    "\n",
    "print(\"Male Total Purchase Value\",male['Price'].sum())\n",
    "print(\"female Total Purchase Value\",female['Price'].sum())\n",
    "print(\"Other/Non Disclosed Toatl Purchase Value\",other['Price'].sum())"
   ]
  },
  {
   "cell_type": "code",
   "execution_count": 31,
   "id": "f5abe30f",
   "metadata": {},
   "outputs": [
    {
     "data": {
      "text/plain": [
       "SN\n",
       "Adairialis76    2.280000\n",
       "Aeda94          4.910000\n",
       "Aela59          4.320000\n",
       "Aelaria33       1.790000\n",
       "Aelastirin39    3.645000\n",
       "                  ...   \n",
       "Yasur85         1.100000\n",
       "Yathecal72      3.460000\n",
       "Yathedeu43      3.010000\n",
       "Zhisrisu83      3.945000\n",
       "Zontibe81       2.676667\n",
       "Name: Price, Length: 484, dtype: float64"
      ]
     },
     "execution_count": 31,
     "metadata": {},
     "output_type": "execute_result"
    }
   ],
   "source": [
    "#Average Purchase Total per Person by Gender\n",
    "#For male\n",
    "a=male.groupby('SN')['Price'].mean()\n",
    "a"
   ]
  },
  {
   "cell_type": "code",
   "execution_count": 32,
   "id": "8f5b2d35",
   "metadata": {},
   "outputs": [
    {
     "data": {
      "text/plain": [
       "SN\n",
       "Adastirin33      4.480000\n",
       "Aerithllora36    4.320000\n",
       "Aethedru70       3.540000\n",
       "Aidain51         3.450000\n",
       "Aiduesu86        4.480000\n",
       "                   ...   \n",
       "Wailin72         2.730000\n",
       "Yana46           3.550000\n",
       "Yarithrin84      4.140000\n",
       "Yathecal82       2.073333\n",
       "Yoishirrala98    4.580000\n",
       "Name: Price, Length: 81, dtype: float64"
      ]
     },
     "execution_count": 32,
     "metadata": {},
     "output_type": "execute_result"
    }
   ],
   "source": [
    "#For female\n",
    "b=female.groupby('SN')['Price'].mean()\n",
    "b"
   ]
  },
  {
   "cell_type": "code",
   "execution_count": 37,
   "id": "c99fe8b0",
   "metadata": {},
   "outputs": [
    {
     "data": {
      "text/plain": [
       "SN\n",
       "Airi27          3.450\n",
       "Chanosian48     3.760\n",
       "Eodaisu60       3.940\n",
       "Haerithp41      4.400\n",
       "Idairin51       3.500\n",
       "Jiskirran77     3.390\n",
       "Lirtim36        1.330\n",
       "Maluncil97      2.640\n",
       "Rairith81       2.220\n",
       "Siarithria38    3.455\n",
       "Sundim98        4.750\n",
       "Name: Price, dtype: float64"
      ]
     },
     "execution_count": 37,
     "metadata": {},
     "output_type": "execute_result"
    }
   ],
   "source": [
    "#For others/non disclosed\n",
    "c=other.groupby('SN')['Price'].mean()\n",
    "c"
   ]
  },
  {
   "cell_type": "markdown",
   "id": "0aaad858",
   "metadata": {},
   "source": [
    "Age Demographics\n",
    "\n",
    "The below each broken into bins of 4 years (i.e. <10, 10-14, 15-19, etc.)\n",
    "* Purchase Count\n",
    "* Average Purchase Price\n",
    "* Total Purchase Value\n",
    "* Average Purchase Total per Person by Age Group"
   ]
  },
  {
   "cell_type": "code",
   "execution_count": 95,
   "id": "ae1ce65c",
   "metadata": {},
   "outputs": [],
   "source": [
    "morethan10=df.loc[df['Age']>10]\n",
    "bin_edges=[0,10,14,19,23,27,31,35,39,43,47]\n",
    "bin_labels=['<10','10-14','15-19','20-23','24-27','28-31','32-35','36-39','40-43','44-47']\n",
    "df['Bins']=pd.cut(df['Age'],bins=bin_edges,labels=bin_labels)"
   ]
  },
  {
   "cell_type": "code",
   "execution_count": 94,
   "id": "c24279a1",
   "metadata": {},
   "outputs": [
    {
     "data": {
      "text/plain": [
       "Bins\n",
       "<10       32\n",
       "10-14     19\n",
       "15-19    136\n",
       "20-23    298\n",
       "24-27    150\n",
       "28-31     60\n",
       "32-35     45\n",
       "36-39     27\n",
       "40-43     10\n",
       "44-47      3\n",
       "Name: Price, dtype: int64"
      ]
     },
     "execution_count": 94,
     "metadata": {},
     "output_type": "execute_result"
    }
   ],
   "source": [
    "#Purchase Count\n",
    "df.groupby('Bins')['Price'].count()"
   ]
  },
  {
   "cell_type": "code",
   "execution_count": 96,
   "id": "2a7cdaf3",
   "metadata": {},
   "outputs": [
    {
     "data": {
      "text/plain": [
       "Bins\n",
       "<10      3.405000\n",
       "10-14    2.681579\n",
       "15-19    3.035956\n",
       "20-23    3.033020\n",
       "24-27    3.063600\n",
       "28-31    2.967500\n",
       "32-35    2.925778\n",
       "36-39    3.542222\n",
       "40-43    3.118000\n",
       "44-47    2.353333\n",
       "Name: Price, dtype: float64"
      ]
     },
     "execution_count": 96,
     "metadata": {},
     "output_type": "execute_result"
    }
   ],
   "source": [
    "#Average Purchase Price\n",
    "df.groupby('Bins')['Price'].mean()"
   ]
  },
  {
   "cell_type": "code",
   "execution_count": 134,
   "id": "ae0928ad",
   "metadata": {},
   "outputs": [
    {
     "data": {
      "text/plain": [
       "Bins\n",
       "<10      108.96\n",
       "10-14     50.95\n",
       "15-19    412.89\n",
       "20-23    903.84\n",
       "24-27    459.54\n",
       "28-31    178.05\n",
       "32-35    131.66\n",
       "36-39     95.64\n",
       "40-43     31.18\n",
       "44-47      7.06\n",
       "Name: Price, dtype: float64"
      ]
     },
     "execution_count": 134,
     "metadata": {},
     "output_type": "execute_result"
    }
   ],
   "source": [
    "#Total Purchase Value\n",
    "df.groupby('Bins')['Price'].sum()"
   ]
  },
  {
   "cell_type": "code",
   "execution_count": 136,
   "id": "3c23a7be",
   "metadata": {},
   "outputs": [
    {
     "data": {
      "text/plain": [
       "SN\n",
       "Adairialis76     2.280000\n",
       "Adastirin33      4.480000\n",
       "Aeda94           4.910000\n",
       "Aela59           4.320000\n",
       "Aelaria33        1.790000\n",
       "                   ...   \n",
       "Yathecal82       2.073333\n",
       "Yathedeu43       3.010000\n",
       "Yoishirrala98    4.580000\n",
       "Zhisrisu83       3.945000\n",
       "Zontibe81        2.676667\n",
       "Name: Price, Length: 576, dtype: float64"
      ]
     },
     "execution_count": 136,
     "metadata": {},
     "output_type": "execute_result"
    }
   ],
   "source": [
    "#Average Purchase Total per Person by Age Group\n",
    "df.groupby('SN')['Price'].mean()"
   ]
  },
  {
   "cell_type": "markdown",
   "id": "9223284d",
   "metadata": {},
   "source": [
    "6. Top Spenders\n",
    "\n",
    "Identify the the top 5 spenders in the game by total purchase value, then list (in a\n",
    "table):\n",
    "\n",
    "* SN\n",
    "* Purchase Count\n",
    "* Average Purchase Price\n",
    "* Total Purchase Value"
   ]
  },
  {
   "cell_type": "code",
   "execution_count": null,
   "id": "6e1f04c4",
   "metadata": {},
   "outputs": [],
   "source": []
  }
 ],
 "metadata": {
  "kernelspec": {
   "display_name": "Python 3 (ipykernel)",
   "language": "python",
   "name": "python3"
  },
  "language_info": {
   "codemirror_mode": {
    "name": "ipython",
    "version": 3
   },
   "file_extension": ".py",
   "mimetype": "text/x-python",
   "name": "python",
   "nbconvert_exporter": "python",
   "pygments_lexer": "ipython3",
   "version": "3.11.4"
  }
 },
 "nbformat": 4,
 "nbformat_minor": 5
}
