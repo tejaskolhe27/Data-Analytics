{
 "cells": [
  {
   "cell_type": "markdown",
   "id": "3da5eab7",
   "metadata": {},
   "source": [
    "## QUESTION 1"
   ]
  },
  {
   "cell_type": "code",
   "execution_count": 1,
   "id": "352acf35",
   "metadata": {},
   "outputs": [],
   "source": [
    "import numpy as np\n",
    "import pandas as pd\n",
    "import matplotlib.pyplot as plt\n",
    "import scipy"
   ]
  },
  {
   "cell_type": "code",
   "execution_count": 2,
   "id": "0cb6c49b",
   "metadata": {},
   "outputs": [],
   "source": [
    "Data = pd.DataFrame({'Number of patients':[\"0-10\", \"10-20\", '20-30', '30-40', \"40-50\", \"50-60\"]\n",
    "                    ,'Number of days visiting hospital':[2 ,2 ,6 ,9 ,7 ,4] })"
   ]
  },
  {
   "cell_type": "code",
   "execution_count": 3,
   "id": "2832bf44",
   "metadata": {},
   "outputs": [
    {
     "name": "stdout",
     "output_type": "stream",
     "text": [
      "Mean:  5.0\n",
      "Median:  5.0\n",
      "Mode:  0    2\n",
      "Name: Number of days visiting hospital, dtype: int64\n"
     ]
    }
   ],
   "source": [
    "mean = Data['Number of days visiting hospital'].mean()\n",
    "median = Data['Number of days visiting hospital'].median()\n",
    "mode = Data['Number of days visiting hospital'].mode()\n",
    "print(\"Mean: \",mean)\n",
    "print(\"Median: \",median)\n",
    "print(\"Mode: \",mode)"
   ]
  },
  {
   "cell_type": "code",
   "execution_count": 4,
   "id": "6aa418fd",
   "metadata": {},
   "outputs": [
    {
     "name": "stdout",
     "output_type": "stream",
     "text": [
      "Standard Deviation:  2.8284271247461903\n"
     ]
    }
   ],
   "source": [
    "std=Data['Number of days visiting hospital'].std()\n",
    "print(\"Standard Deviation: \",std)"
   ]
  },
  {
   "cell_type": "code",
   "execution_count": 5,
   "id": "1f26e078",
   "metadata": {},
   "outputs": [
    {
     "name": "stdout",
     "output_type": "stream",
     "text": [
      "q1:  2.5\n",
      "q3:  6.75\n"
     ]
    }
   ],
   "source": [
    "q1,q3 = np.quantile(Data['Number of days visiting hospital'],q=[0.25,0.75])\n",
    "print(\"q1: \",q1)\n",
    "print(\"q3: \",q3)"
   ]
  },
  {
   "cell_type": "code",
   "execution_count": 6,
   "id": "9f3e2b0c",
   "metadata": {},
   "outputs": [
    {
     "name": "stdout",
     "output_type": "stream",
     "text": [
      "Quartile:  4.25\n"
     ]
    }
   ],
   "source": [
    "q2=q3-q1\n",
    "print(\"Quartile: \",q2)"
   ]
  },
  {
   "cell_type": "markdown",
   "id": "ad8618cc",
   "metadata": {},
   "source": [
    "## QUESTION 2"
   ]
  },
  {
   "cell_type": "markdown",
   "id": "9dda10f8",
   "metadata": {},
   "source": [
    "Use the given file Social_Network_Ads.csv, for predictive analysis using naïve bayes algorithm, Design a\n",
    "model(use age and estimated salary) and predict whether the person will purchase the product or not.\n",
    "* 1. Design naïve bays model and find accuracy of the model .\n",
    "* 2. Preprocessing of the data\n",
    "* 3. Use the generated model and predict whether a person will by product or not if the age is 35 and salary is 34567"
   ]
  },
  {
   "cell_type": "code",
   "execution_count": 10,
   "id": "86939090",
   "metadata": {},
   "outputs": [
    {
     "data": {
      "text/html": [
       "<div>\n",
       "<style scoped>\n",
       "    .dataframe tbody tr th:only-of-type {\n",
       "        vertical-align: middle;\n",
       "    }\n",
       "\n",
       "    .dataframe tbody tr th {\n",
       "        vertical-align: top;\n",
       "    }\n",
       "\n",
       "    .dataframe thead th {\n",
       "        text-align: right;\n",
       "    }\n",
       "</style>\n",
       "<table border=\"1\" class=\"dataframe\">\n",
       "  <thead>\n",
       "    <tr style=\"text-align: right;\">\n",
       "      <th></th>\n",
       "      <th>User ID</th>\n",
       "      <th>Gender</th>\n",
       "      <th>Age</th>\n",
       "      <th>EstimatedSalary</th>\n",
       "      <th>Purchased</th>\n",
       "    </tr>\n",
       "  </thead>\n",
       "  <tbody>\n",
       "    <tr>\n",
       "      <th>0</th>\n",
       "      <td>15624510</td>\n",
       "      <td>Male</td>\n",
       "      <td>19</td>\n",
       "      <td>19000</td>\n",
       "      <td>0</td>\n",
       "    </tr>\n",
       "    <tr>\n",
       "      <th>1</th>\n",
       "      <td>15810944</td>\n",
       "      <td>Male</td>\n",
       "      <td>35</td>\n",
       "      <td>20000</td>\n",
       "      <td>0</td>\n",
       "    </tr>\n",
       "    <tr>\n",
       "      <th>2</th>\n",
       "      <td>15668575</td>\n",
       "      <td>Female</td>\n",
       "      <td>26</td>\n",
       "      <td>43000</td>\n",
       "      <td>0</td>\n",
       "    </tr>\n",
       "    <tr>\n",
       "      <th>3</th>\n",
       "      <td>15603246</td>\n",
       "      <td>Female</td>\n",
       "      <td>27</td>\n",
       "      <td>57000</td>\n",
       "      <td>0</td>\n",
       "    </tr>\n",
       "    <tr>\n",
       "      <th>4</th>\n",
       "      <td>15804002</td>\n",
       "      <td>Male</td>\n",
       "      <td>19</td>\n",
       "      <td>76000</td>\n",
       "      <td>0</td>\n",
       "    </tr>\n",
       "  </tbody>\n",
       "</table>\n",
       "</div>"
      ],
      "text/plain": [
       "    User ID  Gender  Age  EstimatedSalary  Purchased\n",
       "0  15624510    Male   19            19000          0\n",
       "1  15810944    Male   35            20000          0\n",
       "2  15668575  Female   26            43000          0\n",
       "3  15603246  Female   27            57000          0\n",
       "4  15804002    Male   19            76000          0"
      ]
     },
     "execution_count": 10,
     "metadata": {},
     "output_type": "execute_result"
    }
   ],
   "source": [
    "social = pd.read_csv(\"Social_Network_Ads.csv\")\n",
    "social.head()"
   ]
  },
  {
   "cell_type": "code",
   "execution_count": 12,
   "id": "6ce4acd2",
   "metadata": {},
   "outputs": [],
   "source": [
    "#Features: Age,Salary\n",
    "X = social.iloc[:, [2,3]].values\n",
    "#target variable: Purchased\n",
    "y = social.iloc[:,-1].values"
   ]
  },
  {
   "cell_type": "code",
   "execution_count": 13,
   "id": "bb051760",
   "metadata": {},
   "outputs": [
    {
     "name": "stdout",
     "output_type": "stream",
     "text": [
      "Actual Values: \n",
      " [0 0 0 0 0 0 0 1 0 0 0 0 0 0 0 0 0 0 1 0 0 1 0 1 0 1 0 0 0 0 0 1 1 0 0 0 0\n",
      " 0 0 1 0 0 0 0 1 0 0 1 0 1 1 0 0 0 1 1 0 0 1 0 0 1 0 1 0 1 0 0 0 0 1 0 0 1\n",
      " 0 0 0 0 1 1]\n",
      "Predicted Values: \n",
      " [0 0 0 0 0 0 0 1 0 1 0 0 0 0 0 1 0 0 1 0 0 1 0 1 0 1 0 0 0 0 0 0 1 0 0 0 0\n",
      " 0 0 1 0 0 0 0 1 0 0 1 0 1 1 0 0 1 1 0 0 0 1 0 0 1 0 0 0 1 0 0 0 0 1 0 0 0\n",
      " 0 0 0 0 1 1]\n"
     ]
    }
   ],
   "source": [
    "from sklearn.model_selection import train_test_split\n",
    "X_train, X_test, y_train, y_test = train_test_split(X,y,test_size=0.20,random_state=0)\n",
    "\n",
    "#feature scaling\n",
    "from sklearn.preprocessing import StandardScaler\n",
    "sc = StandardScaler()\n",
    "\n",
    "X_train = sc.fit_transform(X_train)\n",
    "X_test = sc.transform(X_test)\n",
    "\n",
    "from sklearn.naive_bayes import GaussianNB\n",
    "classifier = GaussianNB()\n",
    "\n",
    "classifier.fit(X_train,y_train)\n",
    "y_pred=classifier.predict(X_test)\n",
    "\n",
    "print(\"Actual Values: \\n\", y_test)\n",
    "print(\"Predicted Values: \\n\",y_pred)"
   ]
  },
  {
   "cell_type": "code",
   "execution_count": 14,
   "id": "01841fc3",
   "metadata": {},
   "outputs": [
    {
     "name": "stdout",
     "output_type": "stream",
     "text": [
      "Accuracy:  0.9125\n",
      "F1 Score:  0.9131435102365334\n",
      "Confusion Matrix:\n",
      "  [[55  3]\n",
      " [ 4 18]]\n"
     ]
    }
   ],
   "source": [
    "from sklearn.metrics import(\n",
    "    accuracy_score,\n",
    "    confusion_matrix,\n",
    "    ConfusionMatrixDisplay,\n",
    "    f1_score,\n",
    ")\n",
    "accuracy = accuracy_score(y_pred,y_test)\n",
    "f1 = f1_score(y_pred,y_test, average='weighted')\n",
    "confusion_matrix = confusion_matrix(y_test,y_pred)\n",
    "print(\"Accuracy: \",accuracy)\n",
    "print(\"F1 Score: \",f1)\n",
    "print(\"Confusion Matrix:\\n \",confusion_matrix)"
   ]
  },
  {
   "cell_type": "code",
   "execution_count": null,
   "id": "428ce6ec",
   "metadata": {},
   "outputs": [],
   "source": []
  }
 ],
 "metadata": {
  "kernelspec": {
   "display_name": "Python 3 (ipykernel)",
   "language": "python",
   "name": "python3"
  },
  "language_info": {
   "codemirror_mode": {
    "name": "ipython",
    "version": 3
   },
   "file_extension": ".py",
   "mimetype": "text/x-python",
   "name": "python",
   "nbconvert_exporter": "python",
   "pygments_lexer": "ipython3",
   "version": "3.11.4"
  }
 },
 "nbformat": 4,
 "nbformat_minor": 5
}
