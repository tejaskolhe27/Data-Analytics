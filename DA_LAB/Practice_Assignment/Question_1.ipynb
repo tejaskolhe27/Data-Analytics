{
 "cells": [
  {
   "cell_type": "code",
   "execution_count": 1,
   "id": "38e9ef11",
   "metadata": {},
   "outputs": [],
   "source": [
    "import numpy as np\n",
    "import pandas as pd\n",
    "import matplotlib.pyplot as plt\n",
    "import seaborn as sns"
   ]
  },
  {
   "cell_type": "markdown",
   "id": "ed2ca6b0",
   "metadata": {},
   "source": [
    "a. Read the entire dataset using pandas dataframe and build the file by appending\n",
    "each file in an optimized manner"
   ]
  },
  {
   "cell_type": "code",
   "execution_count": 2,
   "id": "5a055e87",
   "metadata": {},
   "outputs": [],
   "source": [
    "bike03= pd.read_csv(\"201803-fordgobike-tripdata.csv\")\n",
    "bike07= pd.read_csv(\"201807-fordgobike-tripdata.csv\")\n",
    "bike11= pd.read_csv(\"201811-fordgobike-tripdata.csv\")\n",
    "bike12= pd.read_csv(\"201812-fordgobike-tripdata.csv\")"
   ]
  },
  {
   "cell_type": "code",
   "execution_count": 3,
   "id": "9dd7fc5b",
   "metadata": {},
   "outputs": [
    {
     "data": {
      "text/html": [
       "<div>\n",
       "<style scoped>\n",
       "    .dataframe tbody tr th:only-of-type {\n",
       "        vertical-align: middle;\n",
       "    }\n",
       "\n",
       "    .dataframe tbody tr th {\n",
       "        vertical-align: top;\n",
       "    }\n",
       "\n",
       "    .dataframe thead th {\n",
       "        text-align: right;\n",
       "    }\n",
       "</style>\n",
       "<table border=\"1\" class=\"dataframe\">\n",
       "  <thead>\n",
       "    <tr style=\"text-align: right;\">\n",
       "      <th></th>\n",
       "      <th>duration_sec</th>\n",
       "      <th>start_time</th>\n",
       "      <th>end_time</th>\n",
       "      <th>start_station_id</th>\n",
       "      <th>start_station_name</th>\n",
       "      <th>start_station_latitude</th>\n",
       "      <th>start_station_longitude</th>\n",
       "      <th>end_station_id</th>\n",
       "      <th>end_station_name</th>\n",
       "      <th>end_station_latitude</th>\n",
       "      <th>end_station_longitude</th>\n",
       "      <th>bike_id</th>\n",
       "      <th>user_type</th>\n",
       "      <th>member_birth_year</th>\n",
       "      <th>member_gender</th>\n",
       "      <th>bike_share_for_all_trip</th>\n",
       "    </tr>\n",
       "  </thead>\n",
       "  <tbody>\n",
       "    <tr>\n",
       "      <th>0</th>\n",
       "      <td>71766</td>\n",
       "      <td>2018-03-31 16:58:33.1490</td>\n",
       "      <td>2018-04-01 12:54:39.2630</td>\n",
       "      <td>4.0</td>\n",
       "      <td>Cyril Magnin St at Ellis St</td>\n",
       "      <td>37.785881</td>\n",
       "      <td>-122.408915</td>\n",
       "      <td>6.0</td>\n",
       "      <td>The Embarcadero at Sansome St</td>\n",
       "      <td>37.804770</td>\n",
       "      <td>-122.403234</td>\n",
       "      <td>341</td>\n",
       "      <td>Customer</td>\n",
       "      <td>1964.0</td>\n",
       "      <td>Female</td>\n",
       "      <td>No</td>\n",
       "    </tr>\n",
       "    <tr>\n",
       "      <th>1</th>\n",
       "      <td>62569</td>\n",
       "      <td>2018-03-31 19:03:35.9160</td>\n",
       "      <td>2018-04-01 12:26:25.0350</td>\n",
       "      <td>78.0</td>\n",
       "      <td>Folsom St at 9th St</td>\n",
       "      <td>37.773717</td>\n",
       "      <td>-122.411647</td>\n",
       "      <td>47.0</td>\n",
       "      <td>4th St at Harrison St</td>\n",
       "      <td>37.780955</td>\n",
       "      <td>-122.399749</td>\n",
       "      <td>536</td>\n",
       "      <td>Subscriber</td>\n",
       "      <td>1984.0</td>\n",
       "      <td>Male</td>\n",
       "      <td>No</td>\n",
       "    </tr>\n",
       "    <tr>\n",
       "      <th>2</th>\n",
       "      <td>56221</td>\n",
       "      <td>2018-03-31 20:13:13.5640</td>\n",
       "      <td>2018-04-01 11:50:14.8400</td>\n",
       "      <td>258.0</td>\n",
       "      <td>University Ave at Oxford St</td>\n",
       "      <td>37.872355</td>\n",
       "      <td>-122.266447</td>\n",
       "      <td>239.0</td>\n",
       "      <td>Bancroft Way at Telegraph Ave</td>\n",
       "      <td>37.868813</td>\n",
       "      <td>-122.258764</td>\n",
       "      <td>3245</td>\n",
       "      <td>Customer</td>\n",
       "      <td>1983.0</td>\n",
       "      <td>Male</td>\n",
       "      <td>No</td>\n",
       "    </tr>\n",
       "    <tr>\n",
       "      <th>3</th>\n",
       "      <td>85844</td>\n",
       "      <td>2018-03-31 11:28:07.6580</td>\n",
       "      <td>2018-04-01 11:18:52.6130</td>\n",
       "      <td>186.0</td>\n",
       "      <td>Lakeside Dr at 14th St</td>\n",
       "      <td>37.801319</td>\n",
       "      <td>-122.262642</td>\n",
       "      <td>340.0</td>\n",
       "      <td>Harmon St at Adeline St</td>\n",
       "      <td>37.849735</td>\n",
       "      <td>-122.270582</td>\n",
       "      <td>3722</td>\n",
       "      <td>Customer</td>\n",
       "      <td>NaN</td>\n",
       "      <td>NaN</td>\n",
       "      <td>No</td>\n",
       "    </tr>\n",
       "    <tr>\n",
       "      <th>4</th>\n",
       "      <td>1566</td>\n",
       "      <td>2018-03-31 23:37:56.6400</td>\n",
       "      <td>2018-04-01 00:04:02.8930</td>\n",
       "      <td>193.0</td>\n",
       "      <td>Grand Ave at Santa Clara Ave</td>\n",
       "      <td>37.812744</td>\n",
       "      <td>-122.247215</td>\n",
       "      <td>196.0</td>\n",
       "      <td>Grand Ave at Perkins St</td>\n",
       "      <td>37.808894</td>\n",
       "      <td>-122.256460</td>\n",
       "      <td>2355</td>\n",
       "      <td>Subscriber</td>\n",
       "      <td>1979.0</td>\n",
       "      <td>Male</td>\n",
       "      <td>No</td>\n",
       "    </tr>\n",
       "  </tbody>\n",
       "</table>\n",
       "</div>"
      ],
      "text/plain": [
       "   duration_sec                start_time                  end_time  \\\n",
       "0         71766  2018-03-31 16:58:33.1490  2018-04-01 12:54:39.2630   \n",
       "1         62569  2018-03-31 19:03:35.9160  2018-04-01 12:26:25.0350   \n",
       "2         56221  2018-03-31 20:13:13.5640  2018-04-01 11:50:14.8400   \n",
       "3         85844  2018-03-31 11:28:07.6580  2018-04-01 11:18:52.6130   \n",
       "4          1566  2018-03-31 23:37:56.6400  2018-04-01 00:04:02.8930   \n",
       "\n",
       "   start_station_id            start_station_name  start_station_latitude  \\\n",
       "0               4.0   Cyril Magnin St at Ellis St               37.785881   \n",
       "1              78.0           Folsom St at 9th St               37.773717   \n",
       "2             258.0   University Ave at Oxford St               37.872355   \n",
       "3             186.0        Lakeside Dr at 14th St               37.801319   \n",
       "4             193.0  Grand Ave at Santa Clara Ave               37.812744   \n",
       "\n",
       "   start_station_longitude  end_station_id               end_station_name  \\\n",
       "0              -122.408915             6.0  The Embarcadero at Sansome St   \n",
       "1              -122.411647            47.0          4th St at Harrison St   \n",
       "2              -122.266447           239.0  Bancroft Way at Telegraph Ave   \n",
       "3              -122.262642           340.0        Harmon St at Adeline St   \n",
       "4              -122.247215           196.0        Grand Ave at Perkins St   \n",
       "\n",
       "   end_station_latitude  end_station_longitude  bike_id   user_type  \\\n",
       "0             37.804770            -122.403234      341    Customer   \n",
       "1             37.780955            -122.399749      536  Subscriber   \n",
       "2             37.868813            -122.258764     3245    Customer   \n",
       "3             37.849735            -122.270582     3722    Customer   \n",
       "4             37.808894            -122.256460     2355  Subscriber   \n",
       "\n",
       "   member_birth_year member_gender bike_share_for_all_trip  \n",
       "0             1964.0        Female                      No  \n",
       "1             1984.0          Male                      No  \n",
       "2             1983.0          Male                      No  \n",
       "3                NaN           NaN                      No  \n",
       "4             1979.0          Male                      No  "
      ]
     },
     "execution_count": 3,
     "metadata": {},
     "output_type": "execute_result"
    }
   ],
   "source": [
    "bike = pd.concat([bike03,bike07,bike11,bike12],ignore_index=True)\n",
    "bike.head()"
   ]
  },
  {
   "cell_type": "markdown",
   "id": "ab6e0297",
   "metadata": {},
   "source": [
    "b. What was the time duration for the average trip taken? (Use plotting techniques and\n",
    "write your observations for the same.)"
   ]
  },
  {
   "cell_type": "code",
   "execution_count": 4,
   "id": "3096dd46",
   "metadata": {},
   "outputs": [
    {
     "name": "stdout",
     "output_type": "stream",
     "text": [
      "The time duration for average trip taken is: \n"
     ]
    },
    {
     "data": {
      "text/plain": [
       "834.4304272507298"
      ]
     },
     "execution_count": 4,
     "metadata": {},
     "output_type": "execute_result"
    }
   ],
   "source": [
    "print(\"The time duration for average trip taken is: \")\n",
    "bike['duration_sec'].mean()"
   ]
  },
  {
   "cell_type": "code",
   "execution_count": 5,
   "id": "1d3de7e6",
   "metadata": {},
   "outputs": [
    {
     "data": {
      "text/html": [
       "<div>\n",
       "<style scoped>\n",
       "    .dataframe tbody tr th:only-of-type {\n",
       "        vertical-align: middle;\n",
       "    }\n",
       "\n",
       "    .dataframe tbody tr th {\n",
       "        vertical-align: top;\n",
       "    }\n",
       "\n",
       "    .dataframe thead th {\n",
       "        text-align: right;\n",
       "    }\n",
       "</style>\n",
       "<table border=\"1\" class=\"dataframe\">\n",
       "  <thead>\n",
       "    <tr style=\"text-align: right;\">\n",
       "      <th></th>\n",
       "      <th>duration_sec</th>\n",
       "    </tr>\n",
       "    <tr>\n",
       "      <th>start_station_name</th>\n",
       "      <th></th>\n",
       "    </tr>\n",
       "  </thead>\n",
       "  <tbody>\n",
       "    <tr>\n",
       "      <th>10th Ave at E 15th St</th>\n",
       "      <td>884.789030</td>\n",
       "    </tr>\n",
       "    <tr>\n",
       "      <th>10th St at Fallon St</th>\n",
       "      <td>887.089826</td>\n",
       "    </tr>\n",
       "    <tr>\n",
       "      <th>10th St at University Ave</th>\n",
       "      <td>1279.309764</td>\n",
       "    </tr>\n",
       "    <tr>\n",
       "      <th>11th St at Bryant St</th>\n",
       "      <td>691.960540</td>\n",
       "    </tr>\n",
       "    <tr>\n",
       "      <th>11th St at Natoma St</th>\n",
       "      <td>651.198266</td>\n",
       "    </tr>\n",
       "    <tr>\n",
       "      <th>...</th>\n",
       "      <td>...</td>\n",
       "    </tr>\n",
       "    <tr>\n",
       "      <th>Williams Ave at Apollo St</th>\n",
       "      <td>1672.000000</td>\n",
       "    </tr>\n",
       "    <tr>\n",
       "      <th>Willow St at Vine St</th>\n",
       "      <td>946.000000</td>\n",
       "    </tr>\n",
       "    <tr>\n",
       "      <th>Woolsey St at Sacramento St</th>\n",
       "      <td>755.208861</td>\n",
       "    </tr>\n",
       "    <tr>\n",
       "      <th>Woolsey St at Sacramento St1</th>\n",
       "      <td>619.511719</td>\n",
       "    </tr>\n",
       "    <tr>\n",
       "      <th>Yerba Buena Center for the Arts (Howard St at 3rd St)</th>\n",
       "      <td>896.107043</td>\n",
       "    </tr>\n",
       "  </tbody>\n",
       "</table>\n",
       "<p>339 rows × 1 columns</p>\n",
       "</div>"
      ],
      "text/plain": [
       "                                                    duration_sec\n",
       "start_station_name                                              \n",
       "10th Ave at E 15th St                                 884.789030\n",
       "10th St at Fallon St                                  887.089826\n",
       "10th St at University Ave                            1279.309764\n",
       "11th St at Bryant St                                  691.960540\n",
       "11th St at Natoma St                                  651.198266\n",
       "...                                                          ...\n",
       "Williams Ave at Apollo St                            1672.000000\n",
       "Willow St at Vine St                                  946.000000\n",
       "Woolsey St at Sacramento St                           755.208861\n",
       "Woolsey St at Sacramento St1                          619.511719\n",
       "Yerba Buena Center for the Arts (Howard St at 3...    896.107043\n",
       "\n",
       "[339 rows x 1 columns]"
      ]
     },
     "execution_count": 5,
     "metadata": {},
     "output_type": "execute_result"
    }
   ],
   "source": [
    "group  = pd.DataFrame(bike.groupby('start_station_name')['duration_sec'].mean())\n",
    "group"
   ]
  },
  {
   "cell_type": "code",
   "execution_count": 6,
   "id": "d5534e65",
   "metadata": {},
   "outputs": [
    {
     "name": "stderr",
     "output_type": "stream",
     "text": [
      "/tmp/ipykernel_24911/3245531965.py:1: UserWarning: \n",
      "\n",
      "`distplot` is a deprecated function and will be removed in seaborn v0.14.0.\n",
      "\n",
      "Please adapt your code to use either `displot` (a figure-level function with\n",
      "similar flexibility) or `histplot` (an axes-level function for histograms).\n",
      "\n",
      "For a guide to updating your code to use the new functions, please see\n",
      "https://gist.github.com/mwaskom/de44147ed2974457ad6372750bbe5751\n",
      "\n",
      "  sns.distplot(group['duration_sec'],kde=True)\n"
     ]
    },
    {
     "data": {
      "image/png": "[encoded data removed]",
      "text/plain": [
       "<Figure size 640x480 with 1 Axes>"
      ]
     },
     "metadata": {},
     "output_type": "display_data"
    }
   ],
   "source": [
    "sns.distplot(group['duration_sec'],kde=True)\n",
    "plt.show()"
   ]
  },
  {
   "cell_type": "markdown",
   "id": "6daa5933",
   "metadata": {},
   "source": [
    "c. Is there any correlation between the months and the trip duration? Use scatter plot\n",
    "and comment your observations from the plot"
   ]
  },
  {
   "cell_type": "code",
   "execution_count": 7,
   "id": "61e67437",
   "metadata": {},
   "outputs": [
    {
     "name": "stdout",
     "output_type": "stream",
     "text": [
      "<class 'pandas.core.frame.DataFrame'>\n",
      "RangeIndex: 576102 entries, 0 to 576101\n",
      "Data columns (total 16 columns):\n",
      " #   Column                   Non-Null Count   Dtype         \n",
      "---  ------                   --------------   -----         \n",
      " 0   duration_sec             576102 non-null  int64         \n",
      " 1   start_time               576102 non-null  datetime64[ns]\n",
      " 2   end_time                 576102 non-null  object        \n",
      " 3   start_station_id         572242 non-null  float64       \n",
      " 4   start_station_name       572242 non-null  object        \n",
      " 5   start_station_latitude   576102 non-null  float64       \n",
      " 6   start_station_longitude  576102 non-null  float64       \n",
      " 7   end_station_id           572242 non-null  float64       \n",
      " 8   end_station_name         572242 non-null  object        \n",
      " 9   end_station_latitude     576102 non-null  float64       \n",
      " 10  end_station_longitude    576102 non-null  float64       \n",
      " 11  bike_id                  576102 non-null  int64         \n",
      " 12  user_type                576102 non-null  object        \n",
      " 13  member_birth_year        544529 non-null  float64       \n",
      " 14  member_gender            544606 non-null  object        \n",
      " 15  bike_share_for_all_trip  576102 non-null  object        \n",
      "dtypes: datetime64[ns](1), float64(7), int64(2), object(6)\n",
      "memory usage: 70.3+ MB\n"
     ]
    }
   ],
   "source": [
    "bike['start_time']=pd.to_datetime(bike['start_time'],errors='coerce')\n",
    "bike.info()"
   ]
  },
  {
   "cell_type": "code",
   "execution_count": 8,
   "id": "33afcc26",
   "metadata": {},
   "outputs": [
    {
     "data": {
      "text/html": [
       "<div>\n",
       "<style scoped>\n",
       "    .dataframe tbody tr th:only-of-type {\n",
       "        vertical-align: middle;\n",
       "    }\n",
       "\n",
       "    .dataframe tbody tr th {\n",
       "        vertical-align: top;\n",
       "    }\n",
       "\n",
       "    .dataframe thead th {\n",
       "        text-align: right;\n",
       "    }\n",
       "</style>\n",
       "<table border=\"1\" class=\"dataframe\">\n",
       "  <thead>\n",
       "    <tr style=\"text-align: right;\">\n",
       "      <th></th>\n",
       "      <th>duration_sec</th>\n",
       "      <th>start_time</th>\n",
       "      <th>end_time</th>\n",
       "      <th>start_station_id</th>\n",
       "      <th>start_station_name</th>\n",
       "      <th>start_station_latitude</th>\n",
       "      <th>start_station_longitude</th>\n",
       "      <th>end_station_id</th>\n",
       "      <th>end_station_name</th>\n",
       "      <th>end_station_latitude</th>\n",
       "      <th>end_station_longitude</th>\n",
       "      <th>bike_id</th>\n",
       "      <th>user_type</th>\n",
       "      <th>member_birth_year</th>\n",
       "      <th>member_gender</th>\n",
       "      <th>bike_share_for_all_trip</th>\n",
       "    </tr>\n",
       "  </thead>\n",
       "  <tbody>\n",
       "    <tr>\n",
       "      <th>0</th>\n",
       "      <td>71766</td>\n",
       "      <td>2018-03-31 16:58:33.149</td>\n",
       "      <td>2018-04-01 12:54:39.2630</td>\n",
       "      <td>4.0</td>\n",
       "      <td>Cyril Magnin St at Ellis St</td>\n",
       "      <td>37.785881</td>\n",
       "      <td>-122.408915</td>\n",
       "      <td>6.0</td>\n",
       "      <td>The Embarcadero at Sansome St</td>\n",
       "      <td>37.804770</td>\n",
       "      <td>-122.403234</td>\n",
       "      <td>341</td>\n",
       "      <td>Customer</td>\n",
       "      <td>1964.0</td>\n",
       "      <td>Female</td>\n",
       "      <td>No</td>\n",
       "    </tr>\n",
       "    <tr>\n",
       "      <th>1</th>\n",
       "      <td>62569</td>\n",
       "      <td>2018-03-31 19:03:35.916</td>\n",
       "      <td>2018-04-01 12:26:25.0350</td>\n",
       "      <td>78.0</td>\n",
       "      <td>Folsom St at 9th St</td>\n",
       "      <td>37.773717</td>\n",
       "      <td>-122.411647</td>\n",
       "      <td>47.0</td>\n",
       "      <td>4th St at Harrison St</td>\n",
       "      <td>37.780955</td>\n",
       "      <td>-122.399749</td>\n",
       "      <td>536</td>\n",
       "      <td>Subscriber</td>\n",
       "      <td>1984.0</td>\n",
       "      <td>Male</td>\n",
       "      <td>No</td>\n",
       "    </tr>\n",
       "    <tr>\n",
       "      <th>2</th>\n",
       "      <td>56221</td>\n",
       "      <td>2018-03-31 20:13:13.564</td>\n",
       "      <td>2018-04-01 11:50:14.8400</td>\n",
       "      <td>258.0</td>\n",
       "      <td>University Ave at Oxford St</td>\n",
       "      <td>37.872355</td>\n",
       "      <td>-122.266447</td>\n",
       "      <td>239.0</td>\n",
       "      <td>Bancroft Way at Telegraph Ave</td>\n",
       "      <td>37.868813</td>\n",
       "      <td>-122.258764</td>\n",
       "      <td>3245</td>\n",
       "      <td>Customer</td>\n",
       "      <td>1983.0</td>\n",
       "      <td>Male</td>\n",
       "      <td>No</td>\n",
       "    </tr>\n",
       "    <tr>\n",
       "      <th>3</th>\n",
       "      <td>85844</td>\n",
       "      <td>2018-03-31 11:28:07.658</td>\n",
       "      <td>2018-04-01 11:18:52.6130</td>\n",
       "      <td>186.0</td>\n",
       "      <td>Lakeside Dr at 14th St</td>\n",
       "      <td>37.801319</td>\n",
       "      <td>-122.262642</td>\n",
       "      <td>340.0</td>\n",
       "      <td>Harmon St at Adeline St</td>\n",
       "      <td>37.849735</td>\n",
       "      <td>-122.270582</td>\n",
       "      <td>3722</td>\n",
       "      <td>Customer</td>\n",
       "      <td>NaN</td>\n",
       "      <td>NaN</td>\n",
       "      <td>No</td>\n",
       "    </tr>\n",
       "    <tr>\n",
       "      <th>4</th>\n",
       "      <td>1566</td>\n",
       "      <td>2018-03-31 23:37:56.640</td>\n",
       "      <td>2018-04-01 00:04:02.8930</td>\n",
       "      <td>193.0</td>\n",
       "      <td>Grand Ave at Santa Clara Ave</td>\n",
       "      <td>37.812744</td>\n",
       "      <td>-122.247215</td>\n",
       "      <td>196.0</td>\n",
       "      <td>Grand Ave at Perkins St</td>\n",
       "      <td>37.808894</td>\n",
       "      <td>-122.256460</td>\n",
       "      <td>2355</td>\n",
       "      <td>Subscriber</td>\n",
       "      <td>1979.0</td>\n",
       "      <td>Male</td>\n",
       "      <td>No</td>\n",
       "    </tr>\n",
       "  </tbody>\n",
       "</table>\n",
       "</div>"
      ],
      "text/plain": [
       "   duration_sec              start_time                  end_time  \\\n",
       "0         71766 2018-03-31 16:58:33.149  2018-04-01 12:54:39.2630   \n",
       "1         62569 2018-03-31 19:03:35.916  2018-04-01 12:26:25.0350   \n",
       "2         56221 2018-03-31 20:13:13.564  2018-04-01 11:50:14.8400   \n",
       "3         85844 2018-03-31 11:28:07.658  2018-04-01 11:18:52.6130   \n",
       "4          1566 2018-03-31 23:37:56.640  2018-04-01 00:04:02.8930   \n",
       "\n",
       "   start_station_id            start_station_name  start_station_latitude  \\\n",
       "0               4.0   Cyril Magnin St at Ellis St               37.785881   \n",
       "1              78.0           Folsom St at 9th St               37.773717   \n",
       "2             258.0   University Ave at Oxford St               37.872355   \n",
       "3             186.0        Lakeside Dr at 14th St               37.801319   \n",
       "4             193.0  Grand Ave at Santa Clara Ave               37.812744   \n",
       "\n",
       "   start_station_longitude  end_station_id               end_station_name  \\\n",
       "0              -122.408915             6.0  The Embarcadero at Sansome St   \n",
       "1              -122.411647            47.0          4th St at Harrison St   \n",
       "2              -122.266447           239.0  Bancroft Way at Telegraph Ave   \n",
       "3              -122.262642           340.0        Harmon St at Adeline St   \n",
       "4              -122.247215           196.0        Grand Ave at Perkins St   \n",
       "\n",
       "   end_station_latitude  end_station_longitude  bike_id   user_type  \\\n",
       "0             37.804770            -122.403234      341    Customer   \n",
       "1             37.780955            -122.399749      536  Subscriber   \n",
       "2             37.868813            -122.258764     3245    Customer   \n",
       "3             37.849735            -122.270582     3722    Customer   \n",
       "4             37.808894            -122.256460     2355  Subscriber   \n",
       "\n",
       "   member_birth_year member_gender bike_share_for_all_trip  \n",
       "0             1964.0        Female                      No  \n",
       "1             1984.0          Male                      No  \n",
       "2             1983.0          Male                      No  \n",
       "3                NaN           NaN                      No  \n",
       "4             1979.0          Male                      No  "
      ]
     },
     "execution_count": 8,
     "metadata": {},
     "output_type": "execute_result"
    }
   ],
   "source": [
    "bike.head()"
   ]
  },
  {
   "cell_type": "code",
   "execution_count": 9,
   "id": "d3c52d7f",
   "metadata": {},
   "outputs": [
    {
     "data": {
      "text/html": [
       "<div>\n",
       "<style scoped>\n",
       "    .dataframe tbody tr th:only-of-type {\n",
       "        vertical-align: middle;\n",
       "    }\n",
       "\n",
       "    .dataframe tbody tr th {\n",
       "        vertical-align: top;\n",
       "    }\n",
       "\n",
       "    .dataframe thead th {\n",
       "        text-align: right;\n",
       "    }\n",
       "</style>\n",
       "<table border=\"1\" class=\"dataframe\">\n",
       "  <thead>\n",
       "    <tr style=\"text-align: right;\">\n",
       "      <th></th>\n",
       "      <th>duration_sec</th>\n",
       "      <th>start_time</th>\n",
       "      <th>end_time</th>\n",
       "      <th>start_station_id</th>\n",
       "      <th>start_station_name</th>\n",
       "      <th>start_station_latitude</th>\n",
       "      <th>start_station_longitude</th>\n",
       "      <th>end_station_id</th>\n",
       "      <th>end_station_name</th>\n",
       "      <th>end_station_latitude</th>\n",
       "      <th>end_station_longitude</th>\n",
       "      <th>bike_id</th>\n",
       "      <th>user_type</th>\n",
       "      <th>member_birth_year</th>\n",
       "      <th>member_gender</th>\n",
       "      <th>bike_share_for_all_trip</th>\n",
       "      <th>month</th>\n",
       "    </tr>\n",
       "  </thead>\n",
       "  <tbody>\n",
       "    <tr>\n",
       "      <th>576097</th>\n",
       "      <td>473</td>\n",
       "      <td>2018-12-01 00:11:54.811</td>\n",
       "      <td>2018-12-01 00:19:48.5470</td>\n",
       "      <td>345.0</td>\n",
       "      <td>Hubbell St at 16th St</td>\n",
       "      <td>37.766474</td>\n",
       "      <td>-122.398295</td>\n",
       "      <td>81.0</td>\n",
       "      <td>Berry St at 4th St</td>\n",
       "      <td>37.775880</td>\n",
       "      <td>-122.393170</td>\n",
       "      <td>3035</td>\n",
       "      <td>Subscriber</td>\n",
       "      <td>1982.0</td>\n",
       "      <td>Female</td>\n",
       "      <td>No</td>\n",
       "      <td>12</td>\n",
       "    </tr>\n",
       "    <tr>\n",
       "      <th>576098</th>\n",
       "      <td>841</td>\n",
       "      <td>2018-12-01 00:02:48.726</td>\n",
       "      <td>2018-12-01 00:16:49.7660</td>\n",
       "      <td>10.0</td>\n",
       "      <td>Washington St at Kearny St</td>\n",
       "      <td>37.795393</td>\n",
       "      <td>-122.404770</td>\n",
       "      <td>58.0</td>\n",
       "      <td>Market St at 10th St</td>\n",
       "      <td>37.776619</td>\n",
       "      <td>-122.417385</td>\n",
       "      <td>2034</td>\n",
       "      <td>Subscriber</td>\n",
       "      <td>1999.0</td>\n",
       "      <td>Female</td>\n",
       "      <td>No</td>\n",
       "      <td>12</td>\n",
       "    </tr>\n",
       "    <tr>\n",
       "      <th>576099</th>\n",
       "      <td>260</td>\n",
       "      <td>2018-12-01 00:05:27.615</td>\n",
       "      <td>2018-12-01 00:09:47.9560</td>\n",
       "      <td>245.0</td>\n",
       "      <td>Downtown Berkeley BART</td>\n",
       "      <td>37.870139</td>\n",
       "      <td>-122.268422</td>\n",
       "      <td>255.0</td>\n",
       "      <td>Virginia St at Shattuck Ave</td>\n",
       "      <td>37.876573</td>\n",
       "      <td>-122.269528</td>\n",
       "      <td>2243</td>\n",
       "      <td>Subscriber</td>\n",
       "      <td>1991.0</td>\n",
       "      <td>Male</td>\n",
       "      <td>No</td>\n",
       "      <td>12</td>\n",
       "    </tr>\n",
       "    <tr>\n",
       "      <th>576100</th>\n",
       "      <td>292</td>\n",
       "      <td>2018-12-01 00:03:06.549</td>\n",
       "      <td>2018-12-01 00:07:59.0800</td>\n",
       "      <td>93.0</td>\n",
       "      <td>4th St at Mission Bay Blvd S</td>\n",
       "      <td>37.770407</td>\n",
       "      <td>-122.391198</td>\n",
       "      <td>126.0</td>\n",
       "      <td>Esprit Park</td>\n",
       "      <td>37.761634</td>\n",
       "      <td>-122.390648</td>\n",
       "      <td>545</td>\n",
       "      <td>Subscriber</td>\n",
       "      <td>1963.0</td>\n",
       "      <td>Male</td>\n",
       "      <td>No</td>\n",
       "      <td>12</td>\n",
       "    </tr>\n",
       "    <tr>\n",
       "      <th>576101</th>\n",
       "      <td>150</td>\n",
       "      <td>2018-12-01 00:03:05.742</td>\n",
       "      <td>2018-12-01 00:05:36.0260</td>\n",
       "      <td>107.0</td>\n",
       "      <td>17th St at Dolores St</td>\n",
       "      <td>37.763015</td>\n",
       "      <td>-122.426497</td>\n",
       "      <td>119.0</td>\n",
       "      <td>18th St at Noe St</td>\n",
       "      <td>37.761047</td>\n",
       "      <td>-122.432642</td>\n",
       "      <td>4319</td>\n",
       "      <td>Subscriber</td>\n",
       "      <td>NaN</td>\n",
       "      <td>NaN</td>\n",
       "      <td>No</td>\n",
       "      <td>12</td>\n",
       "    </tr>\n",
       "  </tbody>\n",
       "</table>\n",
       "</div>"
      ],
      "text/plain": [
       "        duration_sec              start_time                  end_time  \\\n",
       "576097           473 2018-12-01 00:11:54.811  2018-12-01 00:19:48.5470   \n",
       "576098           841 2018-12-01 00:02:48.726  2018-12-01 00:16:49.7660   \n",
       "576099           260 2018-12-01 00:05:27.615  2018-12-01 00:09:47.9560   \n",
       "576100           292 2018-12-01 00:03:06.549  2018-12-01 00:07:59.0800   \n",
       "576101           150 2018-12-01 00:03:05.742  2018-12-01 00:05:36.0260   \n",
       "\n",
       "        start_station_id            start_station_name  \\\n",
       "576097             345.0         Hubbell St at 16th St   \n",
       "576098              10.0    Washington St at Kearny St   \n",
       "576099             245.0        Downtown Berkeley BART   \n",
       "576100              93.0  4th St at Mission Bay Blvd S   \n",
       "576101             107.0         17th St at Dolores St   \n",
       "\n",
       "        start_station_latitude  start_station_longitude  end_station_id  \\\n",
       "576097               37.766474              -122.398295            81.0   \n",
       "576098               37.795393              -122.404770            58.0   \n",
       "576099               37.870139              -122.268422           255.0   \n",
       "576100               37.770407              -122.391198           126.0   \n",
       "576101               37.763015              -122.426497           119.0   \n",
       "\n",
       "                   end_station_name  end_station_latitude  \\\n",
       "576097           Berry St at 4th St             37.775880   \n",
       "576098         Market St at 10th St             37.776619   \n",
       "576099  Virginia St at Shattuck Ave             37.876573   \n",
       "576100                  Esprit Park             37.761634   \n",
       "576101            18th St at Noe St             37.761047   \n",
       "\n",
       "        end_station_longitude  bike_id   user_type  member_birth_year  \\\n",
       "576097            -122.393170     3035  Subscriber             1982.0   \n",
       "576098            -122.417385     2034  Subscriber             1999.0   \n",
       "576099            -122.269528     2243  Subscriber             1991.0   \n",
       "576100            -122.390648      545  Subscriber             1963.0   \n",
       "576101            -122.432642     4319  Subscriber                NaN   \n",
       "\n",
       "       member_gender bike_share_for_all_trip  month  \n",
       "576097        Female                      No     12  \n",
       "576098        Female                      No     12  \n",
       "576099          Male                      No     12  \n",
       "576100          Male                      No     12  \n",
       "576101           NaN                      No     12  "
      ]
     },
     "execution_count": 9,
     "metadata": {},
     "output_type": "execute_result"
    }
   ],
   "source": [
    "bike['month'] = bike['start_time'].dt.month\n",
    "bike.tail()"
   ]
  },
  {
   "cell_type": "code",
   "execution_count": 10,
   "id": "72f00644",
   "metadata": {},
   "outputs": [
    {
     "data": {
      "image/png": "[encoded data removed]",
      "text/plain": [
       "<Figure size 640x480 with 1 Axes>"
      ]
     },
     "metadata": {},
     "output_type": "display_data"
    }
   ],
   "source": [
    "sns.scatterplot(data=bike,x=bike['duration_sec'],y=bike['month'])\n",
    "plt.show()"
   ]
  },
  {
   "cell_type": "markdown",
   "id": "5e59d441",
   "metadata": {},
   "source": [
    "### From the above scatterplot we can conclude that trip's duration is not dependant on the month"
   ]
  },
  {
   "cell_type": "code",
   "execution_count": null,
   "id": "49888c21",
   "metadata": {},
   "outputs": [],
   "source": []
  },
  {
   "cell_type": "markdown",
   "id": "e5a0e255",
   "metadata": {},
   "source": [
    "d. Do seasons affect the duration of a trip ? Comment your observations."
   ]
  },
  {
   "cell_type": "code",
   "execution_count": 11,
   "id": "02a218bf",
   "metadata": {},
   "outputs": [
    {
     "data": {
      "text/html": [
       "<div>\n",
       "<style scoped>\n",
       "    .dataframe tbody tr th:only-of-type {\n",
       "        vertical-align: middle;\n",
       "    }\n",
       "\n",
       "    .dataframe tbody tr th {\n",
       "        vertical-align: top;\n",
       "    }\n",
       "\n",
       "    .dataframe thead th {\n",
       "        text-align: right;\n",
       "    }\n",
       "</style>\n",
       "<table border=\"1\" class=\"dataframe\">\n",
       "  <thead>\n",
       "    <tr style=\"text-align: right;\">\n",
       "      <th></th>\n",
       "      <th>duration_sec</th>\n",
       "    </tr>\n",
       "    <tr>\n",
       "      <th>month</th>\n",
       "      <th></th>\n",
       "    </tr>\n",
       "  </thead>\n",
       "  <tbody>\n",
       "    <tr>\n",
       "      <th>3</th>\n",
       "      <td>870.649899</td>\n",
       "    </tr>\n",
       "    <tr>\n",
       "      <th>7</th>\n",
       "      <td>907.710589</td>\n",
       "    </tr>\n",
       "    <tr>\n",
       "      <th>11</th>\n",
       "      <td>757.954031</td>\n",
       "    </tr>\n",
       "    <tr>\n",
       "      <th>12</th>\n",
       "      <td>770.675365</td>\n",
       "    </tr>\n",
       "  </tbody>\n",
       "</table>\n",
       "</div>"
      ],
      "text/plain": [
       "       duration_sec\n",
       "month              \n",
       "3        870.649899\n",
       "7        907.710589\n",
       "11       757.954031\n",
       "12       770.675365"
      ]
     },
     "execution_count": 11,
     "metadata": {},
     "output_type": "execute_result"
    }
   ],
   "source": [
    "group = pd.DataFrame(bike.groupby('month')['duration_sec'].mean())\n",
    "group"
   ]
  },
  {
   "cell_type": "code",
   "execution_count": 12,
   "id": "af305049",
   "metadata": {},
   "outputs": [
    {
     "data": {
      "image/png": "[encoded data removed]",
      "text/plain": [
       "<Figure size 640x480 with 1 Axes>"
      ]
     },
     "metadata": {},
     "output_type": "display_data"
    }
   ],
   "source": [
    "sns.barplot(data=group,x=group.index,y=group['duration_sec'])\n",
    "plt.xticks(ticks=np.arange(4),labels=['March','July','November','December'])\n",
    "plt.show()"
   ]
  },
  {
   "cell_type": "markdown",
   "id": "11bd3546",
   "metadata": {},
   "source": [
    "### In the month of July the trip duration is highest, so during the Summer season there are longer trips taken"
   ]
  },
  {
   "cell_type": "markdown",
   "id": "76498dfb",
   "metadata": {},
   "source": [
    "e. Using multivariate exploration, explain whether there is any relation between short\n",
    "trips and the users."
   ]
  },
  {
   "cell_type": "code",
   "execution_count": 13,
   "id": "ad8d00e2",
   "metadata": {},
   "outputs": [
    {
     "data": {
      "text/plain": [
       "user_type\n",
       "Subscriber    493497\n",
       "Customer       82605\n",
       "Name: count, dtype: int64"
      ]
     },
     "execution_count": 13,
     "metadata": {},
     "output_type": "execute_result"
    }
   ],
   "source": [
    "bike['user_type'].value_counts()"
   ]
  },
  {
   "cell_type": "code",
   "execution_count": 17,
   "id": "52ba4817",
   "metadata": {},
   "outputs": [],
   "source": [
    "bike['end_time']=pd.to_datetime(bike['end_time'],errors='coerce')"
   ]
  },
  {
   "cell_type": "code",
   "execution_count": 18,
   "id": "843c0b4d",
   "metadata": {},
   "outputs": [
    {
     "data": {
      "text/plain": [
       "(540767, 17)"
      ]
     },
     "execution_count": 18,
     "metadata": {},
     "output_type": "execute_result"
    }
   ],
   "source": [
    "bike.dropna(inplace = True)\n",
    "bike.shape"
   ]
  },
  {
   "cell_type": "code",
   "execution_count": 21,
   "id": "388f2324",
   "metadata": {},
   "outputs": [
    {
     "data": {
      "image/png": "[encoded data removed]",
      "text/plain": [
       "<Figure size 640x480 with 1 Axes>"
      ]
     },
     "metadata": {},
     "output_type": "display_data"
    }
   ],
   "source": [
    "sns.barplot(x='user_type',y='duration_sec',data=bike,hue='member_gender')\n",
    "plt.show()"
   ]
  },
  {
   "cell_type": "code",
   "execution_count": null,
   "id": "4f328646",
   "metadata": {},
   "outputs": [],
   "source": []
  }
 ],
 "metadata": {
  "kernelspec": {
   "display_name": "Python 3 (ipykernel)",
   "language": "python",
   "name": "python3"
  },
  "language_info": {
   "codemirror_mode": {
    "name": "ipython",
    "version": 3
   },
   "file_extension": ".py",
   "mimetype": "text/x-python",
   "name": "python",
   "nbconvert_exporter": "python",
   "pygments_lexer": "ipython3",
   "version": "3.11.4"
  }
 },
 "nbformat": 4,
 "nbformat_minor": 5
}
